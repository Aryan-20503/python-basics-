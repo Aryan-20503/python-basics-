{
  "nbformat": 4,
  "nbformat_minor": 0,
  "metadata": {
    "colab": {
      "provenance": []
    },
    "kernelspec": {
      "name": "python3",
      "display_name": "Python 3"
    },
    "language_info": {
      "name": "python"
    }
  },
  "cells": [
    {
      "cell_type": "markdown",
      "source": [
        "**Question 1: What is a random variable in probability theory?**\n",
        "\n",
        "A random variable in probability theory is a variable that takes on numerical values determined by the outcome of a random experiment. It is a function that assigns a real number to each possible outcome in the sample space. There are two types: Discrete Random Variable – takes countable values (e.g., number of heads in 3 coin tosses).\n",
        "\n",
        "Continuous Random Variable – takes values from a continuous range (e.g., height of a person, temperature).\n",
        "\n",
        "It essentially quantifies uncertainty by assigning numbers to outcomes.\n",
        "\n"
      ],
      "metadata": {
        "id": "ka4Z8jTVBaDN"
      }
    },
    {
      "cell_type": "markdown",
      "source": [
        "**Question 2: What are the types of random variables?**\n",
        "\n",
        "There are two main types of random variables:\n",
        "\n",
        "Discrete Random Variable\n",
        "\n",
        "- Takes countable values (finite or countably infinite).\n",
        "\n",
        "- Example: Number of heads when tossing 3 coins (0, 1, 2, 3).\n",
        "\n",
        "- Often represented using a probability mass function (PMF).\n",
        "\n",
        "Continuous Random Variable\n",
        "\n",
        "- Takes uncountable values, usually from an interval of real numbers.\n",
        "\n",
        "- Example: Height of a person, time taken to complete a task.\n",
        "\n",
        "- Described using a probability density function (PDF).\n",
        "\n",
        "- Sometimes, a third type is mentioned: Mixed Random Variable, which has both discrete and continuous components."
      ],
      "metadata": {
        "id": "_A0II70BBaAi"
      }
    },
    {
      "cell_type": "markdown",
      "source": [
        "**Question 3: Explain the difference between discrete and continuous distributions.**\n",
        "\n",
        "Discrete distribution :- A discrete distribution is for random variables that take countable values, like the number of heads in coin tosses, and is represented by a probability mass function (PMF).\n",
        "\n",
        " Continuous distribution:- A continuous distribution is for random variables that take any value in a range, like height or weight, and is represented by a probability density function (PDF), where probabilities are measured over intervals rather than exact values."
      ],
      "metadata": {
        "id": "VGLGb1X4BZ6n"
      }
    },
    {
      "cell_type": "markdown",
      "source": [
        "**Question 4: What is a binomial distribution, and how is it used in probability?**\n",
        "\n",
        "A binomial distribution is a probability distribution that represents the number of successes in a fixed number of independent trials, where each trial has only two possible outcomes—success or failure—and the probability of success ppp remains constant. It is used in probability to calculate the likelihood of a certain number of successes in scenarios such as:\n",
        "- Tossing a coin multiple times and counting the number of heads.\n",
        "\n",
        "- Determining how many students pass an exam out of a fixed group.\n",
        "\n",
        "- Checking the number of defective items in a batch during quality control."
      ],
      "metadata": {
        "id": "QIIrpR-KBZxC"
      }
    },
    {
      "cell_type": "markdown",
      "source": [
        "**Question 5: What is the standard normal distribution, and why is it important?**\n",
        "\n",
        "The standard normal distribution is a special type of normal distribution with a mean of 0 and a standard deviation of 1. It is symmetric about the mean and has the familiar bell-shaped curve.\n",
        "It is important because:\n",
        "- It simplifies calculations by allowing any normal distribution to be converted into the standard form using z-scores.\n",
        "\n",
        "\n",
        "- It is widely used in statistical inference, such as hypothesis testing and confidence intervals.\n",
        "\n",
        "\n",
        "- It provides a reference for probabilities and helps compare values from different normal distributions\n"
      ],
      "metadata": {
        "id": "UzWTIRmDC9AW"
      }
    },
    {
      "cell_type": "markdown",
      "source": [
        "**Question 6: What is the Central Limit Theorem (CLT), and why is it critical in statistics?**\n",
        "\n",
        "The Central Limit Theorem (CLT) states that, regardless of the population’s original distribution, the sampling distribution of the sample mean will approximate a normal distribution as the sample size becomes large (usually n≥30n \\geq 30n≥30), with mean equal to the population mean and standard deviation equal to the population standard deviation divided by the square root of the sample size.\n",
        "\n",
        "It is critical in statistics because:\n",
        "-  It justifies using the normal distribution for inference even when the population is not normal.\n",
        "\n",
        "\n",
        "- It allows statisticians to estimate probabilities, confidence intervals, and conduct hypothesis tests using sample data.\n",
        "\n",
        "\n",
        "- It forms the foundation for many statistical methods, making it essential for practical applications in data analysis and research.\n"
      ],
      "metadata": {
        "id": "lUjb-3esC877"
      }
    },
    {
      "cell_type": "markdown",
      "source": [
        "**Question 7: What is the significance of confidence intervals in statistical analysis?**\n",
        "\n",
        "Confidence intervals (CIs) are a range of values, derived from sample data, that are likely to contain the true population parameter (like the mean or proportion) with a specified level of confidence (e.g., 95%).\n",
        "The significance of confidence intervals in statistical analysis is:\n",
        "\n",
        "1. They provide an estimate of uncertainty around a sample statistic.\n",
        "\n",
        "2. They allow researchers to make informed decisions about the population without measuring every member.\n",
        "\n",
        "\n",
        "3. They help in hypothesis testing by showing the range of plausible values for the parameter.\n",
        "\n",
        "\n",
        "4. They are more informative than a single point estimate because they quantify precision\n"
      ],
      "metadata": {
        "id": "dNf7EnhEC84e"
      }
    },
    {
      "cell_type": "markdown",
      "source": [
        "\n",
        "**Question 8: What is the concept of expected value in a probability distribution?**\n",
        "\n",
        "  \n",
        "The expected value of a probability distribution is the average value you would expect if you repeated the random experiment many times. It gives a sense of the center or typical outcome of the distribution.\n",
        "\n",
        "For example, if you roll a fair six-sided die many times, the expected value is the average number you would get over a large number of rolls, which is 3.5.\n",
        "\n"
      ],
      "metadata": {
        "id": "StiIvZPiC808"
      }
    },
    {
      "cell_type": "markdown",
      "source": [
        "**Question 9: Write a Python program to generate 1000 random numbers from a normal  distribution with mean = 50 and standard deviation = 5. Compute its mean and standard  deviation using NumPy, and draw a histogram to visualize the distribution. (Include your Python code and output in the code box below.)**\n",
        "\n"
      ],
      "metadata": {
        "id": "PNteAmGDC8xD"
      }
    },
    {
      "cell_type": "code",
      "execution_count": 1,
      "metadata": {
        "colab": {
          "base_uri": "https://localhost:8080/",
          "height": 507
        },
        "id": "CoYcrGT2BPMa",
        "outputId": "47922e2b-c873-4881-a946-a78a19c69942"
      },
      "outputs": [
        {
          "output_type": "stream",
          "name": "stdout",
          "text": [
            "Calculated Mean: 49.87460528704448\n",
            "Calculated Standard Deviation: 4.940473372871355\n"
          ]
        },
        {
          "output_type": "display_data",
          "data": {
            "text/plain": [
              "<Figure size 640x480 with 1 Axes>"
            ],
            "image/png": "[encoded data removed]"
          },
          "metadata": {}
        }
      ],
      "source": [
        "#CODE :-\n",
        "# Import necessary libraries\n",
        "import numpy as np\n",
        "import matplotlib.pyplot as plt\n",
        "\n",
        "# Set parameters for the normal distribution\n",
        "mean = 50\n",
        "std_dev = 5\n",
        "size = 1000\n",
        "\n",
        "# Generate 1000 random numbers from the normal distribution\n",
        "data = np.random.normal(mean, std_dev, size)\n",
        "\n",
        "# Compute mean and standard deviation using NumPy\n",
        "calculated_mean = np.mean(data)\n",
        "calculated_std = np.std(data)\n",
        "\n",
        "print(f\"Calculated Mean: {calculated_mean}\")\n",
        "print(f\"Calculated Standard Deviation: {calculated_std}\")\n",
        "\n",
        "# Draw a histogram to visualize the distribution\n",
        "plt.hist(data, bins=30, edgecolor='black', alpha=0.7)\n",
        "plt.title(\"Histogram of Normally Distributed Data\")\n",
        "plt.xlabel(\"Value\")\n",
        "plt.ylabel(\"Frequency\")\n",
        "plt.show()\n"
      ]
    },
    {
      "cell_type": "markdown",
      "source": [
        "**Question 10: You are working as a data analyst for a retail company. The company has  collected daily sales data for 2 years and wants you to identify the overall sales trend.**\n",
        "\n",
        "**daily_sales = [220, 245, 210, 265, 230, 250, 260, 275, 240, 255,\n",
        " 235, 260, 245, 250, 225, 270, 265, 255, 250, 260]**\n",
        "\n",
        "\n",
        "● **Explain how you would apply the Central Limit Theorem to estimate the average sales  with a 95% confidence interval.**\n",
        "\n",
        "● **Write the Python code to compute the mean sales and its confidence interval. (Include your Python code and output in the code box below.)**\n",
        "\n",
        "\n",
        "Applying the Central Limit Theorem (CLT):\n",
        "\n",
        "1. The CLT states that the sampling distribution of the sample mean will be approximately normal if the sample size is reasonably large, even if the original data is not perfectly normal.\n",
        "\n",
        "\n",
        "2. For your daily sales data, you can treat the 20 daily sales values as a sample from the overall sales population.\n",
        "\n",
        "\n",
        "3. Using the CLT, you can calculate the mean of daily sales and the standard error (standard deviation divided by the square root of sample size).\n",
        "\n",
        "\n",
        "4. Then, you can construct a 95% confidence interval for the average sales using the formula:\n",
        "\n",
        "\n",
        "- CI = Mean ± (Critical value × Standard Error)\n",
        "\n",
        "\n",
        "- For 95% confidence, the critical value is ~1.96 (from the z-distribution).\n"
      ],
      "metadata": {
        "id": "vSl4QwnLEsD5"
      }
    },
    {
      "cell_type": "code",
      "source": [
        "import numpy as np\n",
        "from scipy import stats\n",
        "\n",
        "# Daily sales data\n",
        "daily_sales = [220, 245, 210, 265, 230, 250, 260, 275, 240, 255,\n",
        "               235, 260, 245, 250, 225, 270, 265, 255, 250, 260]\n",
        "\n",
        "# Convert to NumPy array\n",
        "sales = np.array(daily_sales)\n",
        "\n",
        "# Sample size, mean, and standard deviation\n",
        "n = len(sales)\n",
        "mean_sales = np.mean(sales)\n",
        "std_sales = np.std(sales, ddof=1)  # sample standard deviation\n",
        "\n",
        "# Standard error\n",
        "std_error = std_sales / np.sqrt(n)\n",
        "\n",
        "# 95% confidence interval (using t-distribution because sample size < 30)\n",
        "confidence_level = 0.95\n",
        "t_critical = stats.t.ppf((1 + confidence_level)/2, df=n-1)\n",
        "\n",
        "margin_of_error = t_critical * std_error\n",
        "ci_lower = mean_sales - margin_of_error\n",
        "ci_upper = mean_sales + margin_of_error\n",
        "\n",
        "print(f\"Mean Sales: {mean_sales:.2f}\")\n",
        "print(f\"95% Confidence Interval: ({ci_lower:.2f}, {ci_upper:.2f})\")\n"
      ],
      "metadata": {
        "colab": {
          "base_uri": "https://localhost:8080/"
        },
        "id": "INBPqFQjEjyv",
        "outputId": "30c8eba0-2a8b-4f6e-8ca8-ee484a504a32"
      },
      "execution_count": 3,
      "outputs": [
        {
          "output_type": "stream",
          "name": "stdout",
          "text": [
            "Mean Sales: 248.25\n",
            "95% Confidence Interval: (240.17, 256.33)\n"
          ]
        }
      ]
    },
    {
      "cell_type": "code",
      "source": [],
      "metadata": {
        "id": "vBwUHZ6iFaO1"
      },
      "execution_count": null,
      "outputs": []
    }
  ]
}