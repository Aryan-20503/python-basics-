{
  "nbformat": 4,
  "nbformat_minor": 0,
  "metadata": {
    "colab": {
      "provenance": []
    },
    "kernelspec": {
      "name": "python3",
      "display_name": "Python 3"
    },
    "language_info": {
      "name": "python"
    }
  },
  "cells": [
    {
      "cell_type": "markdown",
      "source": [
        "ASSIGNMENT-4\n",
        "\n",
        "THEORY\n"
      ],
      "metadata": {
        "id": "Rb_ar0Z9n5wl"
      }
    },
    {
      "cell_type": "markdown",
      "source": [
        "Q1. What is Object-Oriented Programming(OOP)?\n",
        "\n",
        "A1. Object-Oriented Programming (OOP) is a programming paradigm that organizes and structures software design around objects rather than just functions and logic.\n",
        "\n",
        "An object is an entity that bundles together data (attributes or properties) and the functions (methods or behaviors) that operate on that data.\n",
        "\n",
        "In short: OOP is a way of programming where we model real-world entities as classes and objects, using principles like encapsulation, inheritance, polymorphism, and abstraction.\n",
        "\n"
      ],
      "metadata": {
        "id": "EOaqF4fjoTVQ"
      }
    },
    {
      "cell_type": "markdown",
      "source": [
        "Q2. What is a Class in OOP?\n",
        "\n",
        "A2. A Class in Object-Oriented Programming (OOP) is a blueprint or template used to create objects.\n",
        "\n",
        "It defines the attributes (data/variables) and methods (functions/behaviors) that the objects created from the class will have.\n",
        "\n",
        "Example in Python:\n"
      ],
      "metadata": {
        "id": "dwqikA6y23i_"
      }
    },
    {
      "cell_type": "code",
      "execution_count": 5,
      "metadata": {
        "colab": {
          "base_uri": "https://localhost:8080/"
        },
        "id": "Bl4fyYGgnaT7",
        "outputId": "0dc6aa7e-6abc-41ca-f2d1-7aef80886010"
      },
      "outputs": [
        {
          "output_type": "stream",
          "name": "stdout",
          "text": [
            "White Toyota is driving.\n",
            "Black Nissan is driving.\n"
          ]
        }
      ],
      "source": [
        "#example:\n",
        "class car:\n",
        "  def __init__(self, brand, color):\n",
        "    self.brand= brand\n",
        "    self.color= color\n",
        "\n",
        "  def drive(self):\n",
        "    print(f\"{self.color} {self.brand} is driving.\")\n",
        "\n",
        "car1= car(\"Toyota\",\"White\")\n",
        "car2= car(\"Nissan\",\"Black\")\n",
        "\n",
        "car1.drive() # Output: White Toyota is driving.\n",
        "car2.drive() # Output: Black nissan is driving."
      ]
    },
    {
      "cell_type": "markdown",
      "source": [
        "Q3. What is an Object in OOP?\n",
        "\n",
        "A3. An Object in Object-Oriented Programming (OOP) is a real-world entity or an instance of a class.\n",
        "\n",
        "It is created based on the blueprint (class) and represents an actual unit that contains:\n",
        "\n",
        "- Attributes (data/variables) → the object’s properties\n",
        "\n",
        "- Methods (functions) → the object’s behavior"
      ],
      "metadata": {
        "id": "ftzY1aLV5QCO"
      }
    },
    {
      "cell_type": "code",
      "source": [
        "#example:\n",
        "class car:\n",
        "  def __init__(self, brand, color):\n",
        "    self.brand= brand\n",
        "    self.color= color\n",
        "\n",
        "  def drive(self):\n",
        "    print(f\"{self.color} {self.brand} is driving.\")\n",
        "\n",
        "car1= car(\"Toyota\",\"White\") # Object1\n",
        "car2= car(\"Nissan\",\"Black\") # Object2\n",
        "\n",
        "car1.drive() # Output: White Toyota is driving.\n",
        "car2.drive() # Output: Black Nissan is driving."
      ],
      "metadata": {
        "colab": {
          "base_uri": "https://localhost:8080/"
        },
        "id": "xXvqMoIRn03B",
        "outputId": "9bc7c47a-44ad-4cdb-b633-35139e6c3e4d"
      },
      "execution_count": 7,
      "outputs": [
        {
          "output_type": "stream",
          "name": "stdout",
          "text": [
            "White Toyota is driving.\n",
            "Black Nissan is driving.\n"
          ]
        }
      ]
    },
    {
      "cell_type": "markdown",
      "source": [
        "Q4. What is the Difference between Abstraction and Encapsulation?\n",
        "\n",
        "A4. Abstraction\n",
        "\n",
        "- Definition: Hiding the internal implementation and showing only the essential features to the user.\n",
        "\n",
        "- Focus: On what a system does, not how it does it.\n",
        "\n",
        "- Achieved by: Abstract classes and interfaces (in Java, C++), or by hiding details in methods.\n",
        "\n",
        "- Example: When you drive a car, you only use the steering, accelerator, brake, without knowing the internal engine mechanism.\n",
        "\n",
        "Encapsulation\n",
        "\n",
        "- Definition: Wrapping data (variables) and methods (functions) into a single unit (class) and restricting direct access to data.\n",
        "\n",
        "- Focus: On how data is protected and controlled.\n",
        "\n",
        "- Achieved by: Access modifiers (private, protected, public) and getters/setters.\n",
        "\n",
        "- Example: You can’t directly access a car’s engine from outside; you control it only through interfaces like start/stop buttons."
      ],
      "metadata": {
        "id": "hxudBlSh6NuT"
      }
    },
    {
      "cell_type": "code",
      "source": [
        "#example of abstraction\n",
        "from abc import ABC, abstractmethod\n",
        "\n",
        "class Vehicle(ABC):              # Abstract class\n",
        "    @abstractmethod\n",
        "    def start(self):             # Abstract method\n",
        "        pass\n",
        "\n",
        "class Car(Vehicle):\n",
        "    def start(self):\n",
        "        print(\"Car engine starts with a key.\")\n",
        "\n",
        "class Bike(Vehicle):\n",
        "    def start(self):\n",
        "        print(\"Bike engine starts with a self-start button.\")\n",
        "\n",
        "# Using abstraction\n",
        "v1 = Car()\n",
        "v2 = Bike()\n",
        "v1.start()   # Output: Car engine starts with a key.\n",
        "v2.start()   # Output: Bike engine starts with a self-start button.\n",
        "\n",
        "#example of encasulation\n",
        "\n",
        "class BankAccount:\n",
        "    def __init__(self, balance):\n",
        "        self.__balance = balance   # Private variable\n",
        "\n",
        "    def deposit(self, amount):\n",
        "        self.__balance += amount\n",
        "\n",
        "    def get_balance(self):         # Getter\n",
        "        return self.__balance\n",
        "\n",
        "# Using encapsulation\n",
        "acc = BankAccount(1000)\n",
        "acc.deposit(500)\n",
        "print(acc.get_balance())   # Output: 1500\n"
      ],
      "metadata": {
        "colab": {
          "base_uri": "https://localhost:8080/"
        },
        "collapsed": true,
        "id": "GwS9XmoE6M8T",
        "outputId": "7521fa51-4c98-4cea-bbdb-bbbce5350efe"
      },
      "execution_count": 8,
      "outputs": [
        {
          "output_type": "stream",
          "name": "stdout",
          "text": [
            "Car engine starts with a key.\n",
            "Bike engine starts with a self-start button.\n",
            "1500\n"
          ]
        }
      ]
    },
    {
      "cell_type": "markdown",
      "source": [
        "Q5. What are Dunder Methods in Python?\n",
        "\n",
        "A5. Dunder methods (also called magic methods or special methods) are predefined methods in Python that start and end with double underscores (__methodname__).\n",
        "\n",
        "\n",
        "The word “dunder” comes from “Double UNDERscore”.\n",
        "\n",
        "Purpose:\n",
        "\n",
        "They allow us to customize the behavior of Python objects.\n",
        "For example:\n",
        "\n",
        "- How objects are printed (__str__)\n",
        "\n",
        "- How objects are compared (__eq__, __lt__)\n",
        "\n",
        "- How arithmetic works (__add__, __sub__)\n",
        "\n",
        "- How objects are created (__init__, __new__)"
      ],
      "metadata": {
        "id": "4oZsv5pu73oB"
      }
    },
    {
      "cell_type": "code",
      "source": [
        "class Book:\n",
        "    def __init__(self, title, pages):\n",
        "        self.title = title\n",
        "        self.pages = pages\n",
        "\n",
        "    def __str__(self):       # For print()\n",
        "        return f\"Book: {self.title}, Pages: {self.pages}\"\n",
        "\n",
        "    def __len__(self):       # For len()\n",
        "        return self.pages\n",
        "\n",
        "    def __add__(self, other): # For +\n",
        "        return self.pages + other.pages\n",
        "\n",
        "# Creating objects\n",
        "b1 = Book(\"Python Basics\", 200)\n",
        "b2 = Book(\"Advanced Python\", 300)\n",
        "\n",
        "print(b1)           # Uses __str__ → Book: Python Basics, Pages: 200\n",
        "print(len(b1))      # Uses __len__ → 200\n",
        "print(b1 + b2)      # Uses __add__ → 500\n"
      ],
      "metadata": {
        "colab": {
          "base_uri": "https://localhost:8080/"
        },
        "collapsed": true,
        "id": "1PftLB1Y6BIo",
        "outputId": "e3c8552f-8e80-4af9-dabc-185a7b25061b"
      },
      "execution_count": 9,
      "outputs": [
        {
          "output_type": "stream",
          "name": "stdout",
          "text": [
            "Book: Python Basics, Pages: 200\n",
            "200\n",
            "500\n"
          ]
        }
      ]
    },
    {
      "cell_type": "markdown",
      "source": [
        "Q6. Explain the Concept of Inheritance in OOP.\n",
        "\n",
        "A6. nheritance is the mechanism in OOP that allows a new class (child/subclass/derived class) to acquire the properties (attributes) and behaviors (methods) of an existing class (parent/superclass/base class).\n",
        "\n",
        "It promotes code reusability and supports hierarchical relationships.\n",
        "\n",
        "Types of Inheritance\n",
        "\n",
        "- Single Inheritance → One parent, one child.\n",
        "\n",
        "- Multiple Inheritance → Child inherits from more than one parent.\n",
        "\n",
        "- Multilevel Inheritance → A chain of inheritance (grandparent → parent → child).\n",
        "\n",
        "- Hierarchical Inheritance → One parent, many children.\n",
        "\n",
        "- Hybrid Inheritance → Combination of two or more types."
      ],
      "metadata": {
        "id": "UR8nVzRJB_Qo"
      }
    },
    {
      "cell_type": "markdown",
      "source": [
        "Q7. What is Polymorphism in OOP?\n",
        "\n",
        "A7. Polymorphism means “many forms”.\n",
        "In OOP, polymorphism allows the same function or operator to behave differently depending on the object or data type.\n",
        "\n",
        "It lets us write flexible and reusable code.\n",
        "\n",
        "The word Polymorphism comes from Greek:\n",
        "- Poly = many\n",
        "- Morph = forms\n",
        "\n",
        "there is 2 types of polymorphism:\n",
        "- Method overloading/ operator overloading.\n",
        "  - Same method/operator behaves differently based on input.\n",
        "  - Example: + adds numbers, concatenates strings, merges lists.\n",
        "\n",
        "- Method Overriding\n",
        "  - Child class provides a different implementation of a method defined in the parent class."
      ],
      "metadata": {
        "id": "cpxHa9gNB_N4"
      }
    },
    {
      "cell_type": "markdown",
      "source": [
        "Q8. How is Encapsulation achieved in Python?\n",
        "\n",
        "A8. Encapsulation is the process of wrapping data (attributes) and methods (functions) into a single unit (class) and restricting direct access to the data to protect it from accidental modification.\n",
        "\n",
        "In Python, encapsulation is mainly achieved through:\n",
        "\n",
        "- Access Modifiers (Public, Protected, Private)\n",
        "\n",
        "- Getters and Setters (methods to access/modify private data safely)  "
      ],
      "metadata": {
        "id": "IOnO9cXiB_Kg"
      }
    },
    {
      "cell_type": "markdown",
      "source": [
        "Q9. What is a Constructor in Python?\n",
        "\n",
        "A9. A constructor in Python is a special method that is automatically called when an object of a class is created.\n",
        "\n",
        "Its main job is to initialize the attributes (data members) of the object\n"
      ],
      "metadata": {
        "id": "-Pk7utLAB_HU"
      }
    },
    {
      "cell_type": "code",
      "source": [
        "class car:\n",
        "  def __init__(self, brand, color): #constructor\n",
        "    self.brand= brand\n",
        "    self.color= color\n",
        "\n",
        "  def drive(self):\n",
        "    print(f\"{self.color} {self.brand} is driving.\")\n",
        "\n",
        "car1= car(\"Toyota\",\"White\")\n",
        "car2= car(\"Nissan\",\"Black\")\n",
        "\n",
        "car1.drive() # Output: White Toyota is driving.\n",
        "car2.drive() # Output: Black Nissan is driving."
      ],
      "metadata": {
        "colab": {
          "base_uri": "https://localhost:8080/"
        },
        "collapsed": true,
        "id": "_fpQAFnrB80G",
        "outputId": "5c34aca1-a565-4fd6-b067-12d3212e1426"
      },
      "execution_count": 10,
      "outputs": [
        {
          "output_type": "stream",
          "name": "stdout",
          "text": [
            "White Toyota is driving.\n",
            "Black Nissan is driving.\n"
          ]
        }
      ]
    },
    {
      "cell_type": "markdown",
      "source": [
        "Q10. What are Class and Static Methods in Python?\n",
        "\n",
        "A10. Class methods are methods that are bound to the class and not the instance of the class. They can access or\n",
        "modify class state that applies across all instances of the class. Class methods are defined using the\n",
        "@classmethod decorator.\n",
        "\n",
        "Static methods are methods that belong to the class and don't access or modify class or instance state. They\n",
        "are defined using the @staticmethod decorator."
      ],
      "metadata": {
        "id": "gqOdOKhbQ1dF"
      }
    },
    {
      "cell_type": "code",
      "source": [
        "#example of classmethod\n",
        "class Student:\n",
        "# Class variable to keep track of the total number of students\n",
        "  total_students = 0\n",
        "  def __init__(self, name):\n",
        "    self.name = name\n",
        "    Student.total_students += 1\n",
        "\n",
        "  @classmethod\n",
        "  def get_total_students(cls):\n",
        "    return cls.total_students\n",
        "\n",
        "# Creating student objects\n",
        "student1 = Student(\"Alice\")\n",
        "student2 = Student (\"Bob\")\n",
        "\n",
        "# Accessing the class method\n",
        "print(\"Total students:\", Student.get_total_students())\n",
        "\n",
        "#example of static method\n",
        "class Calculator:\n",
        "  @staticmethod\n",
        "  def add(x, y):\n",
        "    return x + y\n",
        "  @staticmethod\n",
        "  def subtract(x, y):\n",
        "    return x - y\n",
        "\n",
        "# Using static methods\n",
        "sum_result = Calculator.add(5, 3)\n",
        "difference_result = Calculator.subtract(8, 3)\n",
        "print(\"Sum:\", sum_result)\n",
        "print(\"Difference:\", difference_result)"
      ],
      "metadata": {
        "colab": {
          "base_uri": "https://localhost:8080/"
        },
        "id": "-PpMSJmjRuk4",
        "outputId": "182e0f26-0f99-4789-ae17-31f09f387f52"
      },
      "execution_count": 17,
      "outputs": [
        {
          "output_type": "stream",
          "name": "stdout",
          "text": [
            "Total students: 2\n",
            "Sum: 8\n",
            "Difference: 5\n"
          ]
        }
      ]
    },
    {
      "cell_type": "markdown",
      "source": [
        " Q11. What is Method Overloading in Python?\n",
        "\n",
        " A11.  Method Overloading means having multiple methods with the same name but different parameters (like in Java/C++).\n",
        "\n",
        " Python does not support true method overloading because:\n",
        " - The latest defined method with the same name will overwrite the previous ones.\n",
        "\n",
        " Instead of true overloading, Python uses:\n",
        " - b Default arguments\n",
        " -  Variable-length arguments (\n",
        " *args, **kwargs\n",
        ""
      ],
      "metadata": {
        "id": "nL749VcAQ1aU"
      }
    },
    {
      "cell_type": "code",
      "source": [
        "#Example1: Default Arguments\n",
        "class Calculator:\n",
        "  def add(self, a=0, b=0, c=0):\n",
        "     return a + b + c\n",
        "calc = Calculator()\n",
        "print(calc.add(2))        # 2\n",
        "print(calc.add(2, 3))     # 5\n",
        "print(calc.add(2, 3, 4))  # 9\n",
        "\n",
        "#Example2: Variable-Length Arguments\n",
        "class Calculator:\n",
        "  def add(self, *args):\n",
        "     return sum(args)\n",
        "calc= Calculator()\n",
        "print(calc.add(5))\n",
        "print(calc.add(2, 3, 4))         # 9\n",
        "print(calc.add(10, 20, 30, 40))  # 100"
      ],
      "metadata": {
        "colab": {
          "base_uri": "https://localhost:8080/"
        },
        "collapsed": true,
        "id": "ma3vR3MWUQ0_",
        "outputId": "98d2dfd9-2dc8-4b03-bc1a-93a960baa955"
      },
      "execution_count": 29,
      "outputs": [
        {
          "output_type": "stream",
          "name": "stdout",
          "text": [
            "2\n",
            "5\n",
            "9\n",
            "5\n",
            "9\n",
            "100\n"
          ]
        }
      ]
    },
    {
      "cell_type": "markdown",
      "source": [
        " Q12. What is Method Overriding in OOP?\n",
        "\n",
        " A12. Method overriding occurs when a child class provides a new implementation of a method that is already defined in its parent class.\n",
        "\n",
        "- The method in the child class has the same name, same parameters as in the parent class.\n",
        "\n",
        "- It allows run-time polymorphism—the method that gets executed depends on the object type, not the reference type."
      ],
      "metadata": {
        "id": "N97vHEw1Q1XS"
      }
    },
    {
      "cell_type": "code",
      "source": [
        "class Animal:\n",
        "  def sound(self):\n",
        "    print(\"Animal sound.\")\n",
        "\n",
        "class Dog(Animal): #method overriding\n",
        "  def sound(self):\n",
        "    print(\"Dog barks.\")\n",
        "\n",
        "#overriding objects\n",
        "animal= Animal()\n",
        "dog= Dog()\n",
        "\n",
        "animal.sound()  # Output: Animal sound.\n",
        "dog.sound()     # Output: Dog barks."
      ],
      "metadata": {
        "colab": {
          "base_uri": "https://localhost:8080/"
        },
        "id": "DZgINlTuWXf_",
        "outputId": "2acc7dbd-f8de-4149-9afb-c1c54c5cca03"
      },
      "execution_count": 31,
      "outputs": [
        {
          "output_type": "stream",
          "name": "stdout",
          "text": [
            "Animal sound.\n",
            "Dog barks.\n"
          ]
        }
      ]
    },
    {
      "cell_type": "markdown",
      "source": [
        "Q13. What is a Property Decorator in Python?\n",
        "\n",
        "A13. A property decorator allows you to define methods in a class that can be accessed like attributes.\n",
        "\n",
        "- It is defined using the @property decorator.\n",
        "\n",
        "- Allows encapsulation while providing a clean syntax for getting and setting attributes.\n"
      ],
      "metadata": {
        "id": "T0hVlUdXQ1T8"
      }
    },
    {
      "cell_type": "code",
      "source": [
        "class Student:\n",
        "    def __init__(self, name, age):\n",
        "        self.__age = age   # Private attribute\n",
        "        self.name = name\n",
        "\n",
        "    # Getter using @property\n",
        "    @property\n",
        "    def age(self):\n",
        "        return self.__age\n",
        "\n",
        "    # Setter using @age.setter\n",
        "    @age.setter\n",
        "    def age(self, value):\n",
        "        if value > 0:\n",
        "            self.__age = value\n",
        "        else:\n",
        "            print(\"Invalid age!\")\n",
        "\n",
        "# Using the property\n",
        "s = Student(\"Aayush\", 21)\n",
        "print(s.age)     # Access like an attribute → 21\n",
        "s.age = 25       # Modify like an attribute\n",
        "print(s.age)     # 25\n",
        "s.age = -5       # Invalid age!\n"
      ],
      "metadata": {
        "colab": {
          "base_uri": "https://localhost:8080/"
        },
        "id": "0WxNSSuvQyBg",
        "outputId": "4767ac61-2fd9-4005-90c6-95942a1b7d0e"
      },
      "execution_count": 32,
      "outputs": [
        {
          "output_type": "stream",
          "name": "stdout",
          "text": [
            "21\n",
            "25\n",
            "Invalid age!\n"
          ]
        }
      ]
    },
    {
      "cell_type": "markdown",
      "source": [
        " Q14. Why is Polymorphism Important in OOP?\n",
        "\n",
        " A14. 1. Flexibility\n",
        " - Polymorphism allows the same interface (method name) to be used for different object types.\n",
        "\n",
        " - Example: You can call speak() on both Dog and Cat objects, and each behaves differently.\n",
        "\n",
        "\n",
        "2. Code Reusability\n",
        "\n",
        "- You don’t need to write separate code for each object type.\n",
        "\n",
        "- Example: A function can take any subclass object and work with it, reducing duplication.\n",
        "\n",
        "\n",
        "\n",
        "3. Extensibility / Maintainability\n",
        "\n",
        "- Polymorphism allows new classes to be added without changing existing code.\n",
        "\n",
        "- This makes software easier to extend and maintain.\n",
        "\n",
        "4. Supports Real-World Modeling\n",
        "\n",
        "- Real-world entities often behave differently in different contexts, and polymorphism helps model this naturally.\n",
        "\n",
        "- Example: A Shape class with a draw() method can have Circle, Rectangle, Triangle subclasses, each drawing differently.\n",
        "\n"
      ],
      "metadata": {
        "id": "-YiZekizYGUt"
      }
    },
    {
      "cell_type": "markdown",
      "source": [
        "Q15. What is an Abstract Class in Python?\n",
        "\n",
        "A15. An abstract class is a class that cannot be instantiated on its own and is meant to serve as a blueprint for other classes.\n",
        "\n",
        "- It may contain abstract methods, which are methods declared but not implemented in the abstract class.\n",
        "\n",
        "- Child classes must implement all abstract methods to become concrete (instantiable) classes."
      ],
      "metadata": {
        "id": "R_DrH-HyYGPE"
      }
    },
    {
      "cell_type": "code",
      "source": [
        "from abc import ABC, abstractmethod\n",
        "\n",
        "class Vehicle(ABC):              # Abstract class\n",
        "    @abstractmethod\n",
        "    def start(self):             # Abstract method\n",
        "        pass\n",
        "\n",
        "class Car(Vehicle):\n",
        "    def start(self):\n",
        "        print(\"Car engine starts with a key.\")\n",
        "\n",
        "class Bike(Vehicle):\n",
        "    def start(self):\n",
        "        print(\"Bike engine starts with a self-start button.\")\n",
        "\n",
        "# Using abstraction\n",
        "v1 = Car()\n",
        "v2 = Bike()\n",
        "v1.start()   # Output: Car engine starts with a key.\n",
        "v2.start()   # Output: Bike engine starts with a self-start button."
      ],
      "metadata": {
        "colab": {
          "base_uri": "https://localhost:8080/"
        },
        "id": "kJ6y9QIgZyQm",
        "outputId": "2a013894-bd42-4df7-e720-0dd87b894102"
      },
      "execution_count": 33,
      "outputs": [
        {
          "output_type": "stream",
          "name": "stdout",
          "text": [
            "Car engine starts with a key.\n",
            "Bike engine starts with a self-start button.\n"
          ]
        }
      ]
    },
    {
      "cell_type": "markdown",
      "source": [
        " Q16. What are the Advantages of Object-Oriented Programming (OOP)?\n",
        "\n",
        " A16. 1. Code Reusability\n",
        "\n",
        "- Classes and objects can be reused in different programs.\n",
        "\n",
        "- Inheritance allows child classes to reuse parent class methods and attributes, reducing duplication.\n",
        "\n",
        "Example: A Vehicle class can be reused to create Car, Bike, Truck classes.\n",
        "\n",
        "2. Modularity\n",
        "\n",
        "- Code is divided into self-contained classes and objects.\n",
        "\n",
        "- Each class can be developed, tested, and maintained independently.\n",
        "\n",
        "Example: You can work on Car class separately from Bike class.\n",
        "\n",
        "3. Encapsulation / Data Hiding\n",
        "\n",
        "- Combines data (attributes) and behavior (methods) in a single unit.\n",
        "\n",
        "- Sensitive data can be protected using private/protected variables.\n",
        "\n",
        "Example: Bank account balance is private and accessed only via methods.\n",
        "\n",
        "4. Abstraction\n",
        "\n",
        "- Hides internal details and exposes only essential features.\n",
        "\n",
        "- Users interact with interfaces without worrying about complex implementations.\n",
        "\n",
        "Example: Driving a car using accelerator, brake, and steering without knowing engine details.\n",
        "\n",
        "5. Polymorphism\n",
        "\n",
        "- Same method or operator can behave differently depending on the object.\n",
        "\n",
        "- Makes code flexible and extensible.\n",
        "\n",
        "Example: speak() method works differently for Dog, Cat, Bird classes.\n",
        "\n",
        "6. Extensibility and Maintainability\n",
        "\n",
        "- New features can be added without affecting existing code.\n",
        "\n",
        "- Easy to update or modify specific parts of the system.\n",
        "\n",
        "Example: Adding a new ElectricCar class without changing Car class.\n",
        "\n",
        "7. Real-World Modeling\n",
        "\n",
        "- OOP allows programs to model real-world entities naturally using classes and objects.\n",
        "\n",
        "Example: Student, Teacher, Library classes represent real entities in a school system."
      ],
      "metadata": {
        "id": "oF5k-7p_YGFK"
      }
    },
    {
      "cell_type": "markdown",
      "source": [
        " Q17. What is the difference between a Class Variable and an Instance Variable?\n",
        "\n",
        " A17.\n",
        "1. Instance variables:\n",
        "  -  Instance variables are properties that are joined to a class instance. In the constructor (the class's init() method), we define instance variables.\n",
        "  - Declared: Inside the constructor (__init__) or methods using self.\n",
        "\n",
        "  - Behavior: Change affects only that object.\n",
        "\n",
        "  - Use Case: Data specific to each object.\n",
        "2. Class Variables:\n",
        "-  A variable that is declared inside a class but outside of any instance methods or init()\n",
        "methods is referred to as a class variable.\n",
        "- Declared: Inside the class, outside any method.\n",
        "\n",
        "- Behavior: Any change affects all objects of that class.\n",
        "\n",
        "- Use Case: Data common to all objects."
      ],
      "metadata": {
        "id": "fLmS5gXvajnc"
      }
    },
    {
      "cell_type": "markdown",
      "source": [
        " Q18. What is multiple inheritance in Python?\n",
        " Multiple inheritance occurs when a child class inherits from more than one parent class.\n",
        "\n",
        "- The child class gets attributes and methods from all parent classes.\n",
        "\n",
        "- Python supports multiple inheritance, unlike some other languages like Java.\n",
        "\n",
        "- Method Resolution Order (MRO) determines which parent’s method is used if multiple parents have the same method name."
      ],
      "metadata": {
        "id": "LO2oedyCahms"
      }
    },
    {
      "cell_type": "code",
      "source": [
        "# Parent class 1\n",
        "class Mother:\n",
        "    def skills(self):\n",
        "        print(\"Cooking\")\n",
        "\n",
        "# Parent class 2\n",
        "class Father:\n",
        "    def skills(self):\n",
        "        print(\"Gardening\")\n",
        "\n",
        "# Child class inherits from both parents\n",
        "class Child(Mother, Father):\n",
        "    pass\n",
        "\n",
        "c = Child()\n",
        "c.skills()  # Output: Cooking (Mother's method is called due to MRO)\n"
      ],
      "metadata": {
        "colab": {
          "base_uri": "https://localhost:8080/"
        },
        "id": "nf1a6-CzdA9x",
        "outputId": "bb36badb-eb8b-41f1-cfea-2c09c57b6600"
      },
      "execution_count": 34,
      "outputs": [
        {
          "output_type": "stream",
          "name": "stdout",
          "text": [
            "Cooking\n"
          ]
        }
      ]
    },
    {
      "cell_type": "markdown",
      "source": [
        " Q19. Explain the purpose of ‘str’ and ‘repr’  methods in Python.\n",
        "\n",
        " A19.  \n",
        "\n",
        " 1. __str__ Method\n",
        "\n",
        "- Provides a “user-friendly” or readable string representation of an object.\n",
        "\n",
        "- Used by the print() function and str().\n",
        "\n",
        "2. __repr__ Method\n",
        "- Provides an “official” string representation of the object.\n",
        "\n",
        "- Used by the repr() function and in the interactive interpreter.\n",
        "\n",
        "- Should be unambiguous and, if possible, executable to recreate the object."
      ],
      "metadata": {
        "id": "5F-X45pOdfw0"
      }
    },
    {
      "cell_type": "code",
      "source": [
        "#EXAMPLE OF STR METHOD\n",
        "class Student:\n",
        "    def __init__(self, name, age):\n",
        "        self.name = name\n",
        "        self.age = age\n",
        "\n",
        "    def __str__(self):\n",
        "        return f\"Student Name: {self.name}, Age: {self.age}\"\n",
        "\n",
        "s = Student(\"Aayush\", 21)\n",
        "print(s)       # Output: Student Name: Aayush, Age: 21\n",
        "print(str(s))  # Output: Student Name: Aayush, Age: 21\n",
        "\n",
        "#EXAMPLE OF repr METHOD\n",
        "class Student:\n",
        "    def __init__(self, name, age):\n",
        "        self.name = name\n",
        "        self.age = age\n",
        "\n",
        "    def __repr__(self):\n",
        "        return f\"Student('{self.name}', {self.age})\"\n",
        "\n",
        "s = Student(\"Aayush\", 21)\n",
        "print(repr(s))  # Output: Student('Aayush', 21)\n",
        "\n"
      ],
      "metadata": {
        "colab": {
          "base_uri": "https://localhost:8080/"
        },
        "id": "rRp6lunkeTZd",
        "outputId": "76f9c0de-8d73-41d5-a778-03c6323713c6"
      },
      "execution_count": 35,
      "outputs": [
        {
          "output_type": "stream",
          "name": "stdout",
          "text": [
            "Student Name: Aayush, Age: 21\n",
            "Student Name: Aayush, Age: 21\n",
            "Student('Aayush', 21)\n"
          ]
        }
      ]
    },
    {
      "cell_type": "markdown",
      "source": [
        "Q20. What is the significance of the ‘super()’ function in Python?\n",
        "\n",
        "A20. The super() function is used to call a method from the parent (or superclass) of the current class.\n",
        "\n",
        "- It is commonly used to access parent class constructors or methods.\n",
        "\n",
        "- Helps in avoiding explicit references to the parent class and supports multiple inheritance."
      ],
      "metadata": {
        "id": "9j8p_vJKahd4"
      }
    },
    {
      "cell_type": "code",
      "source": [
        "class Vehicle:\n",
        "    def __init__(self, brand):\n",
        "        self.brand = brand\n",
        "\n",
        "class Car(Vehicle):\n",
        "    def __init__(self, brand, model):\n",
        "        super().__init__(brand)  # Call parent constructor\n",
        "        self.model = model\n",
        "\n",
        "    def display(self):\n",
        "        print(f\"Brand: {self.brand}, Model: {self.model}\")\n",
        "\n",
        "c = Car(\"Toyota\", \"Corolla\")\n",
        "c.display()  # Output: Brand: Toyota, Model: Corolla\n"
      ],
      "metadata": {
        "colab": {
          "base_uri": "https://localhost:8080/"
        },
        "id": "Yw6kqUKYhxM2",
        "outputId": "81831a4c-2ecd-4600-d74d-fafddbc1631f"
      },
      "execution_count": 42,
      "outputs": [
        {
          "output_type": "stream",
          "name": "stdout",
          "text": [
            "Brand: Toyota, Model: Corolla\n"
          ]
        }
      ]
    },
    {
      "cell_type": "markdown",
      "source": [
        " Q21. What is the significance of the del method in Python?\n",
        "\n",
        " A21. In Python, the __del__ method is a destructor method.\n",
        "\n",
        " It is called automatically when an object is about to be destroyed (i.e., when it goes out of scope or its reference count drops to zero)\n",
        "\n",
        " - Used to free resources (like closing files, releasing network connections, or cleaning up memory).\n",
        " - Called by Python’s garbage collector before the object is removed from memory.\n",
        " - Helps in performing final clean-up tasks."
      ],
      "metadata": {
        "id": "RUkMCkQcfx8w"
      }
    },
    {
      "cell_type": "code",
      "source": [
        "class Demo:\n",
        "    def __init__(self, name):\n",
        "        self.name = name\n",
        "        print(f\"Object {self.name} created.\")\n",
        "\n",
        "    def __del__(self):\n",
        "        print(f\"Destructor called, object {self.name} deleted.\")\n",
        "obj = Demo(\"Ritesh\")\n",
        "del obj   # explicitly deleting object\n",
        ""
      ],
      "metadata": {
        "colab": {
          "base_uri": "https://localhost:8080/"
        },
        "id": "8KvHwgBtgN4F",
        "outputId": "e3bcf9cd-7d55-45c8-9275-3ceea2165601"
      },
      "execution_count": 40,
      "outputs": [
        {
          "output_type": "stream",
          "name": "stdout",
          "text": [
            "Object Ritesh created.\n",
            "Destructor called, object Ritesh deleted.\n"
          ]
        }
      ]
    },
    {
      "cell_type": "markdown",
      "source": [
        " Q22. What is the difference between @staticmethod and @classmethod in Python?\n",
        "\n",
        "A22.\n",
        "1. @staticmethod\n",
        "\n",
        "- Definition: A static method does not receive self or cls.\n",
        "\n",
        "- Purpose: Used for utility functions that do not need access to instance or class variables.\n",
        "\n",
        "- Called using: Class name or object.\n",
        "\n",
        "- Access: Cannot access instance (self) or class (cls) data directly.\n",
        "\n",
        "2. @classmethod\n",
        "\n",
        "- Definition: A class method receives cls as the first argument, representing the class itself.\n",
        "\n",
        "- Purpose: Can access/modify class variables and call other class methods.\n",
        "\n",
        "- Called using: Class name or object."
      ],
      "metadata": {
        "id": "RHMtmBsEga88"
      }
    },
    {
      "cell_type": "code",
      "source": [
        "#example of classmethod\n",
        "class Student:\n",
        "# Class variable to keep track of the total number of students\n",
        "  total_students = 0\n",
        "  def __init__(self, name):\n",
        "    self.name = name\n",
        "    Student.total_students += 1\n",
        "\n",
        "  @classmethod\n",
        "  def get_total_students(cls):\n",
        "    return cls.total_students\n",
        "\n",
        "# Creating student objects\n",
        "student1 = Student(\"Alice\")\n",
        "student2 = Student (\"Bob\")\n",
        "\n",
        "# Accessing the class method\n",
        "print(\"Total students:\", Student.get_total_students())\n",
        "\n",
        "#example of static method\n",
        "class Calculator:\n",
        "  @staticmethod\n",
        "  def add(x, y):\n",
        "    return x + y\n",
        "  @staticmethod\n",
        "  def subtract(x, y):\n",
        "    return x - y\n",
        "\n",
        "# Using static methods\n",
        "sum_result = Calculator.add(5, 3)\n",
        "difference_result = Calculator.subtract(8, 3)\n",
        "print(\"Sum:\", sum_result)\n",
        "print(\"Difference:\", difference_result)"
      ],
      "metadata": {
        "collapsed": true,
        "colab": {
          "base_uri": "https://localhost:8080/"
        },
        "id": "M07vroCPhb6S",
        "outputId": "cb508a5b-b337-4df6-8148-ab8be968dcc0"
      },
      "execution_count": 41,
      "outputs": [
        {
          "output_type": "stream",
          "name": "stdout",
          "text": [
            "Total students: 2\n",
            "Sum: 8\n",
            "Difference: 5\n"
          ]
        }
      ]
    },
    {
      "cell_type": "markdown",
      "source": [
        " Q23. How does polymorphism work in Python with inheritance?\n",
        "\n",
        " A23. Polymorphism means \"many forms\".\n",
        "\n",
        " In Python, it allows the same method or operation to behave differently depending on the object that calls it.\n",
        "\n",
        " When combined with inheritance, polymorphism lets child classes provide their own implementation of methods that are already defined in\n",
        " the parent class.\n",
        "\n",
        "  How Polymorphism Works with Inheritance\n",
        " - A parent class defines a method.\n",
        " - Child classes override (redefine) that method with their own behavior.\n",
        " - When we call the method on different objects, Python automatically decides\n",
        " which version to execute (based on the object type)."
      ],
      "metadata": {
        "id": "dfxgj5pAfx1e"
      }
    },
    {
      "cell_type": "code",
      "source": [
        "class Animal:\n",
        "    def sound(self):\n",
        "        return \"Some generic animal sound\"\n",
        "class Dog(Animal):\n",
        "    def sound(self):\n",
        "        return \"Bark\"\n",
        "class Cat(Animal):\n",
        "    def sound(self):\n",
        "        return \"Meow\"\n",
        " # Polymorphism in action\n",
        "animals = [Dog(), Cat(), Animal()]\n",
        "for a in animals:\n",
        "    print(a.sound())\n"
      ],
      "metadata": {
        "colab": {
          "base_uri": "https://localhost:8080/"
        },
        "id": "qwrS4z0cioAu",
        "outputId": "d712e5dd-2000-48f5-bc4a-ad5b2bcd41d8"
      },
      "execution_count": 48,
      "outputs": [
        {
          "output_type": "stream",
          "name": "stdout",
          "text": [
            "Bark\n",
            "Meow\n",
            "Some generic animal sound\n"
          ]
        }
      ]
    },
    {
      "cell_type": "markdown",
      "source": [
        " Q24. What is method chaining in Python OOP?\n",
        "\n",
        " A24. Method chaining is a technique in which multiple methods are called sequentially on the same object in a single statement.\n",
        "\n",
        "- Each method returns the object itself (self), allowing the next method to be called immediately.\n",
        "\n",
        "- Commonly used in builder patterns, string manipulation, and fluent APIs."
      ],
      "metadata": {
        "id": "FKDOt3XnfxuA"
      }
    },
    {
      "cell_type": "code",
      "source": [
        "class Car:\n",
        "    def __init__(self):\n",
        "        self.speed = 0\n",
        "        self.gear = 1\n",
        "\n",
        "    def set_speed(self, speed):\n",
        "        self.speed = speed\n",
        "        return self   # Return the object for chaining\n",
        "\n",
        "    def set_gear(self, gear):\n",
        "        self.gear = gear\n",
        "        return self   # Return the object for chaining\n",
        "\n",
        "    def display(self):\n",
        "        print(f\"Speed: {self.speed}, Gear: {self.gear}\")\n",
        "        return self\n",
        "\n",
        "# Using method chaining\n",
        "car = Car()\n",
        "car.set_speed(60).set_gear(3).display()\n"
      ],
      "metadata": {
        "colab": {
          "base_uri": "https://localhost:8080/"
        },
        "id": "VuJodmsnjDwp",
        "outputId": "ce03c52a-fe17-4bcc-f5b0-798e4d6e557c"
      },
      "execution_count": 49,
      "outputs": [
        {
          "output_type": "stream",
          "name": "stdout",
          "text": [
            "Speed: 60, Gear: 3\n"
          ]
        },
        {
          "output_type": "execute_result",
          "data": {
            "text/plain": [
              "<__main__.Car at 0x7e51b9084c20>"
            ]
          },
          "metadata": {},
          "execution_count": 49
        }
      ]
    },
    {
      "cell_type": "markdown",
      "source": [
        "  Q25. What is the purpose of the call method in Python?\n",
        "  \n",
        "  A25. The __call__ method allows an instance of a class to be called like a function.\n",
        "\n",
        "- If a class defines __call__, you can use parentheses () directly on the object.\n",
        "\n",
        "- This makes objects behave like functions, enabling more flexible designs such as callbacks, function objects, or decorators.\n",
        "\n",
        "Advantages\n",
        "\n",
        "- Callable objects: Treat objects as functions.\n",
        "\n",
        "- Stateful functions: Can maintain state in object attributes.\n",
        "\n",
        "- Flexible design patterns: Useful for decorators, callbacks, and functional-style programming."
      ],
      "metadata": {
        "id": "yFVP9Slzfxl4"
      }
    },
    {
      "cell_type": "code",
      "source": [
        "class Greeter:\n",
        "    def __init__(self, name):\n",
        "        self.name = name\n",
        "\n",
        "    def __call__(self):\n",
        "        print(f\"Hello, {self.name}!\")\n",
        "\n",
        "g = Greeter(\"Aayush\")\n",
        "g()  # Output: Hello, Aayush!\n"
      ],
      "metadata": {
        "colab": {
          "base_uri": "https://localhost:8080/"
        },
        "id": "9OMIZNrgjxDm",
        "outputId": "05445d4e-c027-4f73-ad2c-c30b756de6e0"
      },
      "execution_count": 50,
      "outputs": [
        {
          "output_type": "stream",
          "name": "stdout",
          "text": [
            "Hello, Aayush!\n"
          ]
        }
      ]
    },
    {
      "cell_type": "markdown",
      "source": [
        "PRACTICAL QUESTIONS"
      ],
      "metadata": {
        "id": "Zzmqddibfxc3"
      }
    },
    {
      "cell_type": "code",
      "source": [
        "#1. Create a parent class Animal with a method speak() that prints a generic message. Create a child class Dog that overrides the speak() method to print \"Bark!\".\n",
        "class Animal :\n",
        "  def speak(Self):\n",
        "     print(\"This is a generic animal sound\")\n",
        " # Child class\n",
        "class Dog(Animal):\n",
        "    def speak(self):\n",
        "        print(\"Bark!\")\n",
        "animal = Animal()\n",
        "animal.speak()\n",
        "dog = Dog()\n",
        "dog.speak()"
      ],
      "metadata": {
        "colab": {
          "base_uri": "https://localhost:8080/"
        },
        "id": "61c13MfHX1V_",
        "outputId": "4bf7516d-c73e-409b-e6bf-a9fc2078974e"
      },
      "execution_count": 55,
      "outputs": [
        {
          "output_type": "stream",
          "name": "stdout",
          "text": [
            "This is a generic animal sound\n",
            "Bark!\n"
          ]
        }
      ]
    },
    {
      "cell_type": "code",
      "source": [
        "#2. Write a program to create an abstract class Shape with a method area(). Derive classes Circle and Rectangle from it and implement the area() method in both.\n",
        "from abc import ABC, abstractmethod\n",
        " # Abstract class\n",
        "class Shape(ABC):\n",
        "    @abstractmethod\n",
        "    def area(self):\n",
        "        pass\n",
        " # Circle class\n",
        "class Circle(Shape):\n",
        "    def __init__(self, radius):\n",
        "        self.radius = radius\n",
        "    def area(self):\n",
        "        return 3.14 * self.radius * self.radius\n",
        " # Rectangle class\n",
        "class Rectangle(Shape):\n",
        "    def __init__(self, length, width):\n",
        "        self.length = length\n",
        "        self.width = width\n",
        "    def area(self):\n",
        "        return self.length * self.width\n",
        "c = Circle(5)\n",
        "r = Rectangle(4, 6)\n",
        "print(\"Circle area:\", c.area())\n",
        "print(\"Rectangle area:\", r.area())"
      ],
      "metadata": {
        "colab": {
          "base_uri": "https://localhost:8080/"
        },
        "id": "_ii8j4LSkgsS",
        "outputId": "bcb169e8-7967-4109-90ed-3722f692f69a"
      },
      "execution_count": 60,
      "outputs": [
        {
          "output_type": "stream",
          "name": "stdout",
          "text": [
            "Circle area: 78.5\n",
            "Rectangle area: 24\n"
          ]
        }
      ]
    },
    {
      "cell_type": "code",
      "source": [
        " #3. Implement a multi-level inheritance scenario where a class Vehicle has an attribute type. Derive a class Car and further derive a class ElectricCar that adds a battery attribute.\n",
        "  # Parent class\n",
        "class Vehicle:\n",
        "    def __init__(self, type):\n",
        "        self.type = type\n",
        " # Child class\n",
        "class Car(Vehicle):\n",
        "    def __init__(self, type, model):\n",
        "        super().__init__(type)\n",
        "        self.model = model\n",
        " # Grandchild class\n",
        "class ElectricCar(Car):\n",
        "    def __init__(self, type, model, battery):\n",
        "        super().__init__(type, model)\n",
        "        self.battery = battery\n",
        "ecar = ElectricCar(\"Car\", \"Tesla Model 3\", \"75 kWh\")\n",
        "print(\"Type:\", ecar.type)\n",
        "print(\"Model:\", ecar.model)\n",
        "print(\"Battery:\", ecar.battery)"
      ],
      "metadata": {
        "colab": {
          "base_uri": "https://localhost:8080/"
        },
        "id": "u1XOTHJ_k7JV",
        "outputId": "f3b37f2b-83ff-4d5a-edca-f816942f3d60"
      },
      "execution_count": 61,
      "outputs": [
        {
          "output_type": "stream",
          "name": "stdout",
          "text": [
            "Type: Car\n",
            "Model: Tesla Model 3\n",
            "Battery: 75 kWh\n"
          ]
        }
      ]
    },
    {
      "cell_type": "code",
      "source": [
        "#4. Demonstrate polymorphism by creating a base class Bird with a method fly(). Create two derived classes Sparrow and Penguin that override the fly() method.\n",
        " # Base class\n",
        "class Bird:\n",
        "    def fly(self):\n",
        "        print(\"Some birds can fly\")\n",
        " # Derived class Sparrow\n",
        "class Sparrow(Bird):\n",
        "    def fly(self):\n",
        "        print(\"Sparrow can fly high\")\n",
        " # Derived class Penguin\n",
        "class Penguin(Bird):\n",
        "    def fly(self):\n",
        "        print(\"Penguin cannot fly\")\n",
        "birds = [Sparrow(), Penguin()]\n",
        "for bird in birds:\n",
        "    bird.fly()"
      ],
      "metadata": {
        "colab": {
          "base_uri": "https://localhost:8080/"
        },
        "id": "ckj-QDXull9V",
        "outputId": "2f23446c-1b3f-43a0-c09b-c2812f6fbfd7"
      },
      "execution_count": 62,
      "outputs": [
        {
          "output_type": "stream",
          "name": "stdout",
          "text": [
            "Sparrow can fly high\n",
            "Penguin cannot fly\n"
          ]
        }
      ]
    },
    {
      "cell_type": "code",
      "source": [
        " #5. Write a program to demonstrate encapsulation by creating a class BankAccount with private attributes balance and methods to deposit, withdraw, and check balance.\n",
        "  # Encapsulation example\n",
        "class BankAccount:\n",
        "    def __init__(self, balance):\n",
        "        self.__balance = balance  # private attribute\n",
        "    def deposit(self, amount):\n",
        "        self.__balance += amount\n",
        "        print(f\"Deposited: {amount}\")\n",
        "    def withdraw(self, amount):\n",
        "        if amount <= self.__balance:\n",
        "            self.__balance -= amount\n",
        "            print(f\"Withdrawn: {amount}\")\n",
        "        else:\n",
        "            print(\"Insufficient balance\")\n",
        "    def check_balance(self):\n",
        "        print(f\"Balance: {self.__balance}\")\n",
        "account = BankAccount(1000)\n",
        "account.deposit(500)\n",
        "account.withdraw(300)\n",
        "account.check_balance()"
      ],
      "metadata": {
        "colab": {
          "base_uri": "https://localhost:8080/"
        },
        "id": "xtGwIHu-l3H1",
        "outputId": "6f5fa598-2028-4424-9099-41247e86c70c"
      },
      "execution_count": 63,
      "outputs": [
        {
          "output_type": "stream",
          "name": "stdout",
          "text": [
            "Deposited: 500\n",
            "Withdrawn: 300\n",
            "Balance: 1200\n"
          ]
        }
      ]
    },
    {
      "cell_type": "code",
      "source": [
        "#6. Demonstrate runtime polymorphism using a method play() in a base class Instrument. Derive classes Guitar and Piano that implement their own version of play().\n",
        " # Base class\n",
        "class Instrument:\n",
        "    def play(self):\n",
        "        print(\"Playing instrument\")\n",
        " # Derived class Guitar\n",
        "class Guitar(Instrument):\n",
        "    def play(self):\n",
        "        print(\"Playing guitar\")\n",
        " # Derived class Piano\n",
        "class Piano(Instrument):\n",
        "    def play(self):\n",
        "        print(\"Playing piano\")\n",
        " # Testing runtime polymorphism\n",
        "instruments = [Guitar(), Piano()]\n",
        "for instrument in instruments:\n",
        "    instrument.play()"
      ],
      "metadata": {
        "colab": {
          "base_uri": "https://localhost:8080/"
        },
        "id": "hYgK5MQdmDpU",
        "outputId": "f291391b-087d-4781-cec0-ea1763967f17"
      },
      "execution_count": 64,
      "outputs": [
        {
          "output_type": "stream",
          "name": "stdout",
          "text": [
            "Playing guitar\n",
            "Playing piano\n"
          ]
        }
      ]
    },
    {
      "cell_type": "code",
      "source": [
        "#7. Create a class MathOperations with a class method add_numbers() to add two numbers and a static method subtract_numbers() to subtract two numbers.\n",
        "class MathOperations:\n",
        "    @classmethod\n",
        "    def add_numbers(cls, a, b):\n",
        "        return a + b\n",
        "    @staticmethod\n",
        "    def subtract_numbers(a, b):\n",
        "        return a - b\n",
        "print(\"Addition:\", MathOperations.add_numbers(10, 8))\n",
        "print(\"Subtraction:\", MathOperations.subtract_numbers(10, 3))"
      ],
      "metadata": {
        "colab": {
          "base_uri": "https://localhost:8080/"
        },
        "id": "g6d_oupamVOY",
        "outputId": "2af5e955-be32-4caf-de0f-906d86074f79"
      },
      "execution_count": 67,
      "outputs": [
        {
          "output_type": "stream",
          "name": "stdout",
          "text": [
            "Addition: 18\n",
            "Subtraction: 7\n"
          ]
        }
      ]
    },
    {
      "cell_type": "code",
      "source": [
        "#8. Implement a class Person with a class method to count the total number of persons created.\n",
        "class Person:\n",
        "    total_persons = 0\n",
        "    def __init__(self, name):\n",
        "        self.name = name\n",
        "        Person.total_persons += 1\n",
        "    @classmethod\n",
        "    def get_total_persons(cls):\n",
        "        return cls.total_persons\n",
        "\n",
        "p1 = Person(\"Ritesh\")\n",
        "p2 = Person(\"Aditi\")\n",
        "p3 = Person(\"Anshu\")\n",
        "print(\"Total persons created:\", Person.total_persons)"
      ],
      "metadata": {
        "colab": {
          "base_uri": "https://localhost:8080/"
        },
        "id": "-DZ8BRJYmpxa",
        "outputId": "e3aab38f-884a-4d2b-8838-a3ce7fb70f09"
      },
      "execution_count": 77,
      "outputs": [
        {
          "output_type": "stream",
          "name": "stdout",
          "text": [
            "Total persons created: 3\n"
          ]
        }
      ]
    },
    {
      "cell_type": "code",
      "source": [
        "#9. Write a class Fraction with attributes numerator and denominator. Override the str method to display the fraction as \"numerator/denominator\".\n",
        "class Fraction:\n",
        "    def __init__(self, numerator, denominator):\n",
        "        self.numerator = numerator\n",
        "        self.denominator = denominator\n",
        "    def __str__(self):\n",
        "        return f\"{self.numerator}/{self.denominator}\"\n",
        "f = Fraction(3, 14)\n",
        "print(f)\n"
      ],
      "metadata": {
        "colab": {
          "base_uri": "https://localhost:8080/"
        },
        "id": "B6AGBrKCm_IV",
        "outputId": "4667fd64-7115-4dca-ad4a-3428be369aa7"
      },
      "execution_count": 79,
      "outputs": [
        {
          "output_type": "stream",
          "name": "stdout",
          "text": [
            "3/14\n"
          ]
        }
      ]
    },
    {
      "cell_type": "code",
      "source": [
        " #10. Demonstrate operator overloading by creating a class Vector and overriding the add method to add two vectors.\n",
        "  # Class demonstrating operator overloading\n",
        "class Vector:\n",
        "    def __init__(self, x, y):\n",
        "        self.x = x\n",
        "        self.y = y\n",
        "    # Overloading the + operator\n",
        "    def __add__(self, other):\n",
        "        return Vector(self.x + other.x, self.y + other.y)\n",
        "    def __str__(self):\n",
        "        return f\"({self.x}, {self.y})\"\n",
        "v1 = Vector(2, 3)\n",
        "v2 = Vector(4, 5)\n",
        "v3 = v1 + v2\n",
        "print(\"Vector addition:\", v3)"
      ],
      "metadata": {
        "colab": {
          "base_uri": "https://localhost:8080/"
        },
        "id": "-lYcQnXSnRfp",
        "outputId": "b4e37b88-ea36-46cc-b5b7-e9aa7b84f4f4"
      },
      "execution_count": 80,
      "outputs": [
        {
          "output_type": "stream",
          "name": "stdout",
          "text": [
            "Vector addition: (6, 8)\n"
          ]
        }
      ]
    },
    {
      "cell_type": "code",
      "source": [
        "# 11. Create a class Person with attributes name and age. Add a method greet() that prints \"Hello, my name is {name} and I am {age} years old.\"\n",
        "# Simple class with instance attributes and method\n",
        "class Person:\n",
        "    def __init__(self, name, age):\n",
        "        self.name = name\n",
        "        self.age = age\n",
        "    def greet(self):\n",
        "        print(f\"Hello, my name is {self.name} and I am {self.age} years old.\")\n",
        " # Testing\n",
        "p = Person(\"Ritesh\", 21)\n",
        "p1 = Person(\"Aditi\",20)\n",
        "p.greet()\n",
        "p1.greet()"
      ],
      "metadata": {
        "colab": {
          "base_uri": "https://localhost:8080/"
        },
        "id": "9V76XH9vn-y7",
        "outputId": "153ac185-2938-4ddc-b31a-481810b16625"
      },
      "execution_count": 81,
      "outputs": [
        {
          "output_type": "stream",
          "name": "stdout",
          "text": [
            "Hello, my name is Ritesh and I am 21 years old.\n",
            "Hello, my name is Aditi and I am 20 years old.\n"
          ]
        }
      ]
    },
    {
      "cell_type": "code",
      "source": [
        "#12. Implement a class Student with attributes name and grades. Create a method average_grade() to compute the average of the grades.\n",
        "class Student:\n",
        "    def __init__(self, name, grades):\n",
        "        self.name = name\n",
        "        self.grades = grades\n",
        "    def average_grade(self):\n",
        "        return sum(self.grades) / len(self.grades)\n",
        "\n",
        "s = Student(\"Aayush\", [85, 99, 88, 62])\n",
        "print(\"Average grade:\", s.average_grade())"
      ],
      "metadata": {
        "colab": {
          "base_uri": "https://localhost:8080/"
        },
        "id": "sYY8fOceoIEz",
        "outputId": "bfa53090-7324-40c1-b0a9-f3b4005d4f36"
      },
      "execution_count": 82,
      "outputs": [
        {
          "output_type": "stream",
          "name": "stdout",
          "text": [
            "Average grade: 83.5\n"
          ]
        }
      ]
    },
    {
      "cell_type": "code",
      "source": [
        "#13. Create a class Rectangle with methods set_dimensions() to set the dimensions and area() to calculate the area\n",
        " # Rectangle class with set_dimensions and area methods\n",
        "class Rectangle:\n",
        "    def set_dimensions(self, length, width):\n",
        "        self.length = length\n",
        "        self.width = width\n",
        "    def area(self):\n",
        "        return self.length * self.width\n",
        " # Testing\n",
        "rect = Rectangle()\n",
        "rect.set_dimensions(5, 3)\n",
        "print(\"Area of rectangle:\", rect.area())"
      ],
      "metadata": {
        "colab": {
          "base_uri": "https://localhost:8080/"
        },
        "id": "mYLIWM-Sod_w",
        "outputId": "2eebdaa2-f2da-4d1c-fe73-5db400a97cb3"
      },
      "execution_count": 83,
      "outputs": [
        {
          "output_type": "stream",
          "name": "stdout",
          "text": [
            "Area of rectangle: 15\n"
          ]
        }
      ]
    },
    {
      "cell_type": "code",
      "source": [
        "# 14. Create a class Employee with a method calculate_salary() that computes the salary based on hours worked and hourly rate. Create a derived class Manager that adds a bonus to the salary\n",
        " # Base class\n",
        "class Employee:\n",
        "    def __init__(self, name, hours_worked, hourly_rate):\n",
        "        self.name = name\n",
        "        self.hours_worked = hours_worked\n",
        "        self.hourly_rate = hourly_rate\n",
        "    def calculate_salary(self):\n",
        "        return self.hours_worked * self.hourly_rate\n",
        " # Derived class\n",
        "class Manager(Employee):\n",
        "    def __init__(self, name, hours_worked, hourly_rate, bonus):\n",
        "        super().__init__(name, hours_worked, hourly_rate)\n",
        "        self.bonus = bonus\n",
        "    def calculate_salary(self):\n",
        "        return super().calculate_salary() + self.bonus\n",
        " # Testing\n",
        "emp = Employee(\"mohan\", 40, 20)\n",
        "mgr = Manager(\"Adi\", 40, 20, 500)\n",
        "print(\"Employee salary:\", emp.calculate_salary())\n",
        "print(\"Manager salary:\", mgr.calculate_salary())\n",
        ""
      ],
      "metadata": {
        "colab": {
          "base_uri": "https://localhost:8080/"
        },
        "id": "FerSyiiMoorQ",
        "outputId": "b851e8bd-7dad-4c87-8d91-cb85d32ba541"
      },
      "execution_count": 86,
      "outputs": [
        {
          "output_type": "stream",
          "name": "stdout",
          "text": [
            "Employee salary: 800\n",
            "Manager salary: 1300\n"
          ]
        }
      ]
    },
    {
      "cell_type": "code",
      "source": [
        "#15. Create a class Product with attributes name, price, and quantity. Implement a method total_price() that calculates the total price of the product\n",
        " # Product class with total_price method\n",
        "class Product:\n",
        "    def __init__(self, name, price, quantity):\n",
        "        self.name = name\n",
        "        self.price = price\n",
        "        self.quantity = quantity\n",
        "    def total_price(self):\n",
        "        return self.price * self.quantity\n",
        " # Testing\n",
        "p = Product(\"Laptop\", 500, 3)\n",
        "print(\"Total price:\", p.total_price())"
      ],
      "metadata": {
        "colab": {
          "base_uri": "https://localhost:8080/"
        },
        "id": "tv9EViPOpDeU",
        "outputId": "ec80e75e-6def-4f26-db4d-ff923f8c3d99"
      },
      "execution_count": 88,
      "outputs": [
        {
          "output_type": "stream",
          "name": "stdout",
          "text": [
            "Total price: 1500\n"
          ]
        }
      ]
    },
    {
      "cell_type": "code",
      "source": [
        "#16. Create a class Animal with an abstract method sound(). Create two derived classes Cow and Sheep that implement the sound() method\n",
        "from abc import ABC, abstractmethod\n",
        "class Animal(ABC):\n",
        "    @abstractmethod\n",
        "    def sound(self):\n",
        "        pass\n",
        "class Cow(Animal):\n",
        "    def sound(self):\n",
        "        print(\"Moo!\")\n",
        "class Sheep(Animal):\n",
        "    def sound(self):\n",
        "        print(\"Baa!\")\n",
        "\n",
        "cow = Cow()\n",
        "sheep = Sheep()\n",
        "cow.sound()\n",
        "sheep.sound()"
      ],
      "metadata": {
        "colab": {
          "base_uri": "https://localhost:8080/"
        },
        "id": "V78zMC2xpf-3",
        "outputId": "d76600c2-9e63-4369-932e-8c4f1d4c991a"
      },
      "execution_count": 90,
      "outputs": [
        {
          "output_type": "stream",
          "name": "stdout",
          "text": [
            "Moo!\n",
            "Baa!\n"
          ]
        }
      ]
    },
    {
      "cell_type": "code",
      "source": [
        "#17. Create a class Book with attributes title, author, and year_published. Add a method get_book_info() that returns a formatted string with the book's details.\n",
        "class Book:\n",
        "    def __init__(self, title, author, year_published):\n",
        "        self.title = title\n",
        "        self.author = author\n",
        "        self.year_published =year_published\n",
        "    def get_book_info(self):\n",
        "        return f\"Title: {self.title}\\nAuthor: {self.author}\\nYear Published: {self.year_published}\"\n",
        "book = Book(\"The Alchemist\", \"Paulo Coelho\", 1988)\n",
        "print(book.get_book_info())"
      ],
      "metadata": {
        "colab": {
          "base_uri": "https://localhost:8080/"
        },
        "id": "mPIwZbyGpo7g",
        "outputId": "4e71628e-5483-4634-a17b-5e9c5961c813"
      },
      "execution_count": 92,
      "outputs": [
        {
          "output_type": "stream",
          "name": "stdout",
          "text": [
            "Title: The Alchemist\n",
            "Author: Paulo Coelho\n",
            "Year Published: 1988\n"
          ]
        }
      ]
    },
    {
      "cell_type": "code",
      "source": [
        " #18. Create a class House with attributes address and price. Create a derived class Mansion that adds an attribute number_of_rooms.\n",
        "class House:\n",
        "    def __init__(self, address, price):\n",
        "        self.address = address\n",
        "        self.price = price\n",
        "class Mansion(House):\n",
        "    def __init__(self, address, price, number_of_rooms):\n",
        "        super().__init__(address, price)\n",
        "        self.number_of_rooms = number_of_rooms\n",
        "#testing\n",
        "m = Mansion(\"ambanis vila\", 500000000, 108)\n",
        "print(\"Address:\", m.address)\n",
        "print(\"Price:\", m.price)\n",
        "print(\"Number of rooms:\", m.number_of_rooms)"
      ],
      "metadata": {
        "colab": {
          "base_uri": "https://localhost:8080/"
        },
        "id": "7kdobPmLqIMd",
        "outputId": "58e77812-6e97-4bbc-b940-6a1a43ddd11f"
      },
      "execution_count": 96,
      "outputs": [
        {
          "output_type": "stream",
          "name": "stdout",
          "text": [
            "Address: ambanis vila\n",
            "Price: 500000000\n",
            "Number of rooms: 108\n"
          ]
        }
      ]
    },
    {
      "cell_type": "code",
      "source": [],
      "metadata": {
        "id": "XoW4oAsbrToG"
      },
      "execution_count": null,
      "outputs": []
    }
  ]
}