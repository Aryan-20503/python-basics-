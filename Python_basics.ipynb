{
  "nbformat": 4,
  "nbformat_minor": 0,
  "metadata": {
    "colab": {
      "provenance": []
    },
    "kernelspec": {
      "name": "python3",
      "display_name": "Python 3"
    },
    "language_info": {
      "name": "python"
    }
  },
  "cells": [
    {
      "cell_type": "markdown",
      "source": [
        "Assignment 1: Basic of Python\n",
        "\n"
      ],
      "metadata": {
        "id": "GYbkg3FKwUGD"
      }
    },
    {
      "cell_type": "code",
      "source": [
        "#1. What is Python, and why is it popular ?\n",
        "#Ans. Python is a high level Interpreted programming language known for its simplicity, reliability and versitality.\n",
        "#     Python is generally known for being easy to write, easy to read and powerful and flexible. It was createxd by gudio van rossum and released in 1991.\n",
        "#     Python is so popular because of:\n",
        "#     -Versatility : Used in web development, data science, automation, AI/ML, game development, cybersecurity, etc.\n",
        "#     -libraires : like numpy,panda ,tensor flow ,etc .\n",
        "#     -Massive global community , lots of free learning resources.\n",
        "#     -Allows devloper to write and test ideas fast.\n",
        "#     -multi platform works accross all major OS like Windows,linux without changing any code"
      ],
      "metadata": {
        "id": "90wt72JmcaU_"
      },
      "execution_count": null,
      "outputs": []
    },
    {
      "cell_type": "code",
      "source": [
        "#2. What is an interpreter in Python?\n",
        "#Ans. The interpreter reads yur code , translates it into bytecode and executes the bytercode line by line. The reading\n",
        "#     of the code is callled parsing. Byte code is a low level form of code\n",
        "#     so when you write a code like print(\"hello world\") it reads it converts it to bytecode and excecutes the code."
      ],
      "metadata": {
        "id": "flsAq6kru86V"
      },
      "execution_count": null,
      "outputs": []
    },
    {
      "cell_type": "code",
      "source": [
        "#3. What are pre-defined keywords in Python?\n",
        "#Ans. Pre-defined keys in python are reserved word with  special meaning in the language. you can not use them as variables\n",
        "#     because they are the part of language syntax.They are building blocks of python programs. Some of the key words are\n",
        "#     if, else , foor ,break , etc"
      ],
      "metadata": {
        "id": "aJ-21t0MrXez"
      },
      "execution_count": null,
      "outputs": []
    },
    {
      "cell_type": "code",
      "source": [
        "#4.Can keywords be used as variable names?\n",
        "#Ans. No, keywords cannot be used as variable names in Python. Python reserves keywords to define the structure and rules\n",
        "#     of the language. Using them as variable names would confuse the interpreter and break your code."
      ],
      "metadata": {
        "id": "91wVYV1nrWRb"
      },
      "execution_count": null,
      "outputs": []
    },
    {
      "cell_type": "code",
      "source": [
        "#5. What is mutability in Python?\n",
        "#Ans. Mutability refers to whethen an obejct can be changed after it is created. in python all data fall under two categories\n",
        "#     mutable and immutable .Example of mutable are list, set ,etc . Example of non mutables are string , tuple, etc.\n",
        "#MUTABLE EXAMPLE\n",
        "number= [1,100,1000]\n",
        "number[0]= 6 # MODIFYING THE LIST\n",
        "print(number) # output [6,100,1000]"
      ],
      "metadata": {
        "id": "n2WJBqyMq87l",
        "colab": {
          "base_uri": "https://localhost:8080/"
        },
        "outputId": "f07ca2fa-9f34-4d3d-de62-808aa75f4394"
      },
      "execution_count": 37,
      "outputs": [
        {
          "output_type": "stream",
          "name": "stdout",
          "text": [
            "[6, 100, 1000]\n"
          ]
        }
      ]
    },
    {
      "cell_type": "code",
      "source": [
        "#6. Why are lists mutable, but tuples are immutable?\n",
        "#Ans. list contain sequences that can change over time like adding removing or replacing elements.lists are useful when you\n",
        "#     need flexible and changeable data. But tuples, on the other hand, are meant to be fixed collections of items.They are\n",
        "#     desgied in this way for beter safety, performance."
      ],
      "metadata": {
        "id": "cHLBBGqtwUjT"
      },
      "execution_count": null,
      "outputs": []
    },
    {
      "cell_type": "code",
      "source": [
        "#7. What is the difference between “==” and “is” operators in Python?\n",
        "#Ans. - == is a equality operator. is operator is a identity operator.\n",
        "#     - == checks if two values are equal. is checs if two variables are refer to the exact object in  memory .\n",
        "#     - == compares the value of the object. is compares the identity."
      ],
      "metadata": {
        "id": "GLJjZYCRztrG"
      },
      "execution_count": null,
      "outputs": []
    },
    {
      "cell_type": "code",
      "source": [
        "#8. What are logical operators in Python?\n",
        "#Ans. Logical operators in Python are used to combine boolean expressions (conditions) and return either True or False.\n",
        "#     there ae 3 types of logical operators in python.\n",
        "#     -and: returns true if both conditions are true.\n",
        "#     -or: returns true if at least one of the contionnis true.\n",
        "#     -not: returns the result true become false and, vice versa.It reverses the booleian results."
      ],
      "metadata": {
        "id": "oTqfY3zZ2WLr"
      },
      "execution_count": null,
      "outputs": []
    },
    {
      "cell_type": "code",
      "source": [
        "#8 What is type casting in Python?\n",
        "#Ans. Type casting in Python means converting one data type into another such as changing a string into an integer, or a float into a string.\n",
        "#     there is teo type of type casting implicit and explicit. Implicit is done auto matically by pyython and explicit is done by using\n",
        "#     fuctions like int(),str(),float()."
      ],
      "metadata": {
        "id": "4qvV6oFSEGlq"
      },
      "execution_count": null,
      "outputs": []
    },
    {
      "cell_type": "code",
      "source": [
        "#9. What is the difference between implicit and explicit type casting?\n",
        "#Ans. Implicit type casting\n",
        "#     -done automatically bby python.\n",
        "#     -happens when python safely converts a value behind the scenes..\n",
        "#     -no data loss or erroe expected.\n",
        "# for example\n",
        "x=9     #int\n",
        "y=0.3  #float\n",
        "z=x+y  # python converts x to float\n",
        "print(z) # output 9.3\n",
        "\n",
        "#    Explict type casting\n",
        "#    -Done manually by the programmer.\n",
        "#    -You use functions like int(), float(), str(), etc.\n",
        "#    -Use when you want to control how data is converted.\n",
        "# for eexample\n",
        "a=\"10\"\n",
        "b=int(a) # manually converting string to a int\n",
        "print(b+ 5)# out put is 15.\n",
        "# you told pthon t convert a into a n integer."
      ],
      "metadata": {
        "colab": {
          "base_uri": "https://localhost:8080/"
        },
        "id": "EbzM2bDUFYF_",
        "outputId": "495a308a-407c-40e1-dbe9-e4360698f396"
      },
      "execution_count": 38,
      "outputs": [
        {
          "output_type": "stream",
          "name": "stdout",
          "text": [
            "9.3\n",
            "15\n"
          ]
        }
      ]
    },
    {
      "cell_type": "code",
      "source": [
        "#11. What is the purpose of conditional statements in Python?\n",
        "#Ans. Conditional statements in Python are used to make decisions in a program  they allow your code to choose different\n",
        "#     actions based on certain conditions.\n",
        "#     Purpose:\n",
        "#     -To contol the flow of a program.\n",
        "#     -To execute different blocks of code depending on whether a condition is True or False\n",
        "#     FOR EXAMPLE\n",
        "age=14\n",
        "if age>=18:\n",
        "    print(\"you can vote.\")\n",
        "else:\n",
        "    print(\"you cannot vote.\")\n",
        "\n",
        "#The program checks the code and decides what to print.\n",
        "\n",
        "\n"
      ],
      "metadata": {
        "colab": {
          "base_uri": "https://localhost:8080/"
        },
        "id": "zZ-R-ZJ8S1uf",
        "outputId": "5d46bf62-8497-4514-9eee-500f2f305baf"
      },
      "execution_count": null,
      "outputs": [
        {
          "output_type": "stream",
          "name": "stdout",
          "text": [
            "you cannot vote.\n"
          ]
        }
      ]
    },
    {
      "cell_type": "code",
      "source": [
        "#12. How does the elif statement work?\n",
        "#Ans. the elif statemment in python is short for \"else if \". it allows you to check multiple conditions in an if elif else chain\n",
        "#     and it runs the first block of code where the condition is true.\n",
        "#    - the program checks the first if condition\n",
        "#    -if it is true the block is excecuted and the rest is ignored.\n",
        "#    -if not true then it checks the elif condition.\n",
        "#    - this continues down the chain and if none of the if or elif contions are true, the else block runs.\n",
        "\n",
        "#for example\n",
        "x = 1236\n",
        "\n",
        "if x < 5:\n",
        "    print(\"Less than 100\")\n",
        "elif x < 15:\n",
        "    print(\"Less than 1000\")\n",
        "else:\n",
        "    print(\"1000 or more\")\n",
        "\n",
        ""
      ],
      "metadata": {
        "id": "ukP-47vQXZHr",
        "colab": {
          "base_uri": "https://localhost:8080/"
        },
        "outputId": "d7118946-3b3b-4120-b5de-7a690d76f158"
      },
      "execution_count": 1,
      "outputs": [
        {
          "output_type": "stream",
          "name": "stdout",
          "text": [
            "1000 or more\n"
          ]
        }
      ]
    },
    {
      "cell_type": "code",
      "source": [
        "#13. What is the difference between for and while loops?\n",
        "#Ans. for loop:\n",
        "#     Used when you know in advance how many times you want to loop.\n",
        "#     it hoops over a sequence like a list,string,tuple,or ranage\n",
        "#     automatically ends when the sequence ends.\n",
        "#     for example:\n",
        "\n",
        "print(\"example for for loop\")\n",
        "for i in range(8):\n",
        "    print(i)  #the loop exactky runs for 8 times\n",
        "\n",
        "#     while loop:\n",
        "#     Used when you don't know in advance how many times to loop.\n",
        "#     Keeps running as long as the condition is True.\n",
        "#     You must manually update variables to eventually stop the loop.\n",
        "#     for example:\n",
        "\n",
        "print(\"example for while loop\")\n",
        "x=0\n",
        "while x<5:\n",
        "  print(x)\n",
        "  x +=1\n",
        "  #This loop keeps running as long as the condition (x < 5) is True.\n"
      ],
      "metadata": {
        "id": "piQGOnL3jshJ"
      },
      "execution_count": null,
      "outputs": []
    },
    {
      "cell_type": "code",
      "source": [
        "#14. Describe a scenario where a while loop is more suitable than a for loop.\n",
        "#Ans. A while loop is more suitale when you do not know in advance how many times the loop will run.\n",
        "#example scenario\n",
        "\n",
        "correct_password = \"astac20503\"\n",
        "user_input = \"\"\n",
        "\n",
        "while user_input != correct_password:\n",
        "    user_input = input(\"Enter the password: \")\n",
        "\n",
        "print(\"Access granted!\")\n",
        "#    while loop is suitabl for this scenario because you dont know how many trie the user will take the loop continues until the conditon is met.\n"
      ],
      "metadata": {
        "colab": {
          "base_uri": "https://localhost:8080/"
        },
        "id": "AYHdDdEKkP8a",
        "outputId": "5877cf82-f2cf-458b-c37d-af3b26dc837b"
      },
      "execution_count": 12,
      "outputs": [
        {
          "output_type": "stream",
          "name": "stdout",
          "text": [
            "Enter the password: astac205\n",
            "Enter the password: astac2\n",
            "Enter the password: astac20503\n",
            "Access granted!\n"
          ]
        }
      ]
    },
    {
      "cell_type": "markdown",
      "source": [
        "Practical Questions"
      ],
      "metadata": {
        "id": "lnkusR-8wkH-"
      }
    },
    {
      "cell_type": "code",
      "source": [
        "#1. what is a python program to print \"Hello, World!\".\n",
        "\n",
        "print(\"Hello, World!\")"
      ],
      "metadata": {
        "colab": {
          "base_uri": "https://localhost:8080/"
        },
        "id": "gJCTj8yhozga",
        "outputId": "46ce4be5-cb29-458b-d5db-514f1ac4b8bb"
      },
      "execution_count": 13,
      "outputs": [
        {
          "output_type": "stream",
          "name": "stdout",
          "text": [
            "Hello, World!\n"
          ]
        }
      ]
    },
    {
      "cell_type": "code",
      "source": [
        "#2. write a python program that displays your name and age\n",
        "\n",
        "name=\"Astac\"\n",
        "age=22\n",
        "print(\"My name is\",name,\"and I am\",age,\"years old.\")\n"
      ],
      "metadata": {
        "colab": {
          "base_uri": "https://localhost:8080/"
        },
        "id": "L8v2YX2ww6Bl",
        "outputId": "69e8e10f-dec8-49b9-be03-b36b1379a7d0"
      },
      "execution_count": 14,
      "outputs": [
        {
          "output_type": "stream",
          "name": "stdout",
          "text": [
            "My name is Astac and I am 22 years old.\n"
          ]
        }
      ]
    },
    {
      "cell_type": "code",
      "source": [
        "#3. Write code to print all the pre-defined keywords in Python using the keyword library.\n",
        "import keyword\n",
        "print(keyword.kwlist)"
      ],
      "metadata": {
        "colab": {
          "base_uri": "https://localhost:8080/"
        },
        "id": "XsHUf4oXx-Ut",
        "outputId": "e8f33b4a-e668-4555-8bef-d2779c8e4389"
      },
      "execution_count": 16,
      "outputs": [
        {
          "output_type": "stream",
          "name": "stdout",
          "text": [
            "['False', 'None', 'True', 'and', 'as', 'assert', 'async', 'await', 'break', 'class', 'continue', 'def', 'del', 'elif', 'else', 'except', 'finally', 'for', 'from', 'global', 'if', 'import', 'in', 'is', 'lambda', 'nonlocal', 'not', 'or', 'pass', 'raise', 'return', 'try', 'while', 'with', 'yield']\n"
          ]
        }
      ]
    },
    {
      "cell_type": "code",
      "source": [
        "#4. Write a program that checks if a given word is a Python keyword.\n",
        "import keyword\n",
        "\n",
        "word = input(\"Enter a word: \")\n",
        "list_keywords=keyword.kwlist\n",
        "if word in list_keywords:\n",
        "    print(\"it is a python keyword.\")\n",
        "else:\n",
        "    print(\"it is not a python keyword.\")\n"
      ],
      "metadata": {
        "colab": {
          "base_uri": "https://localhost:8080/"
        },
        "id": "jpvceUGMynxq",
        "outputId": "add29fd6-3db5-471e-aae3-5f0382ef9731"
      },
      "execution_count": 18,
      "outputs": [
        {
          "output_type": "stream",
          "name": "stdout",
          "text": [
            "Enter a word: aysc\n",
            "'aysc' is NOT a Python keyword.\n"
          ]
        }
      ]
    },
    {
      "cell_type": "code",
      "source": [
        "#5.Create a list and tuple in Python, and demonstrate how attempting to change an element works differently for each.\n",
        "my_list=[1,2,4,5]#lisit\n",
        "print(\"original list: \",my_list)\n",
        "#changing an element in my_list\n",
        "my_list[3]=3\n",
        "print(\"new list after changing an element:\",my_list)\n",
        "\n",
        "print()\n",
        "\n",
        "my_tuple=(1,2,4,5,) #tuple\n",
        "print(\"original tuple: \",my_tuple)\n",
        "#changing an element in list\n",
        "\n",
        "my_tuple[3]=3\n",
        "print(\"new Tuple after changing an element :\",my_tuple)\n"
      ],
      "metadata": {
        "colab": {
          "base_uri": "https://localhost:8080/",
          "height": 263
        },
        "id": "CFOK5WSh0Ol9",
        "outputId": "91d6925e-1dea-41df-fe07-21c34ffa39a7"
      },
      "execution_count": 20,
      "outputs": [
        {
          "output_type": "stream",
          "name": "stdout",
          "text": [
            "original list:  [1, 2, 4, 5]\n",
            "new list after changing an element: [1, 2, 4, 3]\n",
            "\n",
            "original tuple:  (1, 2, 4, 5)\n"
          ]
        },
        {
          "output_type": "error",
          "ename": "TypeError",
          "evalue": "'tuple' object does not support item assignment",
          "traceback": [
            "\u001b[0;31m---------------------------------------------------------------------------\u001b[0m",
            "\u001b[0;31mTypeError\u001b[0m                                 Traceback (most recent call last)",
            "\u001b[0;32m/tmp/ipython-input-4252810057.py\u001b[0m in \u001b[0;36m<cell line: 0>\u001b[0;34m()\u001b[0m\n\u001b[1;32m     12\u001b[0m \u001b[0;31m#changing an element in list\u001b[0m\u001b[0;34m\u001b[0m\u001b[0;34m\u001b[0m\u001b[0m\n\u001b[1;32m     13\u001b[0m \u001b[0;34m\u001b[0m\u001b[0m\n\u001b[0;32m---> 14\u001b[0;31m \u001b[0mmy_tuple\u001b[0m\u001b[0;34m[\u001b[0m\u001b[0;36m3\u001b[0m\u001b[0;34m]\u001b[0m\u001b[0;34m=\u001b[0m\u001b[0;36m3\u001b[0m\u001b[0;34m\u001b[0m\u001b[0;34m\u001b[0m\u001b[0m\n\u001b[0m\u001b[1;32m     15\u001b[0m \u001b[0mprint\u001b[0m\u001b[0;34m(\u001b[0m\u001b[0;34m\"new Tuple after changing an element :\"\u001b[0m\u001b[0;34m,\u001b[0m\u001b[0mmy_tuple\u001b[0m\u001b[0;34m)\u001b[0m\u001b[0;34m\u001b[0m\u001b[0;34m\u001b[0m\u001b[0m\n",
            "\u001b[0;31mTypeError\u001b[0m: 'tuple' object does not support item assignment"
          ]
        }
      ]
    },
    {
      "cell_type": "code",
      "source": [
        "#6. Write a function to demonstrate the behavior of mutable and immutable arguments.\n",
        "def mutable():\n",
        "  my_list=[1,2,4,5]#list\n",
        "  print(\"original list: \",my_list)\n",
        "  #changing an element in list\n",
        "  my_list[3]=3\n",
        "  print(\"new list after changing an element :\",my_list)\n",
        "def immutable():\n",
        "  my_tuple=(2,4,3,6) #tuple\n",
        "  print(\"original tuple: \",my_tuple)\n",
        "  #changing an element in list\n",
        "  try:\n",
        "    my_tuple[2]=5\n",
        "    print(\"Tuple after changing an element :\",my_tuple)\n",
        "  except:\n",
        "    print(\"Tuple is Immutable\")\n",
        "\n",
        "mutable()\n",
        "immutable()"
      ],
      "metadata": {
        "colab": {
          "base_uri": "https://localhost:8080/"
        },
        "id": "sFBG1uljIW7V",
        "outputId": "cfe455c9-624e-4aa1-be84-cfb99652611e"
      },
      "execution_count": 22,
      "outputs": [
        {
          "output_type": "stream",
          "name": "stdout",
          "text": [
            "original list:  [1, 2, 4, 5]\n",
            "new list after changing an element : [1, 2, 4, 3]\n",
            "original tuple:  (2, 4, 3, 6)\n",
            "Tuple is Immutable\n"
          ]
        }
      ]
    },
    {
      "cell_type": "code",
      "source": [
        "#7. Write a program that performs basic arithmetic operations on two user-input numbers.\n",
        "number1=int(input(\"Enter the first number\"))\n",
        "number2=int(input(\"Enter the second number\"))\n",
        "print(\"Addition of two number :\",number1+number2)\n",
        "print(\"Subtraction of two number :\",number1-number2)\n",
        "print(\"Multiplication of two number :\",number1*number2)\n",
        "print(\"Division of two number :\",number1/number2)\n",
        "print(\"Floor Division of two number :\",number1//number2)\n",
        "print(\"Exponent of two number :\",number1**number2)\n",
        "print(\"Modulus of two number :\",number1%number2)\n"
      ],
      "metadata": {
        "colab": {
          "base_uri": "https://localhost:8080/"
        },
        "id": "QCvbMuEoJrY2",
        "outputId": "7bafcea1-c49c-4ded-9c93-eaca92e8839c"
      },
      "execution_count": 23,
      "outputs": [
        {
          "output_type": "stream",
          "name": "stdout",
          "text": [
            "Enter the first number2\n",
            "Enter the second number3\n",
            "Addition of two number : 5\n",
            "Subtraction of two number : -1\n",
            "Multiplication of two number : 6\n",
            "Division of two number : 0.6666666666666666\n",
            "Floor Division of two number : 0\n",
            "Exponent of two number : 8\n",
            "Modulus of two number : 2\n"
          ]
        }
      ]
    },
    {
      "cell_type": "code",
      "source": [
        "#8. Write a program to demonstrate the use of logical operators.\n",
        "number1=True\n",
        "number2=False\n",
        "print(\"logical Operator and :\",number1 and number2)\n",
        "print(\"logical Operator or :\",number1 or number2)\n",
        "print(\"logical Operator not :\",not number1 )"
      ],
      "metadata": {
        "colab": {
          "base_uri": "https://localhost:8080/"
        },
        "id": "WNtIfm9cKrFF",
        "outputId": "af33696f-0d6a-450d-9ee7-d53018826892"
      },
      "execution_count": 28,
      "outputs": [
        {
          "output_type": "stream",
          "name": "stdout",
          "text": [
            "logical Operator and : False\n",
            "logical Operator or : True\n",
            "logical Operator not : False\n"
          ]
        }
      ]
    },
    {
      "cell_type": "code",
      "source": [
        "#9. Write a Python program to convert user input from string to integer, float, and boolean types\n",
        "user_input=input(\"Enter the number: \")\n",
        "print(\"User_input :\",user_input)\n",
        "if user_input.isdigit():\n",
        "  #String --> integer\n",
        "  print(\"User input in integer:\",int(user_input))\n",
        "  #String --> float\n",
        "  print(\"User input in float:\",float(user_input))\n",
        "  #String --> boolean\n",
        "  print(\"User input in boolean:\",bool(user_input))\n",
        "else:\n",
        "  print(\"Invalid Input , Enter a digit\")"
      ],
      "metadata": {
        "colab": {
          "base_uri": "https://localhost:8080/"
        },
        "id": "U73s9rGxMD0u",
        "outputId": "aebff8ef-d87d-4bfd-9d56-0b683f70e5db"
      },
      "execution_count": 27,
      "outputs": [
        {
          "output_type": "stream",
          "name": "stdout",
          "text": [
            "Enter the number: 2\n",
            "User_input : 2\n",
            "User input in integer: 2\n",
            "User input in float: 2.0\n",
            "User input in boolean: True\n"
          ]
        }
      ]
    },
    {
      "cell_type": "code",
      "source": [
        "#10. Write code to demonstrate type casting with list elements\n",
        "#lst1 consist of float and integer\n",
        "def implicit(lst1):\n",
        "  total_sum=sum(lst1)\n",
        "  print(total_sum)\n",
        "\n",
        "def explicit(lst2):\n",
        "  num=[int(i) for i in lst2]\n",
        "  total_sum2=sum(num)\n",
        "  print(total_sum2)\n",
        "\n",
        "#lst2 consist of string and integer\n",
        "lst1=[1,2,3.3,4.5,6.0]\n",
        "lst2=['1','2','3','4','5']\n",
        "implicit(lst1)\n",
        "explicit(lst2)\n"
      ],
      "metadata": {
        "colab": {
          "base_uri": "https://localhost:8080/"
        },
        "id": "hUKFujdCN5Gb",
        "outputId": "fe294e04-54e7-45c2-e639-add4c35f87ab"
      },
      "execution_count": 39,
      "outputs": [
        {
          "output_type": "stream",
          "name": "stdout",
          "text": [
            "16.8\n",
            "15\n"
          ]
        }
      ]
    },
    {
      "cell_type": "code",
      "source": [
        "#11. Write a program that checks if a number is positive, negative, or zero\n",
        "number=int(input(\"Enter the number: \"))\n",
        "if number>0:\n",
        "  print(\"Number is positive\")\n",
        "elif number<0:\n",
        "  print(\"Number is negative\")\n",
        "else:\n",
        "  print(\"Number is zero\")\n",
        ""
      ],
      "metadata": {
        "colab": {
          "base_uri": "https://localhost:8080/"
        },
        "id": "ARaZ_asjPajF",
        "outputId": "dbd0dd33-e381-474c-fa46-230ba690a712"
      },
      "execution_count": 36,
      "outputs": [
        {
          "output_type": "stream",
          "name": "stdout",
          "text": [
            "Enter the number: 6\n",
            "Number is positive\n"
          ]
        }
      ]
    },
    {
      "cell_type": "code",
      "source": [
        "##12. Write a for loop to print numbers from 1 to 10.\n",
        "for i in range(1,5):\n",
        "  print(i)"
      ],
      "metadata": {
        "colab": {
          "base_uri": "https://localhost:8080/"
        },
        "id": "aYLhXtQAPhM3",
        "outputId": "1857d822-5a9d-434b-db8e-30c70281792a"
      },
      "execution_count": 31,
      "outputs": [
        {
          "output_type": "stream",
          "name": "stdout",
          "text": [
            "1\n",
            "2\n",
            "3\n",
            "4\n"
          ]
        }
      ]
    },
    {
      "cell_type": "code",
      "source": [
        "#13. Write a Python program to find the sum of all even numbers between 1 and 50.\n",
        "total=0\n",
        "for i in range(1,51):\n",
        "  if i%2==0:\n",
        "    total+=i\n",
        "print(\"Sum of all even numbers between 1 and 50 :\",total)"
      ],
      "metadata": {
        "colab": {
          "base_uri": "https://localhost:8080/"
        },
        "id": "7v4oCbT0PtMo",
        "outputId": "69650445-02ea-45bc-ec13-922112f5bcdd"
      },
      "execution_count": 32,
      "outputs": [
        {
          "output_type": "stream",
          "name": "stdout",
          "text": [
            "Sum of all even numbers between 1 and 50 : 650\n"
          ]
        }
      ]
    },
    {
      "cell_type": "code",
      "source": [
        "#14. Write a program to reverse a string using a while loop.\n",
        "original = input(\"Enter a string: \")\n",
        "reversed_string = \"\"\n",
        "i = len(original) - 1\n",
        "\n",
        "# Use while loop to reverse the string\n",
        "while i >= 0:\n",
        "    reversed_string += original[i]\n",
        "    i -= 1\n",
        "print(\"Reversed string:\", reversed_string)\n",
        "\n",
        "\n",
        "\n"
      ],
      "metadata": {
        "colab": {
          "base_uri": "https://localhost:8080/"
        },
        "id": "I5z3NH2kPtEE",
        "outputId": "3a1b2311-1a0c-486f-8ec0-554aa097dcf0"
      },
      "execution_count": 33,
      "outputs": [
        {
          "output_type": "stream",
          "name": "stdout",
          "text": [
            "Enter a string: ASTAC\n",
            "Reversed string: CATSA\n"
          ]
        }
      ]
    },
    {
      "cell_type": "code",
      "source": [
        "#15. Write a Python program to calculate the factorial of a number provided by the user using a while loop\n",
        "number=int(input(\"Enter the number: \"))\n",
        "factorial=1\n",
        "current=number\n",
        "while current>1:\n",
        "  factorial*=current\n",
        "  current-=1\n",
        "  print(\"Factorial of\",number,\"is\",factorial)\n"
      ],
      "metadata": {
        "colab": {
          "base_uri": "https://localhost:8080/"
        },
        "id": "fTjKCUpoPs61",
        "outputId": "ccc5e960-7d77-4dfe-c9ec-0500456d0e9b"
      },
      "execution_count": 35,
      "outputs": [
        {
          "output_type": "stream",
          "name": "stdout",
          "text": [
            "Enter the number: 5\n",
            "Factorial of 5 is 5\n",
            "Factorial of 5 is 20\n",
            "Factorial of 5 is 60\n",
            "Factorial of 5 is 120\n"
          ]
        }
      ]
    },
    {
      "cell_type": "code",
      "source": [],
      "metadata": {
        "id": "CWJL3bHxY6JC"
      },
      "execution_count": null,
      "outputs": []
    }
  ]
}