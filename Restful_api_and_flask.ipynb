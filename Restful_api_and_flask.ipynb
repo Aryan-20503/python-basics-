{
  "nbformat": 4,
  "nbformat_minor": 0,
  "metadata": {
    "colab": {
      "provenance": []
    },
    "kernelspec": {
      "name": "python3",
      "display_name": "Python 3"
    },
    "language_info": {
      "name": "python"
    }
  },
  "cells": [
    {
      "cell_type": "markdown",
      "source": [
        "THEORY QUESTON"
      ],
      "metadata": {
        "id": "wa3BLCqoNHAM"
      }
    },
    {
      "cell_type": "markdown",
      "source": [
        "1. What is a RESTful API?\n",
        "\n",
        "A RESTful API is like a messenger that lets apps or websites talk to each other over the internet. It uses simple rules to share data, like sending and receiving messages, usually in a format called JSON. Think of it as a way to ask a server for info (like a list of users) or tell it to do something (like add a new user).\n",
        "\n",
        "Key Ideas\n",
        "- REST: Stands for Representational State Transfer, a set of rules for building APIs.\n",
        "- HTTP Methods: Commands like:\n",
        "  - GET: Get data (e.g., fetch a list of students).\n",
        "  - POST: Send new data (e.g., add a student).\n",
        "  - PUT: Update data (e.g., change a student’s name).\n",
        "- DELETE: Remove data (e.g., delete a student).\n",
        "- Endpoints: URLs like /students or /students/1 where you send requests.\n",
        "- Stateless: Each request is independent; the server doesn’t remember past requests.\n",
        "- JSON: Data is usually sent as JSON, like {\"id\": 1, \"name\": \"Alice\"}."
      ],
      "metadata": {
        "id": "srKRLzd5NTg7"
      }
    },
    {
      "cell_type": "markdown",
      "source": [
        "2. Explain the concept of API specification\n",
        "\n",
        "\n",
        "An **API specification** is a structured document that defines how an Application Programming Interface (API) works. It acts as a **blueprint or contract** between the API provider and the consumer, describing the rules of communication between two software systems.\n",
        "\n",
        "It typically includes:\n",
        "\n",
        "1. **Endpoints/Resources** – The URLs or paths that can be accessed (e.g., `/users`, `/products/{id}`).\n",
        "2. **Methods/Operations** – The actions that can be performed, such as `GET` (retrieve), `POST` (create), `PUT/PATCH` (update), and `DELETE` (remove).\n",
        "3. **Request Details** – Information about what inputs are required, like headers, query parameters, or body data.\n",
        "4. **Response Format** – The structure of the data returned, usually in **JSON** or **XML**, including success and failure responses.\n",
        "5. **Authentication & Security** – How access is managed (API keys, OAuth, JWT tokens).\n",
        "6. **Error Handling** – Standard error codes and messages (`404 Not Found`, `401 Unauthorized`, etc.).\n",
        "\n",
        "Importance of API Specification\n",
        "\n",
        "* Serves as a **reference guide** for developers.\n",
        "* Ensures **consistency** in API usage.\n",
        "* Facilitates **integration** between different applications.\n",
        "* Useful for **testing, documentation, and automation**.\n",
        "\n",
        "Common Standards\n",
        "\n",
        "* **OpenAPI (Swagger)** → Widely used for REST APIs.\n",
        "* **RAML** → RESTful API Modeling Language.\n",
        "* **GraphQL SDL** → For GraphQL APIs.\n",
        "* **gRPC/Protocol Buffers** → For high-performance APIs.\n",
        "\n",
        "\n"
      ],
      "metadata": {
        "id": "DoVHgim7NTd-"
      }
    },
    {
      "cell_type": "markdown",
      "source": [
        "3. What is Flask, and why is it popular for building APIs\n",
        "\n",
        "Flask is a super simple Python tool for building websites and APIs (ways for apps to talk to each other). It’s like a small toolbox that gives you just what you need to create web stuff, without extra fluff.\n",
        "\n",
        "Why Flask is Popular for Building APIs?\n",
        "\n",
        "- Lightweight and Simple:\n",
        "Flask has a minimal core, making it easy for beginners to learn and use without unnecessary complexity.\n",
        "\n",
        "- Flexibility:\n",
        "Unlike larger frameworks (like Django), Flask does not impose strict rules or structures. Developers can design APIs in their own style.\n",
        "\n",
        "- Built-in Development Server & Debugger:\n",
        "Flask provides a simple server and debugger, making development and testing fast.\n",
        "\n",
        "- RESTful Request Handling:\n",
        "Flask makes it easy to define routes and handle HTTP methods (GET, POST, PUT, DELETE), which are essential for building APIs.\n",
        "\n",
        "- Extensible with Libraries:\n",
        "Many extensions (like Flask-RESTful, Flask-SQLAlchemy, Flask-JWT) can be added for database handling, authentication, or advanced API features.\n",
        "\n",
        "- Community Support:\n",
        "Flask has strong documentation and a large developer community, making it reliable for both beginners and professionals."
      ],
      "metadata": {
        "id": "HMcx7FpLNTbJ"
      }
    },
    {
      "cell_type": "markdown",
      "source": [
        "4. What is routing in Flask?\n",
        "\n",
        "Routing in Flask is the process of mapping a URL (web address) to a specific function in your application. When a user visits a URL, Flask decides which function (called a view function) should handle the request based on the defined route.\n",
        "\n",
        "Routes are created using the @app.route() decorator.\n",
        "\n",
        "Each route tells Flask “if someone visits this URL, run this function.”\n",
        "\n",
        "Key Aspects of Routing\n",
        "1. URL Mapping\n",
        "Routes define how URLs (e.g., /, /about) are linked to view functions using the @app.route() decorator.\n",
        "\n",
        "2. HTTP Methods\n",
        "Routes can specify allowed HTTP methods (e.g., GET, POST) to handle different types of requests:"
      ],
      "metadata": {
        "id": "YBQk9kApNTYF"
      }
    },
    {
      "cell_type": "markdown",
      "source": [
        "5. How do you create a simple Flask application?\n",
        "\n",
        "Key Points\n",
        "\n",
        "- Flask(__name__) → Creates the app instance.\n",
        "\n",
        "- @app.route('/') → Defines the URL path (in this case, the homepage).\n",
        "\n",
        "- app.run(debug=True) → Runs the app with debugging enabled.\n",
        "\n",
        "Creating a Simple Flask Application\n",
        "\n",
        "To create a simple Flask application, you follow these steps:\n"
      ],
      "metadata": {
        "id": "utQTk8ViNTVO"
      }
    },
    {
      "cell_type": "code",
      "source": [
        "!pip install -q flask pyngrok\n",
        "\n",
        "\n",
        "from pyngrok import ngrok, conf\n",
        "\n",
        "# Paste your token here\n",
        "ngrok.set_auth_token(\"32WXLZT2IbMP3xdz6h3EhpTH5Ah_5TBpM4FdjVf4BrRcBZa78\")\n",
        "\n",
        "\n",
        "\n",
        "# Simple Flask app + ngrok for Colab\n",
        "from flask import Flask\n",
        "from pyngrok import ngrok\n",
        "import threading\n",
        "import time\n",
        "\n",
        "app = Flask(__name__)\n",
        "\n",
        "@app.route(\"/\")\n",
        "def home():\n",
        "    return \"Hello PW Skills 👋\"\n",
        "\n",
        "# 1) Open an ngrok tunnel (port 5000)\n",
        "tunnel = ngrok.connect(5000)\n",
        "print(\"Public URL (open this in your browser):\", tunnel.public_url)\n",
        "\n",
        "# 2) Run Flask in a background thread so the notebook stays usable\n",
        "def run_app():\n",
        "    app.run(host=\"0.0.0.0\", port=5000, debug=False, use_reloader=False)\n",
        "\n",
        "thread = threading.Thread(target=run_app)\n",
        "thread.start()\n",
        "\n",
        "# give the server a moment to start\n",
        "time.sleep(1)\n",
        "print(\"Flask app should be running now.\")"
      ],
      "metadata": {
        "colab": {
          "base_uri": "https://localhost:8080/"
        },
        "id": "Bj2LWyqHWToo",
        "outputId": "952f5b9d-f32d-4a46-8df6-36da0399136b"
      },
      "execution_count": 8,
      "outputs": [
        {
          "output_type": "stream",
          "name": "stdout",
          "text": [
            "Public URL (open this in your browser): https://aefa55281f3c.ngrok-free.app\n",
            " * Serving Flask app '__main__'\n",
            " * Debug mode: off\n"
          ]
        },
        {
          "output_type": "stream",
          "name": "stderr",
          "text": [
            "Address already in use\n",
            "Port 5000 is in use by another program. Either identify and stop that program, or start the server with a different port.\n"
          ]
        },
        {
          "output_type": "stream",
          "name": "stdout",
          "text": [
            "Flask app should be running now.\n"
          ]
        }
      ]
    },
    {
      "cell_type": "code",
      "source": [
        "from google.colab import files\n",
        "from IPython.display import Image\n",
        "\n",
        "\n",
        "uploaded = files.upload()\n",
        "\n",
        "Image('McLaren.jpeg')"
      ],
      "metadata": {
        "colab": {
          "base_uri": "https://localhost:8080/",
          "height": 733
        },
        "id": "9T7zJo7UWeXO",
        "outputId": "250388f3-a449-424b-c9a7-584ed1e42fd1"
      },
      "execution_count": 11,
      "outputs": [
        {
          "output_type": "display_data",
          "data": {
            "text/plain": [
              "<IPython.core.display.HTML object>"
            ],
            "text/html": [
              "\n",
              "     <input type=\"file\" id=\"files-5759b649-3a03-4cd3-acc2-d6ba48244497\" name=\"files[]\" multiple disabled\n",
              "        style=\"border:none\" />\n",
              "     <output id=\"result-5759b649-3a03-4cd3-acc2-d6ba48244497\">\n",
              "      Upload widget is only available when the cell has been executed in the\n",
              "      current browser session. Please rerun this cell to enable.\n",
              "      </output>\n",
              "      <script>// Copyright 2017 Google LLC\n",
              "//\n",
              "// Licensed under the Apache License, Version 2.0 (the \"License\");\n",
              "// you may not use this file except in compliance with the License.\n",
              "// You may obtain a copy of the License at\n",
              "//\n",
              "//      http://www.apache.org/licenses/LICENSE-2.0\n",
              "//\n",
              "// Unless required by applicable law or agreed to in writing, software\n",
              "// distributed under the License is distributed on an \"AS IS\" BASIS,\n",
              "// WITHOUT WARRANTIES OR CONDITIONS OF ANY KIND, either express or implied.\n",
              "// See the License for the specific language governing permissions and\n",
              "// limitations under the License.\n",
              "\n",
              "/**\n",
              " * @fileoverview Helpers for google.colab Python module.\n",
              " */\n",
              "(function(scope) {\n",
              "function span(text, styleAttributes = {}) {\n",
              "  const element = document.createElement('span');\n",
              "  element.textContent = text;\n",
              "  for (const key of Object.keys(styleAttributes)) {\n",
              "    element.style[key] = styleAttributes[key];\n",
              "  }\n",
              "  return element;\n",
              "}\n",
              "\n",
              "// Max number of bytes which will be uploaded at a time.\n",
              "const MAX_PAYLOAD_SIZE = 100 * 1024;\n",
              "\n",
              "function _uploadFiles(inputId, outputId) {\n",
              "  const steps = uploadFilesStep(inputId, outputId);\n",
              "  const outputElement = document.getElementById(outputId);\n",
              "  // Cache steps on the outputElement to make it available for the next call\n",
              "  // to uploadFilesContinue from Python.\n",
              "  outputElement.steps = steps;\n",
              "\n",
              "  return _uploadFilesContinue(outputId);\n",
              "}\n",
              "\n",
              "// This is roughly an async generator (not supported in the browser yet),\n",
              "// where there are multiple asynchronous steps and the Python side is going\n",
              "// to poll for completion of each step.\n",
              "// This uses a Promise to block the python side on completion of each step,\n",
              "// then passes the result of the previous step as the input to the next step.\n",
              "function _uploadFilesContinue(outputId) {\n",
              "  const outputElement = document.getElementById(outputId);\n",
              "  const steps = outputElement.steps;\n",
              "\n",
              "  const next = steps.next(outputElement.lastPromiseValue);\n",
              "  return Promise.resolve(next.value.promise).then((value) => {\n",
              "    // Cache the last promise value to make it available to the next\n",
              "    // step of the generator.\n",
              "    outputElement.lastPromiseValue = value;\n",
              "    return next.value.response;\n",
              "  });\n",
              "}\n",
              "\n",
              "/**\n",
              " * Generator function which is called between each async step of the upload\n",
              " * process.\n",
              " * @param {string} inputId Element ID of the input file picker element.\n",
              " * @param {string} outputId Element ID of the output display.\n",
              " * @return {!Iterable<!Object>} Iterable of next steps.\n",
              " */\n",
              "function* uploadFilesStep(inputId, outputId) {\n",
              "  const inputElement = document.getElementById(inputId);\n",
              "  inputElement.disabled = false;\n",
              "\n",
              "  const outputElement = document.getElementById(outputId);\n",
              "  outputElement.innerHTML = '';\n",
              "\n",
              "  const pickedPromise = new Promise((resolve) => {\n",
              "    inputElement.addEventListener('change', (e) => {\n",
              "      resolve(e.target.files);\n",
              "    });\n",
              "  });\n",
              "\n",
              "  const cancel = document.createElement('button');\n",
              "  inputElement.parentElement.appendChild(cancel);\n",
              "  cancel.textContent = 'Cancel upload';\n",
              "  const cancelPromise = new Promise((resolve) => {\n",
              "    cancel.onclick = () => {\n",
              "      resolve(null);\n",
              "    };\n",
              "  });\n",
              "\n",
              "  // Wait for the user to pick the files.\n",
              "  const files = yield {\n",
              "    promise: Promise.race([pickedPromise, cancelPromise]),\n",
              "    response: {\n",
              "      action: 'starting',\n",
              "    }\n",
              "  };\n",
              "\n",
              "  cancel.remove();\n",
              "\n",
              "  // Disable the input element since further picks are not allowed.\n",
              "  inputElement.disabled = true;\n",
              "\n",
              "  if (!files) {\n",
              "    return {\n",
              "      response: {\n",
              "        action: 'complete',\n",
              "      }\n",
              "    };\n",
              "  }\n",
              "\n",
              "  for (const file of files) {\n",
              "    const li = document.createElement('li');\n",
              "    li.append(span(file.name, {fontWeight: 'bold'}));\n",
              "    li.append(span(\n",
              "        `(${file.type || 'n/a'}) - ${file.size} bytes, ` +\n",
              "        `last modified: ${\n",
              "            file.lastModifiedDate ? file.lastModifiedDate.toLocaleDateString() :\n",
              "                                    'n/a'} - `));\n",
              "    const percent = span('0% done');\n",
              "    li.appendChild(percent);\n",
              "\n",
              "    outputElement.appendChild(li);\n",
              "\n",
              "    const fileDataPromise = new Promise((resolve) => {\n",
              "      const reader = new FileReader();\n",
              "      reader.onload = (e) => {\n",
              "        resolve(e.target.result);\n",
              "      };\n",
              "      reader.readAsArrayBuffer(file);\n",
              "    });\n",
              "    // Wait for the data to be ready.\n",
              "    let fileData = yield {\n",
              "      promise: fileDataPromise,\n",
              "      response: {\n",
              "        action: 'continue',\n",
              "      }\n",
              "    };\n",
              "\n",
              "    // Use a chunked sending to avoid message size limits. See b/62115660.\n",
              "    let position = 0;\n",
              "    do {\n",
              "      const length = Math.min(fileData.byteLength - position, MAX_PAYLOAD_SIZE);\n",
              "      const chunk = new Uint8Array(fileData, position, length);\n",
              "      position += length;\n",
              "\n",
              "      const base64 = btoa(String.fromCharCode.apply(null, chunk));\n",
              "      yield {\n",
              "        response: {\n",
              "          action: 'append',\n",
              "          file: file.name,\n",
              "          data: base64,\n",
              "        },\n",
              "      };\n",
              "\n",
              "      let percentDone = fileData.byteLength === 0 ?\n",
              "          100 :\n",
              "          Math.round((position / fileData.byteLength) * 100);\n",
              "      percent.textContent = `${percentDone}% done`;\n",
              "\n",
              "    } while (position < fileData.byteLength);\n",
              "  }\n",
              "\n",
              "  // All done.\n",
              "  yield {\n",
              "    response: {\n",
              "      action: 'complete',\n",
              "    }\n",
              "  };\n",
              "}\n",
              "\n",
              "scope.google = scope.google || {};\n",
              "scope.google.colab = scope.google.colab || {};\n",
              "scope.google.colab._files = {\n",
              "  _uploadFiles,\n",
              "  _uploadFilesContinue,\n",
              "};\n",
              "})(self);\n",
              "</script> "
            ]
          },
          "metadata": {}
        },
        {
          "output_type": "stream",
          "name": "stdout",
          "text": [
            "Saving McLaren.jpeg to McLaren (2).jpeg\n"
          ]
        },
        {
          "output_type": "execute_result",
          "data": {
            "image/jpeg": "[encoded data removed]",
            "text/plain": [
              "<IPython.core.display.Image object>"
            ]
          },
          "metadata": {},
          "execution_count": 11
        }
      ]
    },
    {
      "cell_type": "markdown",
      "source": [
        "6. What are HTTP methods used in RESTful APIs?\n",
        "\n",
        "HTTP Methods in RESTful APIs\n",
        "\n",
        "RESTful APIs use standard HTTP methods to perform different types of operations on resources. The main ones are:\n",
        "\n",
        "1. GET\n",
        "\n",
        "- Used to retrieve data from the server.\n",
        "\n",
        "- Example: GET /users → Fetches a list of users.\n",
        "\n",
        "2. POST\n",
        "\n",
        "- Used to create a new resource on the server.\n",
        "\n",
        "- Example: POST /users → Creates a new user.\n",
        "\n",
        "3. PUT\n",
        "\n",
        "- Used to update an existing resource (replaces the whole resource).\n",
        "\n",
        "- Example: PUT /users/1 → Updates user with ID 1.\n",
        "\n",
        "4. PATCH\n",
        "\n",
        "- Used to partially update a resource.\n",
        "\n",
        "- Example: PATCH /users/1 → Updates only specific fields of user 1.\n",
        "\n",
        "5. DELETE\n",
        "\n",
        "- Used to remove a resource from the server.\n",
        "\n",
        "- Example: DELETE /users/1 → Deletes user with ID 1.\n",
        "\n",
        "Additional Methods (less common in REST APIs):\n",
        "\n",
        "- HEAD → Similar to GET, but only retrieves headers (no response body).\n",
        "\n",
        "- OPTIONS → Shows which HTTP methods are allowed for a resource"
      ],
      "metadata": {
        "id": "A4HmNpVmTwzd"
      }
    },
    {
      "cell_type": "markdown",
      "source": [
        "7. What is the purpose of the @app.route() decorator in Flask?\n",
        "\n",
        "The @app.route() decorator in Flask is used to bind a URL to a specific function, known as a view function, in a Flask web application. It tells Flask which URL should trigger the function and how to handle HTTP requests for that URL.\n",
        "\n",
        "Key Purposes:\n",
        "- URL Routing: It maps a URL path (e.g., /, /about) to a Python function that generates a response when the URL is accessed.\n",
        "- HTTP Method Handling: It allows you to specify which HTTP methods (e.g., GET, POST) the function can handle for the given URL.\n",
        "- Dynamic Routing: It supports dynamic URLs by allowing variable parts in the URL (e.g., /user/<username>) to capture parameters and pass them to the function.\n",
        "\n",
        "\n"
      ],
      "metadata": {
        "id": "LdK7wxvMY5Jr"
      }
    },
    {
      "cell_type": "code",
      "source": [
        "#Example\n",
        "\n",
        "from flask import Flask\n",
        "app = Flask(__name__)\n",
        "\n",
        "@app.route('/')\n",
        "def home():\n",
        "    return 'Welcome!'\n",
        "\n",
        "@app.route('/user/')\n",
        "def user(name):\n",
        "    return f'Hello, {name}!'"
      ],
      "metadata": {
        "id": "uuA0QGJpckXm"
      },
      "execution_count": 12,
      "outputs": []
    },
    {
      "cell_type": "markdown",
      "source": [
        "8. What is the difference between GET and POST HTTP methods?\n",
        "\n",
        "Diddernce between GET and POST HTTP method :\n",
        "\n",
        "| **Aspect**       | **GET**                                                             | **POST**                                                      |\n",
        "| ---------------- | ------------------------------------------------------------------- | ------------------------------------------------------------- |\n",
        "| **Purpose**      | Used to **retrieve data** from the server.                          | Used to **send data** to the server (e.g., create or update). |\n",
        "| **Data Sending** | Data is sent via **URL query string** (e.g., `/search?name=Alice`). | Data is sent in the **request body**, not visible in the URL. |\n",
        "| **Visibility**   | Parameters are **visible in the URL** → less secure.                | Parameters are **hidden in the body** → more secure.          |\n",
        "| **Idempotence**  | Safe and idempotent (does not change server data).                  | Not idempotent (creates/changes data on the server).          |\n",
        "| **Size Limit**   | Limited data length (depends on URL length).                        | Can handle large amounts of data (e.g., form data, files).    |\n",
        "| **Caching**      | Can be cached and bookmarked.                                       | Cannot be cached/bookmarked.                                  |\n",
        "| **Use Case**     | Fetching data, search queries, reading resources.                   | Submitting forms, uploading files, creating records.          |\n"
      ],
      "metadata": {
        "id": "EPuom9XiY5GW"
      }
    },
    {
      "cell_type": "code",
      "source": [
        "#**Example in Flask**:\n",
        "\n",
        "from flask import Flask, request\n",
        "app = Flask(__name__)\n",
        "\n",
        "@app.route('/get', methods=['GET'])\n",
        "def get_data():\n",
        "    return request.args.get('key', 'No data')\n",
        "\n",
        "@app.route('/post', methods=['POST'])\n",
        "def post_data():\n",
        "    return request.form.get('key', 'No data')\n"
      ],
      "metadata": {
        "id": "5Qob4DiSc-kJ"
      },
      "execution_count": 13,
      "outputs": []
    },
    {
      "cell_type": "markdown",
      "source": [
        "9. How do you handle errors in Flask APIs?\n",
        "\n",
        "In Flask APIs, errors can happen when:\n",
        "\n",
        "- A page or resource doesn’t exist (404 Not Found)\n",
        "\n",
        "- The server crashes (500 Internal Server Error)\n",
        "\n",
        "- The client sends bad data (400 Bad Request)\n",
        "\n",
        "Exception Handling:\n",
        "\n",
        "- Use try-except blocks within routes to catch specific exceptions and return custom responses.\n",
        "\n",
        "HTTPException:\n",
        "\n",
        "- Use Flask’s abort to raise HTTP errors with custom messages.\n",
        "\n",
        "Global Error Handling:\n",
        "\n",
        "- Handle uncaught exceptions globally using @app.errorhandler(Exception)."
      ],
      "metadata": {
        "id": "OGF1DaJxY5Dp"
      }
    },
    {
      "cell_type": "markdown",
      "source": [
        "10. How do you connect Flask to a SQL database?\n",
        "Connecting Flask to a SQL Database\n",
        "\n",
        "Connecting Flask to a SQL Database\n",
        "\n",
        "Flask can be connected to SQL databases (like SQLite, MySQL, PostgreSQL) using ORMs (Object-Relational Mappers) or database drivers. The most common method is using Flask-SQLAlchemy.\n",
        "\n"
      ],
      "metadata": {
        "id": "Wz_HiFWeY5Ao"
      }
    },
    {
      "cell_type": "code",
      "source": [
        "#Steps Using Flask-SQLAlchemy\n",
        "\n",
        "# 1. Install Flask-SQLAlchemy\n",
        "\n",
        "!pip install flask-sqlalchemy\n",
        "\n",
        "\n",
        "#Configure the Database in Flask\n",
        "\n",
        "from flask import Flask\n",
        "from flask_sqlalchemy import SQLAlchemy\n",
        "\n",
        "app = Flask(__name__)\n",
        "# Example: SQLite database\n",
        "app.config['SQLALCHEMY_DATABASE_URI'] = 'sqlite:///test.db'\n",
        "\n",
        "db = SQLAlchemy(app)\n",
        "\n",
        "\n",
        "#Define Models (Tables)\n",
        "\n",
        "class User(db.Model):\n",
        "    id = db.Column(db.Integer, primary_key=True)\n",
        "    name = db.Column(db.String(50))\n",
        "    email = db.Column(db.String(100))\n",
        "\n",
        "\n",
        "#Create the Database\n",
        "\n",
        "with app.app_context():\n",
        "    db.create_all()\n",
        "\n",
        "\n",
        "#Perform CRUD Operations\n",
        "with app.app_context():\n",
        "    # Add a new user\n",
        "    new_user = User(name=\"Alice\", email=\"alice@example.com\")\n",
        "    db.session.add(new_user)\n",
        "    db.session.commit()\n",
        "\n",
        "    # Query users\n",
        "    users = User.query.all()\n",
        "\n",
        "    # You can print the users to verify\n",
        "    for user in users:\n",
        "        print(f\"User ID: {user.id}, Name: {user.name}, Email: {user.email}\")"
      ],
      "metadata": {
        "colab": {
          "base_uri": "https://localhost:8080/"
        },
        "collapsed": true,
        "id": "U-WcytXeeWX2",
        "outputId": "f0062f66-226b-4ab2-cf66-9343c4963d7a"
      },
      "execution_count": 16,
      "outputs": [
        {
          "output_type": "stream",
          "name": "stdout",
          "text": [
            "Requirement already satisfied: flask-sqlalchemy in /usr/local/lib/python3.12/dist-packages (3.1.1)\n",
            "Requirement already satisfied: flask>=2.2.5 in /usr/local/lib/python3.12/dist-packages (from flask-sqlalchemy) (3.1.2)\n",
            "Requirement already satisfied: sqlalchemy>=2.0.16 in /usr/local/lib/python3.12/dist-packages (from flask-sqlalchemy) (2.0.43)\n",
            "Requirement already satisfied: blinker>=1.9.0 in /usr/local/lib/python3.12/dist-packages (from flask>=2.2.5->flask-sqlalchemy) (1.9.0)\n",
            "Requirement already satisfied: click>=8.1.3 in /usr/local/lib/python3.12/dist-packages (from flask>=2.2.5->flask-sqlalchemy) (8.2.1)\n",
            "Requirement already satisfied: itsdangerous>=2.2.0 in /usr/local/lib/python3.12/dist-packages (from flask>=2.2.5->flask-sqlalchemy) (2.2.0)\n",
            "Requirement already satisfied: jinja2>=3.1.2 in /usr/local/lib/python3.12/dist-packages (from flask>=2.2.5->flask-sqlalchemy) (3.1.6)\n",
            "Requirement already satisfied: markupsafe>=2.1.1 in /usr/local/lib/python3.12/dist-packages (from flask>=2.2.5->flask-sqlalchemy) (3.0.2)\n",
            "Requirement already satisfied: werkzeug>=3.1.0 in /usr/local/lib/python3.12/dist-packages (from flask>=2.2.5->flask-sqlalchemy) (3.1.3)\n",
            "Requirement already satisfied: greenlet>=1 in /usr/local/lib/python3.12/dist-packages (from sqlalchemy>=2.0.16->flask-sqlalchemy) (3.2.4)\n",
            "Requirement already satisfied: typing-extensions>=4.6.0 in /usr/local/lib/python3.12/dist-packages (from sqlalchemy>=2.0.16->flask-sqlalchemy) (4.15.0)\n",
            "User ID: 1, Name: Alice, Email: alice@example.com\n"
          ]
        }
      ]
    },
    {
      "cell_type": "markdown",
      "source": [
        "11. What is the role of Flask-SQLAlchemy?\n",
        "\n",
        "Role of Flask-SQLAlchemy\n",
        "\n",
        "Flask-SQLAlchemy is an extension for Flask that simplifies working with SQL databases. It acts as an Object-Relational Mapper (ORM), allowing developers to interact with databases using Python classes and objects instead of writing raw SQL queries.\n",
        "\n",
        "Key Roles:\n",
        "\n",
        "- Database Abstraction: Maps Python classes to database tables and objects to rows.\n",
        "\n",
        "- Simplifies CRUD Operations: Makes creating, reading, updating, and deleting records easy.\n",
        "\n",
        "- Supports Multiple Databases: Works with SQLite, MySQL, PostgreSQL, etc.\n",
        "\n",
        "- Integration with Flask: Provides seamless access to the database using Flask’s app context.\n",
        "\n",
        "- Query Flexibility: Allows filtering, ordering, and joining data using Python syntax."
      ],
      "metadata": {
        "id": "tI3lvkO-NTSj"
      }
    },
    {
      "cell_type": "markdown",
      "source": [
        "12. What are Flask blueprints, and how are they useful?\n",
        "\n",
        "Flask Blueprints\n",
        "\n",
        "Flask Blueprints are a way to organize a Flask application into reusable and modular components. Instead of putting all routes and logic in a single file, you can split your app into smaller sections, each with its own routes, templates, and static files.\n",
        "\n",
        "Why Blueprints Are Useful\n",
        "\n",
        "- Modularity: Break large applications into smaller, manageable parts.\n",
        "\n",
        "- Reusability: Blueprints can be reused across multiple projects.\n",
        "\n",
        "- Better Organization: Keeps routes, views, and templates organized by feature.\n",
        "\n",
        "- Scalability: Makes it easier to maintain and scale large applications."
      ],
      "metadata": {
        "id": "st0Y9pQQfbjB"
      }
    },
    {
      "cell_type": "markdown",
      "source": [
        "13. What is the purpose of Flask's request object?\n",
        "\n",
        "Flask’s request Object\n",
        "\n",
        "In Flask, the request object represents the incoming HTTP request sent by a client (like a browser or API consumer). It allows the server to access all the data sent by the client.\n",
        "\n",
        "Purpose / Role\n",
        "\n",
        "- Access Form Data: Retrieve data sent via HTML forms (request.form).\n",
        "\n",
        "- Access Query Parameters: Get values from the URL (request.args).\n",
        "\n",
        "- Access JSON Data: Parse JSON payloads in API requests (request.get_json()).\n",
        "\n",
        "- Access Headers: Read HTTP headers (request.headers).\n",
        "\n",
        "- Determine Request Info: Check the HTTP method (request.method), URL, cookies, or files."
      ],
      "metadata": {
        "id": "Y6mH2842fbfm"
      }
    },
    {
      "cell_type": "markdown",
      "source": [
        "14. How do you create a RESTful API endpoint using Flask?\n",
        "\n",
        "Creating a RESTful API Endpoint Using Flask\n",
        "\n",
        "A RESTful API endpoint allows clients to perform CRUD operations (Create, Read, Update, Delete) on resources using HTTP methods (GET, POST, PUT, DELETE)."
      ],
      "metadata": {
        "id": "1RyffP2Tfbcg"
      }
    },
    {
      "cell_type": "code",
      "source": [
        "from flask import Flask, request, jsonify\n",
        "\n",
        "app = Flask(__name__)\n",
        "students = [{\"id\": 1, \"name\": \"Alice\"}]\n",
        "\n",
        "# GET → fetch data\n",
        "@app.route(\"/students\", methods=[\"GET\"])\n",
        "def get_students():\n",
        "    return jsonify(students)\n",
        "\n",
        "# POST → add data\n",
        "@app.route(\"/students\", methods=[\"POST\"])\n",
        "def add_student():\n",
        "    data = request.get_json()\n",
        "    new = {\"id\": len(students)+1, \"name\": data[\"name\"]}\n",
        "    students.append(new)\n",
        "    return jsonify(new), 201\n",
        "\n",
        "if __name__ == \"__main__\":\n",
        "    app.run(debug=True, port=5002)"
      ],
      "metadata": {
        "colab": {
          "base_uri": "https://localhost:8080/"
        },
        "id": "okfsiOdog9qf",
        "outputId": "9631c737-497b-4ce0-839c-569b18684981"
      },
      "execution_count": 22,
      "outputs": [
        {
          "output_type": "stream",
          "name": "stdout",
          "text": [
            " * Serving Flask app '__main__'\n",
            " * Debug mode: on\n"
          ]
        },
        {
          "output_type": "stream",
          "name": "stderr",
          "text": [
            "INFO:werkzeug:\u001b[31m\u001b[1mWARNING: This is a development server. Do not use it in a production deployment. Use a production WSGI server instead.\u001b[0m\n",
            " * Running on http://127.0.0.1:5002\n",
            "INFO:werkzeug:\u001b[33mPress CTRL+C to quit\u001b[0m\n",
            "INFO:werkzeug: * Restarting with watchdog (inotify)\n"
          ]
        }
      ]
    },
    {
      "cell_type": "markdown",
      "source": [
        "15. What is the purpose of Flask's jsonify() function?\n",
        "\n",
        "Purpose of Flask’s jsonify() Function\n",
        "\n",
        "The jsonify() function in Flask is used to convert Python data structures (like dictionaries or lists) into a JSON response that can be sent to the client. It also sets the correct Content-Type header (application/json) automatically.\n",
        "\n",
        "Key Points:\n",
        "\n",
        "- Converts Python objects → JSON format.\n",
        "\n",
        "- Automatically sets HTTP response headers for JSON.\n",
        "\n",
        "- Simplifies returning data from API endpoints."
      ],
      "metadata": {
        "id": "nPYAbq1jfbZo"
      }
    },
    {
      "cell_type": "markdown",
      "source": [
        "16. Explain Flask’s url_for() function.\n",
        "\n",
        "Flask’s url_for() Function\n",
        "\n",
        "The url_for() function in Flask is used to generate URLs for routes dynamically based on the function name instead of hardcoding the URL. This makes your application more maintainable because URLs can change without breaking links.\n",
        "\n",
        "Key Points:\n",
        "\n",
        "- Generates a URL using the view function’s name.\n",
        "\n",
        "- Can pass dynamic parameters for routes with variables.\n",
        "\n",
        "- Helps avoid hardcoding URLs, making the app more flexible and less error-prone."
      ],
      "metadata": {
        "id": "UwHxzmFgiK6P"
      }
    },
    {
      "cell_type": "code",
      "source": [
        "#Example\n",
        "from flask import Flask, url_for\n",
        "\n",
        "app = Flask(__name__)\n",
        "\n",
        "@app.route('/')\n",
        "def home():\n",
        "    return 'Home Page'\n",
        "\n",
        "@app.route('/user/<username>')\n",
        "def profile(username):\n",
        "    return f'Profile: {username}'\n",
        "\n",
        "@app.route('/test')\n",
        "def test():\n",
        "    # Generate URLs dynamically\n",
        "    home_url = url_for('home')  # Returns '/'\n",
        "    profile_url = url_for('profile', username='Alice')  # Returns '/user/Alice'\n",
        "    return f'Home URL: {home_url}, Profile URL: {profile_url}'"
      ],
      "metadata": {
        "id": "3w-w7RnRj-Lo"
      },
      "execution_count": 23,
      "outputs": []
    },
    {
      "cell_type": "markdown",
      "source": [
        "17. How does Flask handle static files (CSS, JavaScript, etc.)?\n",
        "\n",
        "Handling Static Files in Flask\n",
        "Flask handles static files (e.g., CSS, JavaScript, images) by serving them from a designated static folder in the project directory. This allows web applications to deliver assets like stylesheets, scripts, and images to clients efficiently.\n",
        "\n",
        "How Flask Handles Static Files\n",
        "1. Default Static Folder\n",
        "Flask automatically looks for static files in a folder named static in the project root. The folder can contain CSS, JavaScript, images, etc.\n",
        "\n",
        "2. Static Route\n",
        "Flask provides a default route /static/<filename> to access files in the static folder. For example, /static/style.css serves static/style.css.\n",
        "\n",
        "3. Using url_for for Static Files\n",
        "Use the url_for('static', filename='path/to/file') function to generate URLs for static files dynamically, ensuring flexibility if the static path changes."
      ],
      "metadata": {
        "id": "e7--g3QeiK3Y"
      }
    },
    {
      "cell_type": "code",
      "source": [
        "#Example\n",
        "#Project Structure\n",
        "#my_flask_app/ │ ├── app.py ├── static/ │ ├── style.css │ ├── script.js │ └── images/ └── templates/ └── index.html"
      ],
      "metadata": {
        "id": "kJieT2p9kVAn"
      },
      "execution_count": 25,
      "outputs": []
    },
    {
      "cell_type": "markdown",
      "source": [
        "18. What is an API specification, and how does it help in building a Flask API?\n",
        "\n",
        "API Specification\n",
        "\n",
        "An API specification is a formal document that describes how an API should work. It defines the endpoints, HTTP methods, input parameters, output formats, authentication, and error codes. Essentially, it acts as a contract between the API provider and the client, telling developers exactly how to interact with the API.\n",
        "\n",
        "How It Helps in Building a Flask API\n",
        "\n",
        "1. Clarity and Consistency:\n",
        "\n",
        "- Provides a clear blueprint for what routes and methods to implement.\n",
        "\n",
        "- Ensures consistent request and response formats.\n",
        "\n",
        "2. Faster Development:\n",
        "\n",
        "- Developers can implement endpoints according to the spec without guesswork.\n",
        "\n",
        "- Reduces errors and miscommunication between backend and frontend teams.\n",
        "\n",
        "3. Testing and Validation:\n",
        "\n",
        "- Makes it easier to test the API against predefined inputs and outputs.\n",
        "\n",
        "- Tools like Swagger/OpenAPI can auto-generate documentation and mock servers.\n",
        "\n",
        "4. Maintenance and Scalability:\n",
        "\n",
        "- Easier to update APIs without breaking existing functionality.\n",
        "\n",
        "- Helps in planning modular and scalable Flask apps."
      ],
      "metadata": {
        "id": "kJD7BgBRiKsT"
      }
    },
    {
      "cell_type": "markdown",
      "source": [
        "19. What are HTTP status codes, and why are they important in a Flask API?\n",
        "\n",
        "HTTP Status Codes\n",
        "\n",
        "HTTP status codes are three-digit numbers returned by a server to indicate the result of a client’s request. They tell the client whether the request was successful, failed, or requires further action.\n",
        "\n",
        "Categories of Status Codes\n",
        "| **Category**  | **Range** | **Meaning**                                                   |\n",
        "| ------------- | --------- | ------------------------------------------------------------- |\n",
        "| Informational | 100–199   | Request received, processing                                  |\n",
        "| Success       | 200–299   | Request successful (e.g., 200 OK, 201 Created)                |\n",
        "| Redirection   | 300–399   | Further action required to complete request                   |\n",
        "| Client Error  | 400–499   | Error caused by client (e.g., 400 Bad Request, 404 Not Found) |\n",
        "| Server Error  | 500–599   | Error caused by server (e.g., 500 Internal Server Error)      |\n",
        "\n",
        "\n",
        "Importance in a Flask API\n",
        "\n",
        "1. Communicates Outcome:\n",
        "\n",
        "- Tells clients if the request succeeded or failed.\n",
        "\n",
        "2. Improves Error Handling:\n",
        "\n",
        "- Helps clients handle responses properly (e.g., retry, show error message).\n",
        "\n",
        "3. Standards Compliance:\n",
        "\n",
        "- Ensures the API follows RESTful conventions.\n",
        "\n",
        "4. Debugging and Monitoring:\n",
        "\n",
        "- Makes it easier to identify issues on client or server side."
      ],
      "metadata": {
        "id": "6FMWza07iKoz"
      }
    },
    {
      "cell_type": "markdown",
      "source": [
        "20. How do you handle POST requests in Flask?\n",
        "\n",
        "Handling POST Requests in Flask\n",
        "\n",
        "A POST request is used to send data to the server (e.g., creating a new resource). In Flask, you handle POST requests by:\n",
        "\n",
        "- Specifying the HTTP method in the route.\n",
        "\n",
        "- Accessing the incoming data using the request object.\n",
        "\n",
        "- Processing the data and returning a response."
      ],
      "metadata": {
        "id": "-hQ5TieoiKlp"
      }
    },
    {
      "cell_type": "markdown",
      "source": [
        "21. How would you secure a Flask API?\n",
        "\n",
        "Securing a Flask API\n",
        "\n",
        "Securing a Flask API ensures that only authorized users can access resources, and sensitive data is protected from attacks.\n",
        "\n",
        "Common Security Measures\n",
        "\n",
        "1. Authentication & Authorization\n",
        "\n",
        "- API keys: Simple way to identify clients.\n",
        "\n",
        "- JWT (JSON Web Tokens): Tokens that carry user information securely.\n",
        "\n",
        "- OAuth2: Industry-standard protocol for authorization.\n",
        "\n",
        "2. Use HTTPS\n",
        "\n",
        "- Encrypts data in transit between client and server.\n",
        "\n",
        "- Prevents eavesdropping and man-in-the-middle attacks.\n",
        "\n",
        "\n",
        "\n",
        "3. Rate Limiting\n",
        "\n",
        "- Limit the number of requests per user to prevent DoS attacks.\n",
        "\n",
        "- Example: Using Flask-Limiter.\n",
        "\n",
        "4. CORS (Cross-Origin Resource Sharing)\n",
        "\n",
        "- Control which domains can access your API using Flask-CORS.\n",
        "\n",
        "5. Error Handling & Logging\n",
        "\n",
        "- Avoid exposing sensitive information in error messages.\n",
        "\n",
        "- Log suspicious activity for monitoring.\n",
        "\n",
        "6. Secure Dependencies\n",
        "\n",
        "- Keep Flask and extensions updated to patch known vulnerabilities.\n",
        "\n",
        "7. Input Validation & Sanitization\n",
        "\n",
        "- Validate incoming data to prevent SQL injection, XSS, or other attacks."
      ],
      "metadata": {
        "id": "GXx6nuX5l20H"
      }
    },
    {
      "cell_type": "markdown",
      "source": [
        "22. What is the significance of the Flask-RESTful extension?\n",
        "\n",
        "Flask-RESTful Extension\n",
        "\n",
        "Flask-RESTful is an extension for Flask that simplifies the process of building RESTful APIs. It provides tools to create APIs quickly and maintainably, following REST principles.\n",
        "\n",
        "Significance / Advantages\n",
        "\n",
        "1. Resource-Based Approach:\n",
        "\n",
        "- Allows defining API endpoints as resources (classes), improving code organization.\n",
        "\n",
        "2. Automatic HTTP Method Handling:\n",
        "\n",
        "- Supports standard methods like GET, POST, PUT, DELETE in a clean, structured way.\n",
        "\n",
        "3. Request Parsing:\n",
        "\n",
        "- Provides reqparse to validate and parse incoming request data easily.\n",
        "\n",
        "4. Consistent Responses:\n",
        "\n",
        "- Makes returning JSON responses and status codes simpler.\n",
        "\n",
        "5. Better Maintainability:\n",
        "\n",
        "- Helps manage large APIs by structuring code around resources instead of functions."
      ],
      "metadata": {
        "id": "D6WEqnoDl2xL"
      }
    },
    {
      "cell_type": "markdown",
      "source": [
        "23. What is the role of Flask’s session object?\n",
        "\n",
        "Role of Flask's Session Object\n",
        "Definition: Flask's session object is a dictionary-like interface that allows developers to store user-specific data across multiple HTTP requests in a Flask application. It provides a way to maintain state in a stateless HTTP environment by storing data on the server or client side (typically as a secure cookie).\n",
        "\n",
        "Key Roles\n",
        "- Persistent User Data Storage:\n",
        "Stores user-specific data (e.g., user ID, preferences) between requests, enabling a personalized user experience.\n",
        "\n",
        "- State Management:\n",
        "Maintains session state for users, such as login status or shopping cart contents, during their interaction with the application.\n",
        "\n",
        "- Secure Cookie-Based Storage:\n",
        "By default, stores data in a client-side cookie, signed cryptographically to prevent tampering, ensuring security.\n",
        "\n",
        "- Temporary Data Handling:\n",
        "Allows temporary storage of data (e.g., form data during multi-step processes) that persists for the duration of the session."
      ],
      "metadata": {
        "id": "dw3lJsGSl2oE"
      }
    },
    {
      "cell_type": "markdown",
      "source": [
        "PRACTICAL QUESTONS\n"
      ],
      "metadata": {
        "id": "dRc3QNwal2lF"
      }
    },
    {
      "cell_type": "markdown",
      "source": [
        "1. How do you create a basic Flask application?"
      ],
      "metadata": {
        "id": "G6rm6wpIl2iA"
      }
    },
    {
      "cell_type": "code",
      "execution_count": 27,
      "metadata": {
        "colab": {
          "base_uri": "https://localhost:8080/",
          "height": 356
        },
        "collapsed": true,
        "id": "Oe9vtQRCGVEL",
        "outputId": "be3a3a3c-3f81-49b7-983a-36a91aab8978"
      },
      "outputs": [
        {
          "output_type": "error",
          "ename": "KeyboardInterrupt",
          "evalue": "Interrupted by user",
          "traceback": [
            "\u001b[0;31m---------------------------------------------------------------------------\u001b[0m",
            "\u001b[0;31mKeyboardInterrupt\u001b[0m                         Traceback (most recent call last)",
            "\u001b[0;32m/tmp/ipython-input-3676229296.py\u001b[0m in \u001b[0;36m<cell line: 0>\u001b[0;34m()\u001b[0m\n\u001b[1;32m      4\u001b[0m \u001b[0;34m\u001b[0m\u001b[0m\n\u001b[1;32m      5\u001b[0m \u001b[0;31m# Set ngrok authtoken (get from ngrok.com)\u001b[0m\u001b[0;34m\u001b[0m\u001b[0;34m\u001b[0m\u001b[0m\n\u001b[0;32m----> 6\u001b[0;31m \u001b[0mngrok\u001b[0m\u001b[0;34m.\u001b[0m\u001b[0mset_auth_token\u001b[0m\u001b[0;34m(\u001b[0m\u001b[0mgetpass\u001b[0m\u001b[0;34m.\u001b[0m\u001b[0mgetpass\u001b[0m\u001b[0;34m(\u001b[0m\u001b[0;34m'Enter ngrok token: '\u001b[0m\u001b[0;34m)\u001b[0m\u001b[0;34m)\u001b[0m\u001b[0;34m\u001b[0m\u001b[0;34m\u001b[0m\u001b[0m\n\u001b[0m\u001b[1;32m      7\u001b[0m \u001b[0;34m\u001b[0m\u001b[0m\n\u001b[1;32m      8\u001b[0m \u001b[0mapp\u001b[0m \u001b[0;34m=\u001b[0m \u001b[0mFlask\u001b[0m\u001b[0;34m(\u001b[0m\u001b[0m__name__\u001b[0m\u001b[0;34m)\u001b[0m\u001b[0;34m\u001b[0m\u001b[0;34m\u001b[0m\u001b[0m\n",
            "\u001b[0;32m/usr/local/lib/python3.12/dist-packages/ipykernel/kernelbase.py\u001b[0m in \u001b[0;36mgetpass\u001b[0;34m(self, prompt, stream)\u001b[0m\n\u001b[1;32m   1157\u001b[0m                 \u001b[0mstacklevel\u001b[0m\u001b[0;34m=\u001b[0m\u001b[0;36m2\u001b[0m\u001b[0;34m,\u001b[0m\u001b[0;34m\u001b[0m\u001b[0;34m\u001b[0m\u001b[0m\n\u001b[1;32m   1158\u001b[0m             )\n\u001b[0;32m-> 1159\u001b[0;31m         return self._input_request(\n\u001b[0m\u001b[1;32m   1160\u001b[0m             \u001b[0mprompt\u001b[0m\u001b[0;34m,\u001b[0m\u001b[0;34m\u001b[0m\u001b[0;34m\u001b[0m\u001b[0m\n\u001b[1;32m   1161\u001b[0m             \u001b[0mself\u001b[0m\u001b[0;34m.\u001b[0m\u001b[0m_parent_ident\u001b[0m\u001b[0;34m[\u001b[0m\u001b[0;34m\"shell\"\u001b[0m\u001b[0;34m]\u001b[0m\u001b[0;34m,\u001b[0m\u001b[0;34m\u001b[0m\u001b[0;34m\u001b[0m\u001b[0m\n",
            "\u001b[0;32m/usr/local/lib/python3.12/dist-packages/ipykernel/kernelbase.py\u001b[0m in \u001b[0;36m_input_request\u001b[0;34m(self, prompt, ident, parent, password)\u001b[0m\n\u001b[1;32m   1217\u001b[0m             \u001b[0;32mexcept\u001b[0m \u001b[0mKeyboardInterrupt\u001b[0m\u001b[0;34m:\u001b[0m\u001b[0;34m\u001b[0m\u001b[0;34m\u001b[0m\u001b[0m\n\u001b[1;32m   1218\u001b[0m                 \u001b[0;31m# re-raise KeyboardInterrupt, to truncate traceback\u001b[0m\u001b[0;34m\u001b[0m\u001b[0;34m\u001b[0m\u001b[0m\n\u001b[0;32m-> 1219\u001b[0;31m                 \u001b[0;32mraise\u001b[0m \u001b[0mKeyboardInterrupt\u001b[0m\u001b[0;34m(\u001b[0m\u001b[0;34m\"Interrupted by user\"\u001b[0m\u001b[0;34m)\u001b[0m \u001b[0;32mfrom\u001b[0m \u001b[0;32mNone\u001b[0m\u001b[0;34m\u001b[0m\u001b[0;34m\u001b[0m\u001b[0m\n\u001b[0m\u001b[1;32m   1220\u001b[0m             \u001b[0;32mexcept\u001b[0m \u001b[0mException\u001b[0m\u001b[0;34m:\u001b[0m\u001b[0;34m\u001b[0m\u001b[0;34m\u001b[0m\u001b[0m\n\u001b[1;32m   1221\u001b[0m                 \u001b[0mself\u001b[0m\u001b[0;34m.\u001b[0m\u001b[0mlog\u001b[0m\u001b[0;34m.\u001b[0m\u001b[0mwarning\u001b[0m\u001b[0;34m(\u001b[0m\u001b[0;34m\"Invalid Message:\"\u001b[0m\u001b[0;34m,\u001b[0m \u001b[0mexc_info\u001b[0m\u001b[0;34m=\u001b[0m\u001b[0;32mTrue\u001b[0m\u001b[0;34m)\u001b[0m\u001b[0;34m\u001b[0m\u001b[0;34m\u001b[0m\u001b[0m\n",
            "\u001b[0;31mKeyboardInterrupt\u001b[0m: Interrupted by user"
          ]
        }
      ],
      "source": [
        "from flask import Flask\n",
        "from pyngrok import ngrok\n",
        "import getpass\n",
        "\n",
        "# Set ngrok authtoken (get from ngrok.com)\n",
        "ngrok.set_auth_token(getpass.getpass('Enter ngrok token: '))\n",
        "\n",
        "app = Flask(__name__)\n",
        "\n",
        "@app.route('/')\n",
        "def home():\n",
        "    return 'Hello, Flask from Colab!'\n",
        "\n",
        "# Start ngrok tunnel\n",
        "public_url = ngrok.connect(5000)\n",
        "print(f'Public URL: {public_url}')\n",
        "\n",
        "# Run Flask in a separate thread\n",
        "from threading import Thread\n",
        "def run_app():\n",
        "    app.run(port=5000)\n",
        "\n",
        "Thread(target=run_app).start()"
      ]
    },
    {
      "cell_type": "markdown",
      "source": [
        "2. How do you serve static files like images or CSS in Flask?"
      ],
      "metadata": {
        "id": "hHxNODsbqzEP"
      }
    },
    {
      "cell_type": "markdown",
      "source": [
        "3. How do you define different routes with different HTTP methods in Flask\n",
        "\n",
        "Defining Different Routes with Different HTTP Methods in Flask\n",
        "\n",
        "In Flask, routes map URLs to Python functions (view functions), and HTTP methods (e.g., GET, POST, PUT, DELETE) specify the type of request a route can handle. Flask allows defining routes with specific HTTP methods using the methods parameter in the @app.route() decorator.\n",
        "\n",
        "Steps to Define Routes with Different HTTP Methods\n",
        "1. Install Flask\n",
        "In Google Colab or local environment:\n",
        "!pip install flask"
      ],
      "metadata": {
        "id": "vb11NbwYtVa2"
      }
    },
    {
      "cell_type": "code",
      "source": [
        "!pip install flask"
      ],
      "metadata": {
        "colab": {
          "base_uri": "https://localhost:8080/"
        },
        "id": "pq5w5QUlteiG",
        "outputId": "d7eea512-a522-47d9-d3fc-90d7a12bc92a"
      },
      "execution_count": 28,
      "outputs": [
        {
          "output_type": "stream",
          "name": "stdout",
          "text": [
            "Requirement already satisfied: flask in /usr/local/lib/python3.12/dist-packages (3.1.2)\n",
            "Requirement already satisfied: blinker>=1.9.0 in /usr/local/lib/python3.12/dist-packages (from flask) (1.9.0)\n",
            "Requirement already satisfied: click>=8.1.3 in /usr/local/lib/python3.12/dist-packages (from flask) (8.2.1)\n",
            "Requirement already satisfied: itsdangerous>=2.2.0 in /usr/local/lib/python3.12/dist-packages (from flask) (2.2.0)\n",
            "Requirement already satisfied: jinja2>=3.1.2 in /usr/local/lib/python3.12/dist-packages (from flask) (3.1.6)\n",
            "Requirement already satisfied: markupsafe>=2.1.1 in /usr/local/lib/python3.12/dist-packages (from flask) (3.0.2)\n",
            "Requirement already satisfied: werkzeug>=3.1.0 in /usr/local/lib/python3.12/dist-packages (from flask) (3.1.3)\n"
          ]
        }
      ]
    },
    {
      "cell_type": "code",
      "source": [
        "from flask import Flask, request, jsonify\n",
        "\n",
        "app = Flask(__name__)"
      ],
      "metadata": {
        "id": "jVKPyddgtmIv"
      },
      "execution_count": 29,
      "outputs": []
    },
    {
      "cell_type": "code",
      "source": [
        "# GET route to retrieve data\n",
        "@app.route('/api/users', methods=['GET'])\n",
        "def get_users():\n",
        "    return jsonify({\"users\": [\"Alice\", \"Bob\"]}), 200\n",
        "\n",
        "# POST route to create data\n",
        "@app.route('/api/users', methods=['POST'])\n",
        "def create_user():\n",
        "    data = request.get_json()\n",
        "    if not data or 'name' not in data:\n",
        "        return jsonify({\"error\": \"Name required\"}), 400\n",
        "    return jsonify({\"message\": f\"Created {data['name']}\"}), 201\n",
        "\n",
        "# PUT route to update data\n",
        "@app.route('/api/users/', methods=['PUT'])\n",
        "def update_user(id):\n",
        "    data = request.get_json()\n",
        "    return jsonify({\"message\": f\"Updated user {id} with {data['name']}\"}), 200\n",
        "\n",
        "# DELETE route to remove data\n",
        "@app.route('/api/users/', methods=['DELETE'])\n",
        "def delete_user(id):\n",
        "    return jsonify({\"message\": f\"Deleted user {id}\"}), 204"
      ],
      "metadata": {
        "id": "ICo7B7e3tqD_"
      },
      "execution_count": 30,
      "outputs": []
    },
    {
      "cell_type": "markdown",
      "source": [
        "4. How do you render HTML templates in Flask?\n",
        "\n",
        "Rendering HTML Templates in Flask\n",
        "In Flask, HTML templates are rendered using the Jinja2 templating engine, which allows dynamic content generation by combining HTML files with Python data. Templates are stored in a templates folder and rendered using the render_template() function.\n",
        "\n",
        "Steps to Render HTML Templates\n",
        "1. Install Flask\n",
        "In Google Colab or local environment:\n",
        "\n",
        "!pip install flask\n",
        "\n",
        "Set Up Project Structure\n",
        "\n",
        "Create a templates folder in your project directory to store HTML files: /project /templates index.html app.py"
      ],
      "metadata": {
        "id": "sXRzo05FtVV0"
      }
    },
    {
      "cell_type": "code",
      "source": [
        "!pip install flask"
      ],
      "metadata": {
        "colab": {
          "base_uri": "https://localhost:8080/"
        },
        "id": "1OM1w-vFt6o8",
        "outputId": "2f984ce0-7549-4205-939d-3a2800fae816"
      },
      "execution_count": 31,
      "outputs": [
        {
          "output_type": "stream",
          "name": "stdout",
          "text": [
            "Requirement already satisfied: flask in /usr/local/lib/python3.12/dist-packages (3.1.2)\n",
            "Requirement already satisfied: blinker>=1.9.0 in /usr/local/lib/python3.12/dist-packages (from flask) (1.9.0)\n",
            "Requirement already satisfied: click>=8.1.3 in /usr/local/lib/python3.12/dist-packages (from flask) (8.2.1)\n",
            "Requirement already satisfied: itsdangerous>=2.2.0 in /usr/local/lib/python3.12/dist-packages (from flask) (2.2.0)\n",
            "Requirement already satisfied: jinja2>=3.1.2 in /usr/local/lib/python3.12/dist-packages (from flask) (3.1.6)\n",
            "Requirement already satisfied: markupsafe>=2.1.1 in /usr/local/lib/python3.12/dist-packages (from flask) (3.0.2)\n",
            "Requirement already satisfied: werkzeug>=3.1.0 in /usr/local/lib/python3.12/dist-packages (from flask) (3.1.3)\n"
          ]
        }
      ]
    },
    {
      "cell_type": "code",
      "source": [
        "from flask import Flask, render_template\n",
        "from pyngrok import ngrok\n",
        "import getpass\n",
        "from google.colab import files\n",
        "\n",
        "# Upload templates folder\n",
        "print(\"Upload your templates folder or index.html\")\n",
        "uploaded = files.upload()  # Upload index.html to /content/templates/\n",
        "\n",
        "# Create templates directory in Colab\n",
        "!mkdir -p /content/templates\n",
        "!mv index.html /content/templates/  # Move uploaded file to templates/\n",
        "\n",
        "# Terminate existing ngrok processes\n",
        "!pkill ngrok\n",
        "\n",
        "# Set ngrok authtoken (get from ngrok.com)\n",
        "ngrok.set_auth_token(getpass.getpass('Enter ngrok token: '))\n",
        "\n",
        "app = Flask(__name__)\n",
        "\n",
        "@app.route('/')\n",
        "def home():\n",
        "    return render_template('index.html', title='Home Page', name='User')\n",
        "\n",
        "# Start ngrok tunnel\n",
        "try:\n",
        "    public_url = ngrok.connect(5000, bind_tls=True)\n",
        "    print(f'Public URL: {public_url}')\n",
        "except Exception as e:\n",
        "    print(f'Error starting ngrok: {e}')\n",
        "\n",
        "# Run Flask in a thread\n",
        "from threading import Thread\n",
        "def run_app():\n",
        "    app.run(port=5000)\n",
        "\n",
        "Thread(target=run_app).start()"
      ],
      "metadata": {
        "colab": {
          "base_uri": "https://localhost:8080/",
          "height": 395
        },
        "collapsed": true,
        "id": "ws0wPPmAt6lc",
        "outputId": "cf543cfe-a7bc-439c-a52f-aa2dccf2d8ac"
      },
      "execution_count": 32,
      "outputs": [
        {
          "output_type": "stream",
          "name": "stdout",
          "text": [
            "Upload your templates folder or index.html\n"
          ]
        },
        {
          "output_type": "display_data",
          "data": {
            "text/plain": [
              "<IPython.core.display.HTML object>"
            ],
            "text/html": [
              "\n",
              "     <input type=\"file\" id=\"files-22fbfd55-cbfb-40b6-9d9e-0cc9394bbcaf\" name=\"files[]\" multiple disabled\n",
              "        style=\"border:none\" />\n",
              "     <output id=\"result-22fbfd55-cbfb-40b6-9d9e-0cc9394bbcaf\">\n",
              "      Upload widget is only available when the cell has been executed in the\n",
              "      current browser session. Please rerun this cell to enable.\n",
              "      </output>\n",
              "      <script>// Copyright 2017 Google LLC\n",
              "//\n",
              "// Licensed under the Apache License, Version 2.0 (the \"License\");\n",
              "// you may not use this file except in compliance with the License.\n",
              "// You may obtain a copy of the License at\n",
              "//\n",
              "//      http://www.apache.org/licenses/LICENSE-2.0\n",
              "//\n",
              "// Unless required by applicable law or agreed to in writing, software\n",
              "// distributed under the License is distributed on an \"AS IS\" BASIS,\n",
              "// WITHOUT WARRANTIES OR CONDITIONS OF ANY KIND, either express or implied.\n",
              "// See the License for the specific language governing permissions and\n",
              "// limitations under the License.\n",
              "\n",
              "/**\n",
              " * @fileoverview Helpers for google.colab Python module.\n",
              " */\n",
              "(function(scope) {\n",
              "function span(text, styleAttributes = {}) {\n",
              "  const element = document.createElement('span');\n",
              "  element.textContent = text;\n",
              "  for (const key of Object.keys(styleAttributes)) {\n",
              "    element.style[key] = styleAttributes[key];\n",
              "  }\n",
              "  return element;\n",
              "}\n",
              "\n",
              "// Max number of bytes which will be uploaded at a time.\n",
              "const MAX_PAYLOAD_SIZE = 100 * 1024;\n",
              "\n",
              "function _uploadFiles(inputId, outputId) {\n",
              "  const steps = uploadFilesStep(inputId, outputId);\n",
              "  const outputElement = document.getElementById(outputId);\n",
              "  // Cache steps on the outputElement to make it available for the next call\n",
              "  // to uploadFilesContinue from Python.\n",
              "  outputElement.steps = steps;\n",
              "\n",
              "  return _uploadFilesContinue(outputId);\n",
              "}\n",
              "\n",
              "// This is roughly an async generator (not supported in the browser yet),\n",
              "// where there are multiple asynchronous steps and the Python side is going\n",
              "// to poll for completion of each step.\n",
              "// This uses a Promise to block the python side on completion of each step,\n",
              "// then passes the result of the previous step as the input to the next step.\n",
              "function _uploadFilesContinue(outputId) {\n",
              "  const outputElement = document.getElementById(outputId);\n",
              "  const steps = outputElement.steps;\n",
              "\n",
              "  const next = steps.next(outputElement.lastPromiseValue);\n",
              "  return Promise.resolve(next.value.promise).then((value) => {\n",
              "    // Cache the last promise value to make it available to the next\n",
              "    // step of the generator.\n",
              "    outputElement.lastPromiseValue = value;\n",
              "    return next.value.response;\n",
              "  });\n",
              "}\n",
              "\n",
              "/**\n",
              " * Generator function which is called between each async step of the upload\n",
              " * process.\n",
              " * @param {string} inputId Element ID of the input file picker element.\n",
              " * @param {string} outputId Element ID of the output display.\n",
              " * @return {!Iterable<!Object>} Iterable of next steps.\n",
              " */\n",
              "function* uploadFilesStep(inputId, outputId) {\n",
              "  const inputElement = document.getElementById(inputId);\n",
              "  inputElement.disabled = false;\n",
              "\n",
              "  const outputElement = document.getElementById(outputId);\n",
              "  outputElement.innerHTML = '';\n",
              "\n",
              "  const pickedPromise = new Promise((resolve) => {\n",
              "    inputElement.addEventListener('change', (e) => {\n",
              "      resolve(e.target.files);\n",
              "    });\n",
              "  });\n",
              "\n",
              "  const cancel = document.createElement('button');\n",
              "  inputElement.parentElement.appendChild(cancel);\n",
              "  cancel.textContent = 'Cancel upload';\n",
              "  const cancelPromise = new Promise((resolve) => {\n",
              "    cancel.onclick = () => {\n",
              "      resolve(null);\n",
              "    };\n",
              "  });\n",
              "\n",
              "  // Wait for the user to pick the files.\n",
              "  const files = yield {\n",
              "    promise: Promise.race([pickedPromise, cancelPromise]),\n",
              "    response: {\n",
              "      action: 'starting',\n",
              "    }\n",
              "  };\n",
              "\n",
              "  cancel.remove();\n",
              "\n",
              "  // Disable the input element since further picks are not allowed.\n",
              "  inputElement.disabled = true;\n",
              "\n",
              "  if (!files) {\n",
              "    return {\n",
              "      response: {\n",
              "        action: 'complete',\n",
              "      }\n",
              "    };\n",
              "  }\n",
              "\n",
              "  for (const file of files) {\n",
              "    const li = document.createElement('li');\n",
              "    li.append(span(file.name, {fontWeight: 'bold'}));\n",
              "    li.append(span(\n",
              "        `(${file.type || 'n/a'}) - ${file.size} bytes, ` +\n",
              "        `last modified: ${\n",
              "            file.lastModifiedDate ? file.lastModifiedDate.toLocaleDateString() :\n",
              "                                    'n/a'} - `));\n",
              "    const percent = span('0% done');\n",
              "    li.appendChild(percent);\n",
              "\n",
              "    outputElement.appendChild(li);\n",
              "\n",
              "    const fileDataPromise = new Promise((resolve) => {\n",
              "      const reader = new FileReader();\n",
              "      reader.onload = (e) => {\n",
              "        resolve(e.target.result);\n",
              "      };\n",
              "      reader.readAsArrayBuffer(file);\n",
              "    });\n",
              "    // Wait for the data to be ready.\n",
              "    let fileData = yield {\n",
              "      promise: fileDataPromise,\n",
              "      response: {\n",
              "        action: 'continue',\n",
              "      }\n",
              "    };\n",
              "\n",
              "    // Use a chunked sending to avoid message size limits. See b/62115660.\n",
              "    let position = 0;\n",
              "    do {\n",
              "      const length = Math.min(fileData.byteLength - position, MAX_PAYLOAD_SIZE);\n",
              "      const chunk = new Uint8Array(fileData, position, length);\n",
              "      position += length;\n",
              "\n",
              "      const base64 = btoa(String.fromCharCode.apply(null, chunk));\n",
              "      yield {\n",
              "        response: {\n",
              "          action: 'append',\n",
              "          file: file.name,\n",
              "          data: base64,\n",
              "        },\n",
              "      };\n",
              "\n",
              "      let percentDone = fileData.byteLength === 0 ?\n",
              "          100 :\n",
              "          Math.round((position / fileData.byteLength) * 100);\n",
              "      percent.textContent = `${percentDone}% done`;\n",
              "\n",
              "    } while (position < fileData.byteLength);\n",
              "  }\n",
              "\n",
              "  // All done.\n",
              "  yield {\n",
              "    response: {\n",
              "      action: 'complete',\n",
              "    }\n",
              "  };\n",
              "}\n",
              "\n",
              "scope.google = scope.google || {};\n",
              "scope.google.colab = scope.google.colab || {};\n",
              "scope.google.colab._files = {\n",
              "  _uploadFiles,\n",
              "  _uploadFilesContinue,\n",
              "};\n",
              "})(self);\n",
              "</script> "
            ]
          },
          "metadata": {}
        },
        {
          "output_type": "error",
          "ename": "KeyboardInterrupt",
          "evalue": "",
          "traceback": [
            "\u001b[0;31m---------------------------------------------------------------------------\u001b[0m",
            "\u001b[0;31mKeyboardInterrupt\u001b[0m                         Traceback (most recent call last)",
            "\u001b[0;32m/tmp/ipython-input-2070205483.py\u001b[0m in \u001b[0;36m<cell line: 0>\u001b[0;34m()\u001b[0m\n\u001b[1;32m      6\u001b[0m \u001b[0;31m# Upload templates folder\u001b[0m\u001b[0;34m\u001b[0m\u001b[0;34m\u001b[0m\u001b[0m\n\u001b[1;32m      7\u001b[0m \u001b[0mprint\u001b[0m\u001b[0;34m(\u001b[0m\u001b[0;34m\"Upload your templates folder or index.html\"\u001b[0m\u001b[0;34m)\u001b[0m\u001b[0;34m\u001b[0m\u001b[0;34m\u001b[0m\u001b[0m\n\u001b[0;32m----> 8\u001b[0;31m \u001b[0muploaded\u001b[0m \u001b[0;34m=\u001b[0m \u001b[0mfiles\u001b[0m\u001b[0;34m.\u001b[0m\u001b[0mupload\u001b[0m\u001b[0;34m(\u001b[0m\u001b[0;34m)\u001b[0m  \u001b[0;31m# Upload index.html to /content/templates/\u001b[0m\u001b[0;34m\u001b[0m\u001b[0;34m\u001b[0m\u001b[0m\n\u001b[0m\u001b[1;32m      9\u001b[0m \u001b[0;34m\u001b[0m\u001b[0m\n\u001b[1;32m     10\u001b[0m \u001b[0;31m# Create templates directory in Colab\u001b[0m\u001b[0;34m\u001b[0m\u001b[0;34m\u001b[0m\u001b[0m\n",
            "\u001b[0;32m/usr/local/lib/python3.12/dist-packages/google/colab/files.py\u001b[0m in \u001b[0;36mupload\u001b[0;34m(target_dir)\u001b[0m\n\u001b[1;32m     70\u001b[0m   \"\"\"\n\u001b[1;32m     71\u001b[0m \u001b[0;34m\u001b[0m\u001b[0m\n\u001b[0;32m---> 72\u001b[0;31m   \u001b[0muploaded_files\u001b[0m \u001b[0;34m=\u001b[0m \u001b[0m_upload_files\u001b[0m\u001b[0;34m(\u001b[0m\u001b[0mmultiple\u001b[0m\u001b[0;34m=\u001b[0m\u001b[0;32mTrue\u001b[0m\u001b[0;34m)\u001b[0m\u001b[0;34m\u001b[0m\u001b[0;34m\u001b[0m\u001b[0m\n\u001b[0m\u001b[1;32m     73\u001b[0m   \u001b[0;31m# Mapping from original filename to filename as saved locally.\u001b[0m\u001b[0;34m\u001b[0m\u001b[0;34m\u001b[0m\u001b[0m\n\u001b[1;32m     74\u001b[0m   \u001b[0mlocal_filenames\u001b[0m \u001b[0;34m=\u001b[0m \u001b[0mdict\u001b[0m\u001b[0;34m(\u001b[0m\u001b[0;34m)\u001b[0m\u001b[0;34m\u001b[0m\u001b[0;34m\u001b[0m\u001b[0m\n",
            "\u001b[0;32m/usr/local/lib/python3.12/dist-packages/google/colab/files.py\u001b[0m in \u001b[0;36m_upload_files\u001b[0;34m(multiple)\u001b[0m\n\u001b[1;32m    162\u001b[0m \u001b[0;34m\u001b[0m\u001b[0m\n\u001b[1;32m    163\u001b[0m   \u001b[0;31m# First result is always an indication that the file picker has completed.\u001b[0m\u001b[0;34m\u001b[0m\u001b[0;34m\u001b[0m\u001b[0m\n\u001b[0;32m--> 164\u001b[0;31m   result = _output.eval_js(\n\u001b[0m\u001b[1;32m    165\u001b[0m       'google.colab._files._uploadFiles(\"{input_id}\", \"{output_id}\")'.format(\n\u001b[1;32m    166\u001b[0m           \u001b[0minput_id\u001b[0m\u001b[0;34m=\u001b[0m\u001b[0minput_id\u001b[0m\u001b[0;34m,\u001b[0m \u001b[0moutput_id\u001b[0m\u001b[0;34m=\u001b[0m\u001b[0moutput_id\u001b[0m\u001b[0;34m\u001b[0m\u001b[0;34m\u001b[0m\u001b[0m\n",
            "\u001b[0;32m/usr/local/lib/python3.12/dist-packages/google/colab/output/_js.py\u001b[0m in \u001b[0;36meval_js\u001b[0;34m(script, ignore_result, timeout_sec)\u001b[0m\n\u001b[1;32m     38\u001b[0m   \u001b[0;32mif\u001b[0m \u001b[0mignore_result\u001b[0m\u001b[0;34m:\u001b[0m\u001b[0;34m\u001b[0m\u001b[0;34m\u001b[0m\u001b[0m\n\u001b[1;32m     39\u001b[0m     \u001b[0;32mreturn\u001b[0m\u001b[0;34m\u001b[0m\u001b[0;34m\u001b[0m\u001b[0m\n\u001b[0;32m---> 40\u001b[0;31m   \u001b[0;32mreturn\u001b[0m \u001b[0m_message\u001b[0m\u001b[0;34m.\u001b[0m\u001b[0mread_reply_from_input\u001b[0m\u001b[0;34m(\u001b[0m\u001b[0mrequest_id\u001b[0m\u001b[0;34m,\u001b[0m \u001b[0mtimeout_sec\u001b[0m\u001b[0;34m)\u001b[0m\u001b[0;34m\u001b[0m\u001b[0;34m\u001b[0m\u001b[0m\n\u001b[0m\u001b[1;32m     41\u001b[0m \u001b[0;34m\u001b[0m\u001b[0m\n\u001b[1;32m     42\u001b[0m \u001b[0;34m\u001b[0m\u001b[0m\n",
            "\u001b[0;32m/usr/local/lib/python3.12/dist-packages/google/colab/_message.py\u001b[0m in \u001b[0;36mread_reply_from_input\u001b[0;34m(message_id, timeout_sec)\u001b[0m\n\u001b[1;32m     94\u001b[0m     \u001b[0mreply\u001b[0m \u001b[0;34m=\u001b[0m \u001b[0m_read_next_input_message\u001b[0m\u001b[0;34m(\u001b[0m\u001b[0;34m)\u001b[0m\u001b[0;34m\u001b[0m\u001b[0;34m\u001b[0m\u001b[0m\n\u001b[1;32m     95\u001b[0m     \u001b[0;32mif\u001b[0m \u001b[0mreply\u001b[0m \u001b[0;34m==\u001b[0m \u001b[0m_NOT_READY\u001b[0m \u001b[0;32mor\u001b[0m \u001b[0;32mnot\u001b[0m \u001b[0misinstance\u001b[0m\u001b[0;34m(\u001b[0m\u001b[0mreply\u001b[0m\u001b[0;34m,\u001b[0m \u001b[0mdict\u001b[0m\u001b[0;34m)\u001b[0m\u001b[0;34m:\u001b[0m\u001b[0;34m\u001b[0m\u001b[0;34m\u001b[0m\u001b[0m\n\u001b[0;32m---> 96\u001b[0;31m       \u001b[0mtime\u001b[0m\u001b[0;34m.\u001b[0m\u001b[0msleep\u001b[0m\u001b[0;34m(\u001b[0m\u001b[0;36m0.025\u001b[0m\u001b[0;34m)\u001b[0m\u001b[0;34m\u001b[0m\u001b[0;34m\u001b[0m\u001b[0m\n\u001b[0m\u001b[1;32m     97\u001b[0m       \u001b[0;32mcontinue\u001b[0m\u001b[0;34m\u001b[0m\u001b[0;34m\u001b[0m\u001b[0m\n\u001b[1;32m     98\u001b[0m     if (\n",
            "\u001b[0;31mKeyboardInterrupt\u001b[0m: "
          ]
        }
      ]
    },
    {
      "cell_type": "markdown",
      "source": [
        "5.How can you generate URLs for routes in Flask using url_for?\n",
        "\n",
        "Generating URLs for Routes in Flask Using url_for\n",
        "\n",
        "In Flask, the url_for() function dynamically generates URLs for routes based on their endpoint names (typically the view function name) and optional parameters. This avoids hardcoding URLs, making the application more maintainable and flexible.\n",
        "\n",
        "Purpose of url_for\n",
        "- Dynamic URL Generation: Creates URLs for routes, adapting to changes in route definitions or URL prefixes.\n",
        "- Handle Parameters: Incorporates dynamic URL parameters (e.g., /user/<id>).\n",
        "- Avoid Hardcoding: Reduces errors and maintenance by referencing endpoints instead of static URLs.\n",
        "\n",
        "Steps to Use url_for\n",
        "1. Install Flask\n",
        "In Google Colab or local environment:\n",
        "\n"
      ],
      "metadata": {
        "id": "TjLEpjzvtVPD"
      }
    },
    {
      "cell_type": "code",
      "source": [
        "!pip install flask pyngrok"
      ],
      "metadata": {
        "colab": {
          "base_uri": "https://localhost:8080/"
        },
        "id": "j0PFwYnnGjL6",
        "outputId": "b6ff07c0-d87f-4673-a081-d4f43977707c"
      },
      "execution_count": 33,
      "outputs": [
        {
          "output_type": "stream",
          "name": "stdout",
          "text": [
            "Requirement already satisfied: flask in /usr/local/lib/python3.12/dist-packages (3.1.2)\n",
            "Requirement already satisfied: pyngrok in /usr/local/lib/python3.12/dist-packages (7.4.0)\n",
            "Requirement already satisfied: blinker>=1.9.0 in /usr/local/lib/python3.12/dist-packages (from flask) (1.9.0)\n",
            "Requirement already satisfied: click>=8.1.3 in /usr/local/lib/python3.12/dist-packages (from flask) (8.2.1)\n",
            "Requirement already satisfied: itsdangerous>=2.2.0 in /usr/local/lib/python3.12/dist-packages (from flask) (2.2.0)\n",
            "Requirement already satisfied: jinja2>=3.1.2 in /usr/local/lib/python3.12/dist-packages (from flask) (3.1.6)\n",
            "Requirement already satisfied: markupsafe>=2.1.1 in /usr/local/lib/python3.12/dist-packages (from flask) (3.0.2)\n",
            "Requirement already satisfied: werkzeug>=3.1.0 in /usr/local/lib/python3.12/dist-packages (from flask) (3.1.3)\n",
            "Requirement already satisfied: PyYAML>=5.1 in /usr/local/lib/python3.12/dist-packages (from pyngrok) (6.0.2)\n"
          ]
        }
      ]
    },
    {
      "cell_type": "code",
      "source": [
        "\n",
        "from flask import Flask, url_for, redirect\n",
        "from pyngrok import ngrok\n",
        "import getpass\n",
        "\n",
        "# Terminate existing ngrok processes\n",
        "!pkill ngrok\n",
        "\n",
        "# Set ngrok authtoken (get from ngrok.com)\n",
        "ngrok.set_auth_token(getpass.getpass('Enter ngrok token: '))\n",
        "\n",
        "app = Flask(__name__)\n",
        "\n",
        "@app.route('/')\n",
        "def home():\n",
        "    return 'Home Page'\n",
        "\n",
        "@app.route('/user/')\n",
        "def profile(username):\n",
        "    return f'Profile: {username}'\n",
        "\n",
        "@app.route('/test')\n",
        "def test():\n",
        "    home_url = url_for('home')  # '/'\n",
        "    profile_url = url_for('profile', username='Alice')  # '/user/Alice'\n",
        "    return f'Home: {home_url}, Profile: {profile_url}'\n",
        "\n",
        "# Start ngrok tunnel\n",
        "try:\n",
        "    public_url = ngrok.connect(5000, bind_tls=True)\n",
        "    print(f'Public URL: {public_url}')\n",
        "except Exception as e:\n",
        "    print(f'Error starting ngrok: {e}')\n",
        "\n",
        "# Run Flask in a thread\n",
        "from threading import Thread\n",
        "def run_app():\n",
        "    app.run(port=5000)\n",
        "\n",
        "Thread(target=run_app).start()"
      ],
      "metadata": {
        "colab": {
          "base_uri": "https://localhost:8080/"
        },
        "collapsed": true,
        "id": "8HTXHLjAutCz",
        "outputId": "de7b6cbc-239b-4743-be79-4af772638251"
      },
      "execution_count": 34,
      "outputs": [
        {
          "name": "stdout",
          "output_type": "stream",
          "text": [
            "Enter ngrok token: ··········\n"
          ]
        },
        {
          "output_type": "stream",
          "name": "stderr",
          "text": [
            "ERROR:pyngrok.process.ngrok:t=2025-09-25T16:36:13+0000 lvl=eror msg=\"failed to reconnect session\" obj=tunnels.session err=\"authentication failed: The authtoken you specified does not look like a proper ngrok authtoken.\\nYour authtoken: ..........\\nInstructions to install your authtoken are on your ngrok dashboard:\\nhttps://dashboard.ngrok.com/get-started/your-authtoken\\r\\n\\r\\nERR_NGROK_105\\r\\n\"\n",
            "ERROR:pyngrok.process.ngrok:t=2025-09-25T16:36:13+0000 lvl=eror msg=\"session closing\" obj=tunnels.session err=\"authentication failed: The authtoken you specified does not look like a proper ngrok authtoken.\\nYour authtoken: ..........\\nInstructions to install your authtoken are on your ngrok dashboard:\\nhttps://dashboard.ngrok.com/get-started/your-authtoken\\r\\n\\r\\nERR_NGROK_105\\r\\n\"\n",
            "ERROR:pyngrok.process.ngrok:t=2025-09-25T16:36:13+0000 lvl=eror msg=\"terminating with error\" obj=app err=\"authentication failed: The authtoken you specified does not look like a proper ngrok authtoken.\\nYour authtoken: ..........\\nInstructions to install your authtoken are on your ngrok dashboard:\\nhttps://dashboard.ngrok.com/get-started/your-authtoken\\r\\n\\r\\nERR_NGROK_105\\r\\n\"\n"
          ]
        },
        {
          "output_type": "stream",
          "name": "stdout",
          "text": [
            "Error starting ngrok: The ngrok process errored on start: authentication failed: The authtoken you specified does not look like a proper ngrok authtoken.\\nYour authtoken: ..........\\nInstructions to install your authtoken are on your ngrok dashboard:\\nhttps://dashboard.ngrok.com/get-started/your-authtoken\\r\\n\\r\\nERR_NGROK_105\\r\\n.\n",
            " * Serving Flask app '__main__'\n",
            " * Debug mode: off\n"
          ]
        },
        {
          "output_type": "stream",
          "name": "stderr",
          "text": [
            "Address already in use\n",
            "Port 5000 is in use by another program. Either identify and stop that program, or start the server with a different port.\n"
          ]
        }
      ]
    },
    {
      "cell_type": "markdown",
      "source": [
        "6. How do you handle forms in Flask?\n",
        "\n",
        "Handling Forms in Flask\n",
        "\n",
        "In Flask, forms are handled by processing user input submitted via HTML forms, typically through POST requests. Flask uses the request object to access form data and can be enhanced with extensions like Flask-WTF for secure form handling and validation.\n",
        "\n",
        "Steps to Handle Forms in Flask\n",
        "1. Install Required Packages\n",
        "\n",
        "Install Flask and optionally Flask-WTF for form validation:\n",
        "\n",
        "!pip install flask flask-wtf"
      ],
      "metadata": {
        "id": "KkRc4Dgyu9Iq"
      }
    },
    {
      "cell_type": "code",
      "source": [
        "!pip install flask-ngrok"
      ],
      "metadata": {
        "colab": {
          "base_uri": "https://localhost:8080/"
        },
        "id": "WALIIMxzvNZO",
        "outputId": "fea22256-eeed-48fe-e434-f6c7768000f8"
      },
      "execution_count": 35,
      "outputs": [
        {
          "output_type": "stream",
          "name": "stdout",
          "text": [
            "Collecting flask-ngrok\n",
            "  Downloading flask_ngrok-0.0.25-py3-none-any.whl.metadata (1.8 kB)\n",
            "Requirement already satisfied: Flask>=0.8 in /usr/local/lib/python3.12/dist-packages (from flask-ngrok) (3.1.2)\n",
            "Requirement already satisfied: requests in /usr/local/lib/python3.12/dist-packages (from flask-ngrok) (2.32.4)\n",
            "Requirement already satisfied: blinker>=1.9.0 in /usr/local/lib/python3.12/dist-packages (from Flask>=0.8->flask-ngrok) (1.9.0)\n",
            "Requirement already satisfied: click>=8.1.3 in /usr/local/lib/python3.12/dist-packages (from Flask>=0.8->flask-ngrok) (8.2.1)\n",
            "Requirement already satisfied: itsdangerous>=2.2.0 in /usr/local/lib/python3.12/dist-packages (from Flask>=0.8->flask-ngrok) (2.2.0)\n",
            "Requirement already satisfied: jinja2>=3.1.2 in /usr/local/lib/python3.12/dist-packages (from Flask>=0.8->flask-ngrok) (3.1.6)\n",
            "Requirement already satisfied: markupsafe>=2.1.1 in /usr/local/lib/python3.12/dist-packages (from Flask>=0.8->flask-ngrok) (3.0.2)\n",
            "Requirement already satisfied: werkzeug>=3.1.0 in /usr/local/lib/python3.12/dist-packages (from Flask>=0.8->flask-ngrok) (3.1.3)\n",
            "Requirement already satisfied: charset_normalizer<4,>=2 in /usr/local/lib/python3.12/dist-packages (from requests->flask-ngrok) (3.4.3)\n",
            "Requirement already satisfied: idna<4,>=2.5 in /usr/local/lib/python3.12/dist-packages (from requests->flask-ngrok) (3.10)\n",
            "Requirement already satisfied: urllib3<3,>=1.21.1 in /usr/local/lib/python3.12/dist-packages (from requests->flask-ngrok) (2.5.0)\n",
            "Requirement already satisfied: certifi>=2017.4.17 in /usr/local/lib/python3.12/dist-packages (from requests->flask-ngrok) (2025.8.3)\n",
            "Downloading flask_ngrok-0.0.25-py3-none-any.whl (3.1 kB)\n",
            "Installing collected packages: flask-ngrok\n",
            "Successfully installed flask-ngrok-0.0.25\n"
          ]
        }
      ]
    },
    {
      "cell_type": "code",
      "source": [
        "from flask import Flask, request, render_template_string\n",
        "\n",
        "app = Flask(__name__)\n",
        "\n",
        "form_html = \"\"\"\n",
        "\n",
        "\n",
        "Flask Form Example\n",
        "\n",
        "  User Form\n",
        "\n",
        "    Name:\n",
        "    Age:\n",
        "\n",
        "\n",
        "  {{ message }}\n",
        "\n",
        "\n",
        "\"\"\"\n",
        "\n",
        "@app.route(\"/\", methods=[\"GET\", \"POST\"])\n",
        "def home():\n",
        "    message = \"\"\n",
        "    if request.method == \"POST\":\n",
        "        name = request.form.get(\"username\")\n",
        "        age = request.form.get(\"age\")\n",
        "        if not name:\n",
        "            message = \"⚠️ Name cannot be empty!\"\n",
        "        elif not age:\n",
        "            message = \"⚠️ Age cannot be empty!\"\n",
        "        else:\n",
        "            message = f\"Hello {name}, you are {age} years old.\"\n",
        "    return render_template_string(form_html, message=message)\n",
        "\n",
        "# Start ngrok tunnel\n",
        "public_url = ngrok.connect(5001)\n",
        "print(\"Click this link to open form:\", public_url)\n",
        "\n",
        "app.run(port=5001)\n"
      ],
      "metadata": {
        "colab": {
          "base_uri": "https://localhost:8080/",
          "height": 411
        },
        "collapsed": true,
        "id": "6ESNs5INvTrx",
        "outputId": "b9db0ef5-f00e-4cb1-c6b2-0a29e3b5d9e7"
      },
      "execution_count": 36,
      "outputs": [
        {
          "output_type": "stream",
          "name": "stderr",
          "text": [
            "ERROR:pyngrok.process.ngrok:t=2025-09-25T16:38:09+0000 lvl=eror msg=\"failed to reconnect session\" obj=tunnels.session err=\"authentication failed: The authtoken you specified does not look like a proper ngrok authtoken.\\nYour authtoken: ..........\\nInstructions to install your authtoken are on your ngrok dashboard:\\nhttps://dashboard.ngrok.com/get-started/your-authtoken\\r\\n\\r\\nERR_NGROK_105\\r\\n\"\n"
          ]
        },
        {
          "output_type": "error",
          "ename": "PyngrokNgrokError",
          "evalue": "The ngrok process errored on start: authentication failed: The authtoken you specified does not look like a proper ngrok authtoken.\\nYour authtoken: ..........\\nInstructions to install your authtoken are on your ngrok dashboard:\\nhttps://dashboard.ngrok.com/get-started/your-authtoken\\r\\n\\r\\nERR_NGROK_105\\r\\n.",
          "traceback": [
            "\u001b[0;31m---------------------------------------------------------------------------\u001b[0m",
            "\u001b[0;31mPyngrokNgrokError\u001b[0m                         Traceback (most recent call last)",
            "\u001b[0;32m/tmp/ipython-input-3110200043.py\u001b[0m in \u001b[0;36m<cell line: 0>\u001b[0;34m()\u001b[0m\n\u001b[1;32m     34\u001b[0m \u001b[0;34m\u001b[0m\u001b[0m\n\u001b[1;32m     35\u001b[0m \u001b[0;31m# Start ngrok tunnel\u001b[0m\u001b[0;34m\u001b[0m\u001b[0;34m\u001b[0m\u001b[0m\n\u001b[0;32m---> 36\u001b[0;31m \u001b[0mpublic_url\u001b[0m \u001b[0;34m=\u001b[0m \u001b[0mngrok\u001b[0m\u001b[0;34m.\u001b[0m\u001b[0mconnect\u001b[0m\u001b[0;34m(\u001b[0m\u001b[0;36m5001\u001b[0m\u001b[0;34m)\u001b[0m\u001b[0;34m\u001b[0m\u001b[0;34m\u001b[0m\u001b[0m\n\u001b[0m\u001b[1;32m     37\u001b[0m \u001b[0mprint\u001b[0m\u001b[0;34m(\u001b[0m\u001b[0;34m\"Click this link to open form:\"\u001b[0m\u001b[0;34m,\u001b[0m \u001b[0mpublic_url\u001b[0m\u001b[0;34m)\u001b[0m\u001b[0;34m\u001b[0m\u001b[0;34m\u001b[0m\u001b[0m\n\u001b[1;32m     38\u001b[0m \u001b[0;34m\u001b[0m\u001b[0m\n",
            "\u001b[0;32m/usr/local/lib/python3.12/dist-packages/pyngrok/ngrok.py\u001b[0m in \u001b[0;36mconnect\u001b[0;34m(addr, proto, name, pyngrok_config, **options)\u001b[0m\n\u001b[1;32m    385\u001b[0m     \u001b[0mlogger\u001b[0m\u001b[0;34m.\u001b[0m\u001b[0minfo\u001b[0m\u001b[0;34m(\u001b[0m\u001b[0;34mf\"Opening tunnel named: {name}\"\u001b[0m\u001b[0;34m)\u001b[0m\u001b[0;34m\u001b[0m\u001b[0;34m\u001b[0m\u001b[0m\n\u001b[1;32m    386\u001b[0m \u001b[0;34m\u001b[0m\u001b[0m\n\u001b[0;32m--> 387\u001b[0;31m     \u001b[0mapi_url\u001b[0m \u001b[0;34m=\u001b[0m \u001b[0mget_ngrok_process\u001b[0m\u001b[0;34m(\u001b[0m\u001b[0mpyngrok_config\u001b[0m\u001b[0;34m)\u001b[0m\u001b[0;34m.\u001b[0m\u001b[0mapi_url\u001b[0m\u001b[0;34m\u001b[0m\u001b[0;34m\u001b[0m\u001b[0m\n\u001b[0m\u001b[1;32m    388\u001b[0m \u001b[0;34m\u001b[0m\u001b[0m\n\u001b[1;32m    389\u001b[0m     \u001b[0mlogger\u001b[0m\u001b[0;34m.\u001b[0m\u001b[0mdebug\u001b[0m\u001b[0;34m(\u001b[0m\u001b[0;34mf\"Creating tunnel with options: {options}\"\u001b[0m\u001b[0;34m)\u001b[0m\u001b[0;34m\u001b[0m\u001b[0;34m\u001b[0m\u001b[0m\n",
            "\u001b[0;32m/usr/local/lib/python3.12/dist-packages/pyngrok/ngrok.py\u001b[0m in \u001b[0;36mget_ngrok_process\u001b[0;34m(pyngrok_config)\u001b[0m\n\u001b[1;32m    201\u001b[0m     \u001b[0minstall_ngrok\u001b[0m\u001b[0;34m(\u001b[0m\u001b[0mpyngrok_config\u001b[0m\u001b[0;34m)\u001b[0m\u001b[0;34m\u001b[0m\u001b[0;34m\u001b[0m\u001b[0m\n\u001b[1;32m    202\u001b[0m \u001b[0;34m\u001b[0m\u001b[0m\n\u001b[0;32m--> 203\u001b[0;31m     \u001b[0;32mreturn\u001b[0m \u001b[0mprocess\u001b[0m\u001b[0;34m.\u001b[0m\u001b[0mget_process\u001b[0m\u001b[0;34m(\u001b[0m\u001b[0mpyngrok_config\u001b[0m\u001b[0;34m)\u001b[0m\u001b[0;34m\u001b[0m\u001b[0;34m\u001b[0m\u001b[0m\n\u001b[0m\u001b[1;32m    204\u001b[0m \u001b[0;34m\u001b[0m\u001b[0m\n\u001b[1;32m    205\u001b[0m \u001b[0;34m\u001b[0m\u001b[0m\n",
            "\u001b[0;32m/usr/local/lib/python3.12/dist-packages/pyngrok/process.py\u001b[0m in \u001b[0;36mget_process\u001b[0;34m(pyngrok_config)\u001b[0m\n\u001b[1;32m    269\u001b[0m         \u001b[0;32mreturn\u001b[0m \u001b[0m_current_processes\u001b[0m\u001b[0;34m[\u001b[0m\u001b[0mpyngrok_config\u001b[0m\u001b[0;34m.\u001b[0m\u001b[0mngrok_path\u001b[0m\u001b[0;34m]\u001b[0m\u001b[0;34m\u001b[0m\u001b[0;34m\u001b[0m\u001b[0m\n\u001b[1;32m    270\u001b[0m \u001b[0;34m\u001b[0m\u001b[0m\n\u001b[0;32m--> 271\u001b[0;31m     \u001b[0;32mreturn\u001b[0m \u001b[0m_start_process\u001b[0m\u001b[0;34m(\u001b[0m\u001b[0mpyngrok_config\u001b[0m\u001b[0;34m)\u001b[0m\u001b[0;34m\u001b[0m\u001b[0;34m\u001b[0m\u001b[0m\n\u001b[0m\u001b[1;32m    272\u001b[0m \u001b[0;34m\u001b[0m\u001b[0m\n\u001b[1;32m    273\u001b[0m \u001b[0;34m\u001b[0m\u001b[0m\n",
            "\u001b[0;32m/usr/local/lib/python3.12/dist-packages/pyngrok/process.py\u001b[0m in \u001b[0;36m_start_process\u001b[0;34m(pyngrok_config)\u001b[0m\n\u001b[1;32m    445\u001b[0m \u001b[0;34m\u001b[0m\u001b[0m\n\u001b[1;32m    446\u001b[0m         \u001b[0;32mif\u001b[0m \u001b[0mngrok_process\u001b[0m\u001b[0;34m.\u001b[0m\u001b[0mstartup_error\u001b[0m \u001b[0;32mis\u001b[0m \u001b[0;32mnot\u001b[0m \u001b[0;32mNone\u001b[0m\u001b[0;34m:\u001b[0m\u001b[0;34m\u001b[0m\u001b[0;34m\u001b[0m\u001b[0m\n\u001b[0;32m--> 447\u001b[0;31m             raise PyngrokNgrokError(f\"The ngrok process errored on start: {ngrok_process.startup_error}.\",\n\u001b[0m\u001b[1;32m    448\u001b[0m                                     \u001b[0mngrok_process\u001b[0m\u001b[0;34m.\u001b[0m\u001b[0mlogs\u001b[0m\u001b[0;34m,\u001b[0m\u001b[0;34m\u001b[0m\u001b[0;34m\u001b[0m\u001b[0m\n\u001b[1;32m    449\u001b[0m                                     ngrok_process.startup_error)\n",
            "\u001b[0;31mPyngrokNgrokError\u001b[0m: The ngrok process errored on start: authentication failed: The authtoken you specified does not look like a proper ngrok authtoken.\\nYour authtoken: ..........\\nInstructions to install your authtoken are on your ngrok dashboard:\\nhttps://dashboard.ngrok.com/get-started/your-authtoken\\r\\n\\r\\nERR_NGROK_105\\r\\n."
          ]
        }
      ]
    },
    {
      "cell_type": "code",
      "source": [
        "from google.colab import files\n",
        "from IPython.display import Image"
      ],
      "metadata": {
        "id": "K8gGRM3Fvrpr"
      },
      "execution_count": 39,
      "outputs": []
    },
    {
      "cell_type": "code",
      "source": [
        "uploaded = files.upload()"
      ],
      "metadata": {
        "colab": {
          "base_uri": "https://localhost:8080/",
          "height": 308
        },
        "collapsed": true,
        "id": "31R6fIzLvuRX",
        "outputId": "4ecb3447-d4af-4e86-d9ae-b2ee9bf70af3"
      },
      "execution_count": 40,
      "outputs": [
        {
          "output_type": "display_data",
          "data": {
            "text/plain": [
              "<IPython.core.display.HTML object>"
            ],
            "text/html": [
              "\n",
              "     <input type=\"file\" id=\"files-fd7fa2f4-da86-4f32-bad3-d093589269e7\" name=\"files[]\" multiple disabled\n",
              "        style=\"border:none\" />\n",
              "     <output id=\"result-fd7fa2f4-da86-4f32-bad3-d093589269e7\">\n",
              "      Upload widget is only available when the cell has been executed in the\n",
              "      current browser session. Please rerun this cell to enable.\n",
              "      </output>\n",
              "      <script>// Copyright 2017 Google LLC\n",
              "//\n",
              "// Licensed under the Apache License, Version 2.0 (the \"License\");\n",
              "// you may not use this file except in compliance with the License.\n",
              "// You may obtain a copy of the License at\n",
              "//\n",
              "//      http://www.apache.org/licenses/LICENSE-2.0\n",
              "//\n",
              "// Unless required by applicable law or agreed to in writing, software\n",
              "// distributed under the License is distributed on an \"AS IS\" BASIS,\n",
              "// WITHOUT WARRANTIES OR CONDITIONS OF ANY KIND, either express or implied.\n",
              "// See the License for the specific language governing permissions and\n",
              "// limitations under the License.\n",
              "\n",
              "/**\n",
              " * @fileoverview Helpers for google.colab Python module.\n",
              " */\n",
              "(function(scope) {\n",
              "function span(text, styleAttributes = {}) {\n",
              "  const element = document.createElement('span');\n",
              "  element.textContent = text;\n",
              "  for (const key of Object.keys(styleAttributes)) {\n",
              "    element.style[key] = styleAttributes[key];\n",
              "  }\n",
              "  return element;\n",
              "}\n",
              "\n",
              "// Max number of bytes which will be uploaded at a time.\n",
              "const MAX_PAYLOAD_SIZE = 100 * 1024;\n",
              "\n",
              "function _uploadFiles(inputId, outputId) {\n",
              "  const steps = uploadFilesStep(inputId, outputId);\n",
              "  const outputElement = document.getElementById(outputId);\n",
              "  // Cache steps on the outputElement to make it available for the next call\n",
              "  // to uploadFilesContinue from Python.\n",
              "  outputElement.steps = steps;\n",
              "\n",
              "  return _uploadFilesContinue(outputId);\n",
              "}\n",
              "\n",
              "// This is roughly an async generator (not supported in the browser yet),\n",
              "// where there are multiple asynchronous steps and the Python side is going\n",
              "// to poll for completion of each step.\n",
              "// This uses a Promise to block the python side on completion of each step,\n",
              "// then passes the result of the previous step as the input to the next step.\n",
              "function _uploadFilesContinue(outputId) {\n",
              "  const outputElement = document.getElementById(outputId);\n",
              "  const steps = outputElement.steps;\n",
              "\n",
              "  const next = steps.next(outputElement.lastPromiseValue);\n",
              "  return Promise.resolve(next.value.promise).then((value) => {\n",
              "    // Cache the last promise value to make it available to the next\n",
              "    // step of the generator.\n",
              "    outputElement.lastPromiseValue = value;\n",
              "    return next.value.response;\n",
              "  });\n",
              "}\n",
              "\n",
              "/**\n",
              " * Generator function which is called between each async step of the upload\n",
              " * process.\n",
              " * @param {string} inputId Element ID of the input file picker element.\n",
              " * @param {string} outputId Element ID of the output display.\n",
              " * @return {!Iterable<!Object>} Iterable of next steps.\n",
              " */\n",
              "function* uploadFilesStep(inputId, outputId) {\n",
              "  const inputElement = document.getElementById(inputId);\n",
              "  inputElement.disabled = false;\n",
              "\n",
              "  const outputElement = document.getElementById(outputId);\n",
              "  outputElement.innerHTML = '';\n",
              "\n",
              "  const pickedPromise = new Promise((resolve) => {\n",
              "    inputElement.addEventListener('change', (e) => {\n",
              "      resolve(e.target.files);\n",
              "    });\n",
              "  });\n",
              "\n",
              "  const cancel = document.createElement('button');\n",
              "  inputElement.parentElement.appendChild(cancel);\n",
              "  cancel.textContent = 'Cancel upload';\n",
              "  const cancelPromise = new Promise((resolve) => {\n",
              "    cancel.onclick = () => {\n",
              "      resolve(null);\n",
              "    };\n",
              "  });\n",
              "\n",
              "  // Wait for the user to pick the files.\n",
              "  const files = yield {\n",
              "    promise: Promise.race([pickedPromise, cancelPromise]),\n",
              "    response: {\n",
              "      action: 'starting',\n",
              "    }\n",
              "  };\n",
              "\n",
              "  cancel.remove();\n",
              "\n",
              "  // Disable the input element since further picks are not allowed.\n",
              "  inputElement.disabled = true;\n",
              "\n",
              "  if (!files) {\n",
              "    return {\n",
              "      response: {\n",
              "        action: 'complete',\n",
              "      }\n",
              "    };\n",
              "  }\n",
              "\n",
              "  for (const file of files) {\n",
              "    const li = document.createElement('li');\n",
              "    li.append(span(file.name, {fontWeight: 'bold'}));\n",
              "    li.append(span(\n",
              "        `(${file.type || 'n/a'}) - ${file.size} bytes, ` +\n",
              "        `last modified: ${\n",
              "            file.lastModifiedDate ? file.lastModifiedDate.toLocaleDateString() :\n",
              "                                    'n/a'} - `));\n",
              "    const percent = span('0% done');\n",
              "    li.appendChild(percent);\n",
              "\n",
              "    outputElement.appendChild(li);\n",
              "\n",
              "    const fileDataPromise = new Promise((resolve) => {\n",
              "      const reader = new FileReader();\n",
              "      reader.onload = (e) => {\n",
              "        resolve(e.target.result);\n",
              "      };\n",
              "      reader.readAsArrayBuffer(file);\n",
              "    });\n",
              "    // Wait for the data to be ready.\n",
              "    let fileData = yield {\n",
              "      promise: fileDataPromise,\n",
              "      response: {\n",
              "        action: 'continue',\n",
              "      }\n",
              "    };\n",
              "\n",
              "    // Use a chunked sending to avoid message size limits. See b/62115660.\n",
              "    let position = 0;\n",
              "    do {\n",
              "      const length = Math.min(fileData.byteLength - position, MAX_PAYLOAD_SIZE);\n",
              "      const chunk = new Uint8Array(fileData, position, length);\n",
              "      position += length;\n",
              "\n",
              "      const base64 = btoa(String.fromCharCode.apply(null, chunk));\n",
              "      yield {\n",
              "        response: {\n",
              "          action: 'append',\n",
              "          file: file.name,\n",
              "          data: base64,\n",
              "        },\n",
              "      };\n",
              "\n",
              "      let percentDone = fileData.byteLength === 0 ?\n",
              "          100 :\n",
              "          Math.round((position / fileData.byteLength) * 100);\n",
              "      percent.textContent = `${percentDone}% done`;\n",
              "\n",
              "    } while (position < fileData.byteLength);\n",
              "  }\n",
              "\n",
              "  // All done.\n",
              "  yield {\n",
              "    response: {\n",
              "      action: 'complete',\n",
              "    }\n",
              "  };\n",
              "}\n",
              "\n",
              "scope.google = scope.google || {};\n",
              "scope.google.colab = scope.google.colab || {};\n",
              "scope.google.colab._files = {\n",
              "  _uploadFiles,\n",
              "  _uploadFilesContinue,\n",
              "};\n",
              "})(self);\n",
              "</script> "
            ]
          },
          "metadata": {}
        },
        {
          "output_type": "error",
          "ename": "KeyboardInterrupt",
          "evalue": "",
          "traceback": [
            "\u001b[0;31m---------------------------------------------------------------------------\u001b[0m",
            "\u001b[0;31mKeyboardInterrupt\u001b[0m                         Traceback (most recent call last)",
            "\u001b[0;32m/tmp/ipython-input-1304425687.py\u001b[0m in \u001b[0;36m<cell line: 0>\u001b[0;34m()\u001b[0m\n\u001b[0;32m----> 1\u001b[0;31m \u001b[0muploaded\u001b[0m \u001b[0;34m=\u001b[0m \u001b[0mfiles\u001b[0m\u001b[0;34m.\u001b[0m\u001b[0mupload\u001b[0m\u001b[0;34m(\u001b[0m\u001b[0;34m)\u001b[0m\u001b[0;34m\u001b[0m\u001b[0;34m\u001b[0m\u001b[0m\n\u001b[0m",
            "\u001b[0;32m/usr/local/lib/python3.12/dist-packages/google/colab/files.py\u001b[0m in \u001b[0;36mupload\u001b[0;34m(target_dir)\u001b[0m\n\u001b[1;32m     70\u001b[0m   \"\"\"\n\u001b[1;32m     71\u001b[0m \u001b[0;34m\u001b[0m\u001b[0m\n\u001b[0;32m---> 72\u001b[0;31m   \u001b[0muploaded_files\u001b[0m \u001b[0;34m=\u001b[0m \u001b[0m_upload_files\u001b[0m\u001b[0;34m(\u001b[0m\u001b[0mmultiple\u001b[0m\u001b[0;34m=\u001b[0m\u001b[0;32mTrue\u001b[0m\u001b[0;34m)\u001b[0m\u001b[0;34m\u001b[0m\u001b[0;34m\u001b[0m\u001b[0m\n\u001b[0m\u001b[1;32m     73\u001b[0m   \u001b[0;31m# Mapping from original filename to filename as saved locally.\u001b[0m\u001b[0;34m\u001b[0m\u001b[0;34m\u001b[0m\u001b[0m\n\u001b[1;32m     74\u001b[0m   \u001b[0mlocal_filenames\u001b[0m \u001b[0;34m=\u001b[0m \u001b[0mdict\u001b[0m\u001b[0;34m(\u001b[0m\u001b[0;34m)\u001b[0m\u001b[0;34m\u001b[0m\u001b[0;34m\u001b[0m\u001b[0m\n",
            "\u001b[0;32m/usr/local/lib/python3.12/dist-packages/google/colab/files.py\u001b[0m in \u001b[0;36m_upload_files\u001b[0;34m(multiple)\u001b[0m\n\u001b[1;32m    162\u001b[0m \u001b[0;34m\u001b[0m\u001b[0m\n\u001b[1;32m    163\u001b[0m   \u001b[0;31m# First result is always an indication that the file picker has completed.\u001b[0m\u001b[0;34m\u001b[0m\u001b[0;34m\u001b[0m\u001b[0m\n\u001b[0;32m--> 164\u001b[0;31m   result = _output.eval_js(\n\u001b[0m\u001b[1;32m    165\u001b[0m       'google.colab._files._uploadFiles(\"{input_id}\", \"{output_id}\")'.format(\n\u001b[1;32m    166\u001b[0m           \u001b[0minput_id\u001b[0m\u001b[0;34m=\u001b[0m\u001b[0minput_id\u001b[0m\u001b[0;34m,\u001b[0m \u001b[0moutput_id\u001b[0m\u001b[0;34m=\u001b[0m\u001b[0moutput_id\u001b[0m\u001b[0;34m\u001b[0m\u001b[0;34m\u001b[0m\u001b[0m\n",
            "\u001b[0;32m/usr/local/lib/python3.12/dist-packages/google/colab/output/_js.py\u001b[0m in \u001b[0;36meval_js\u001b[0;34m(script, ignore_result, timeout_sec)\u001b[0m\n\u001b[1;32m     38\u001b[0m   \u001b[0;32mif\u001b[0m \u001b[0mignore_result\u001b[0m\u001b[0;34m:\u001b[0m\u001b[0;34m\u001b[0m\u001b[0;34m\u001b[0m\u001b[0m\n\u001b[1;32m     39\u001b[0m     \u001b[0;32mreturn\u001b[0m\u001b[0;34m\u001b[0m\u001b[0;34m\u001b[0m\u001b[0m\n\u001b[0;32m---> 40\u001b[0;31m   \u001b[0;32mreturn\u001b[0m \u001b[0m_message\u001b[0m\u001b[0;34m.\u001b[0m\u001b[0mread_reply_from_input\u001b[0m\u001b[0;34m(\u001b[0m\u001b[0mrequest_id\u001b[0m\u001b[0;34m,\u001b[0m \u001b[0mtimeout_sec\u001b[0m\u001b[0;34m)\u001b[0m\u001b[0;34m\u001b[0m\u001b[0;34m\u001b[0m\u001b[0m\n\u001b[0m\u001b[1;32m     41\u001b[0m \u001b[0;34m\u001b[0m\u001b[0m\n\u001b[1;32m     42\u001b[0m \u001b[0;34m\u001b[0m\u001b[0m\n",
            "\u001b[0;32m/usr/local/lib/python3.12/dist-packages/google/colab/_message.py\u001b[0m in \u001b[0;36mread_reply_from_input\u001b[0;34m(message_id, timeout_sec)\u001b[0m\n\u001b[1;32m     94\u001b[0m     \u001b[0mreply\u001b[0m \u001b[0;34m=\u001b[0m \u001b[0m_read_next_input_message\u001b[0m\u001b[0;34m(\u001b[0m\u001b[0;34m)\u001b[0m\u001b[0;34m\u001b[0m\u001b[0;34m\u001b[0m\u001b[0m\n\u001b[1;32m     95\u001b[0m     \u001b[0;32mif\u001b[0m \u001b[0mreply\u001b[0m \u001b[0;34m==\u001b[0m \u001b[0m_NOT_READY\u001b[0m \u001b[0;32mor\u001b[0m \u001b[0;32mnot\u001b[0m \u001b[0misinstance\u001b[0m\u001b[0;34m(\u001b[0m\u001b[0mreply\u001b[0m\u001b[0;34m,\u001b[0m \u001b[0mdict\u001b[0m\u001b[0;34m)\u001b[0m\u001b[0;34m:\u001b[0m\u001b[0;34m\u001b[0m\u001b[0;34m\u001b[0m\u001b[0m\n\u001b[0;32m---> 96\u001b[0;31m       \u001b[0mtime\u001b[0m\u001b[0;34m.\u001b[0m\u001b[0msleep\u001b[0m\u001b[0;34m(\u001b[0m\u001b[0;36m0.025\u001b[0m\u001b[0;34m)\u001b[0m\u001b[0;34m\u001b[0m\u001b[0;34m\u001b[0m\u001b[0m\n\u001b[0m\u001b[1;32m     97\u001b[0m       \u001b[0;32mcontinue\u001b[0m\u001b[0;34m\u001b[0m\u001b[0;34m\u001b[0m\u001b[0m\n\u001b[1;32m     98\u001b[0m     if (\n",
            "\u001b[0;31mKeyboardInterrupt\u001b[0m: "
          ]
        }
      ]
    },
    {
      "cell_type": "markdown",
      "source": [
        "7. How can you validate form data in Flask?"
      ],
      "metadata": {
        "id": "YviKlNalwKuk"
      }
    },
    {
      "cell_type": "code",
      "source": [
        "!pip install flask-wtf\n"
      ],
      "metadata": {
        "colab": {
          "base_uri": "https://localhost:8080/"
        },
        "collapsed": true,
        "id": "9m2x7bSyvx03",
        "outputId": "02cb1938-609d-4681-a821-a42e3aab50c0"
      },
      "execution_count": 41,
      "outputs": [
        {
          "output_type": "stream",
          "name": "stdout",
          "text": [
            "Collecting flask-wtf\n",
            "  Downloading flask_wtf-1.2.2-py3-none-any.whl.metadata (3.4 kB)\n",
            "Requirement already satisfied: flask in /usr/local/lib/python3.12/dist-packages (from flask-wtf) (3.1.2)\n",
            "Requirement already satisfied: itsdangerous in /usr/local/lib/python3.12/dist-packages (from flask-wtf) (2.2.0)\n",
            "Collecting wtforms (from flask-wtf)\n",
            "  Downloading wtforms-3.2.1-py3-none-any.whl.metadata (5.3 kB)\n",
            "Requirement already satisfied: blinker>=1.9.0 in /usr/local/lib/python3.12/dist-packages (from flask->flask-wtf) (1.9.0)\n",
            "Requirement already satisfied: click>=8.1.3 in /usr/local/lib/python3.12/dist-packages (from flask->flask-wtf) (8.2.1)\n",
            "Requirement already satisfied: jinja2>=3.1.2 in /usr/local/lib/python3.12/dist-packages (from flask->flask-wtf) (3.1.6)\n",
            "Requirement already satisfied: markupsafe>=2.1.1 in /usr/local/lib/python3.12/dist-packages (from flask->flask-wtf) (3.0.2)\n",
            "Requirement already satisfied: werkzeug>=3.1.0 in /usr/local/lib/python3.12/dist-packages (from flask->flask-wtf) (3.1.3)\n",
            "Downloading flask_wtf-1.2.2-py3-none-any.whl (12 kB)\n",
            "Downloading wtforms-3.2.1-py3-none-any.whl (152 kB)\n",
            "\u001b[2K   \u001b[90m━━━━━━━━━━━━━━━━━━━━━━━━━━━━━━━━━━━━━━━━\u001b[0m \u001b[32m152.5/152.5 kB\u001b[0m \u001b[31m4.0 MB/s\u001b[0m eta \u001b[36m0:00:00\u001b[0m\n",
            "\u001b[?25hInstalling collected packages: wtforms, flask-wtf\n",
            "Successfully installed flask-wtf-1.2.2 wtforms-3.2.1\n"
          ]
        }
      ]
    },
    {
      "cell_type": "code",
      "source": [
        "from flask import Flask, render_template\n",
        "from flask_wtf import FlaskForm\n",
        "from wtforms import StringField, SubmitField\n",
        "from wtforms.validators import DataRequired, Email\n",
        "\n",
        "app = Flask(__name__)\n",
        "app.secret_key = 'secret_key'  # Required for CSRF protection\n",
        "\n",
        "class MyForm(FlaskForm):\n",
        "    name = StringField(\"Name\", validators=[DataRequired()])\n",
        "    email = StringField(\"Email\", validators=[DataRequired(), Email()])\n",
        "    submit = SubmitField(\"Submit\")\n",
        "\n",
        "@app.route('/submit', methods=['GET', 'POST'])\n",
        "def submit():\n",
        "    form = MyForm()\n",
        "    if form.validate_on_submit():  # Automatically checks validators\n",
        "        return f\"Name: {form.name.data}, Email: {form.email.data}\"\n",
        "    return render_template('form.html', form=form)\n"
      ],
      "metadata": {
        "id": "CP69B3DmwqOO"
      },
      "execution_count": 42,
      "outputs": []
    },
    {
      "cell_type": "markdown",
      "source": [
        "8. How do you manage sessions in Flask?\n"
      ],
      "metadata": {
        "id": "NNmKmM3Uu9Fs"
      }
    },
    {
      "cell_type": "code",
      "source": [
        "from flask import Flask, session, redirect, url_for, request\n",
        "\n",
        "app = Flask(__name__)\n",
        "# Set a secret key for signing the session cookie\n",
        "# In a real application, use a strong, randomly generated key\n",
        "app.secret_key = 'your_secret_key'\n",
        "\n",
        "@app.route('/')\n",
        "def index():\n",
        "    if 'username' in session:\n",
        "        return f'Logged in as {session[\"username\"]}'\n",
        "    return 'You are not logged in'\n",
        "\n",
        "@app.route('/login', methods=['GET', 'POST'])\n",
        "def login():\n",
        "    if request.method == 'POST':\n",
        "        session['username'] = request.form['username']\n",
        "        return redirect(url_for('index'))\n",
        "    return '''\n",
        "\n",
        "\n",
        "\n",
        "\n",
        "    '''\n",
        "\n",
        "@app.route('/logout')\n",
        "def logout():\n",
        "    # Remove the username from the session if it's there\n",
        "    session.pop('username', None)\n",
        "    return redirect(url_for('index'))\n",
        "\n",
        "if __name__ == '__main__':\n",
        "    app.run(debug=True)"
      ],
      "metadata": {
        "id": "_SWikJuR1Wem"
      },
      "execution_count": null,
      "outputs": []
    },
    {
      "cell_type": "markdown",
      "source": [
        "9. How do you redirect to a different route in Flask?"
      ],
      "metadata": {
        "id": "_tszDwNcxOch"
      }
    },
    {
      "cell_type": "code",
      "source": [
        "from flask import Flask, redirect, url_for\n",
        "\n",
        "app = Flask(__name__)\n",
        "\n",
        "@app.route('/')\n",
        "def index():\n",
        "    return 'This is the index page. You will be redirected to the target page.'\n",
        "\n",
        "@app.route('/redirect_to_target')\n",
        "def redirect_example():\n",
        "    # Redirect to the 'target_page' route\n",
        "    return redirect(url_for('target_page'))\n",
        "\n",
        "@app.route('/target')\n",
        "def target_page():\n",
        "    return 'You have been redirected to the target page!'\n",
        "\n",
        "if __name__ == '__main__':\n",
        "    app.run(debug=True)\n",
        ""
      ],
      "metadata": {
        "id": "SXoz3PKB1SVW"
      },
      "execution_count": null,
      "outputs": []
    },
    {
      "cell_type": "markdown",
      "source": [
        "10. How do you handle errors in Flask (e.g., 404)?"
      ],
      "metadata": {
        "id": "1dU27ZeQyIA-"
      }
    },
    {
      "cell_type": "code",
      "source": [
        "from flask import Flask, render_template\n",
        "\n",
        "app = Flask(__name__)\n",
        "\n",
        "@app.route('/')\n",
        "def index():\n",
        "    return 'Hello, this is the index page.'\n",
        "\n",
        "# Custom error handler for 404 Not Found errors\n",
        "@app.errorhandler(404)\n",
        "def page_not_found(error):\n",
        "    # You can render a custom template or return a simple string\n",
        "    return render_template('404.html'), 404\n",
        "\n",
        "# Example of a 404.html template in a 'templates' folder:\n",
        "#\n",
        "#\n",
        "#\n",
        "#     Page Not Found\n",
        "#\n",
        "#\n",
        "#     Page Not Found\n",
        "#     The requested URL was not found on the server. If you entered the URL manually please check your spelling and try again.\n",
        "#\n",
        "#\n",
        "\n",
        "if __name__ == '__main__':\n",
        "    app.run(debug=True)"
      ],
      "metadata": {
        "id": "fKuGEd5-1AM5"
      },
      "execution_count": null,
      "outputs": []
    },
    {
      "cell_type": "markdown",
      "source": [
        "11. How do you structure a Flask app using Blueprints?"
      ],
      "metadata": {
        "id": "kIjpWVcOyHy1"
      }
    },
    {
      "cell_type": "code",
      "source": [
        "# app.py\n",
        "from flask import Flask\n",
        "\n",
        "def create_app():\n",
        "    app = Flask(__name__)\n",
        "\n",
        "    # Register blueprints\n",
        "    from .main import main as main_blueprint\n",
        "    app.register_blueprint(main_blueprint)\n",
        "\n",
        "    from .auth import auth as auth_blueprint\n",
        "    app.register_blueprint(auth_blueprint, url_prefix='/auth')\n",
        "\n",
        "    return app\n",
        "\n",
        "if __name__ == '__main__':\n",
        "    app = create_app()\n",
        "    app.run(debug=True)\n",
        "\n",
        "\n",
        "# main.py (inside a 'main' folder)\n",
        "from flask import Blueprint\n",
        "\n",
        "main = Blueprint('main', __name__)\n",
        "\n",
        "@main.route('/')\n",
        "def index():\n",
        "    return 'Hello from the main blueprint!'\n",
        "\n",
        "\n",
        "# auth.py (inside an 'auth' folder)\n",
        "from flask import Blueprint\n",
        "\n",
        "auth = Blueprint('auth', __name__)\n",
        "\n",
        "@auth.route('/login')\n",
        "def login():\n",
        "    return 'This is the login page from the auth blueprint.'"
      ],
      "metadata": {
        "id": "JEMUr0DK1Dwv"
      },
      "execution_count": null,
      "outputs": []
    },
    {
      "cell_type": "markdown",
      "source": [
        "12. How do you define a custom Jinja filter in Flask?"
      ],
      "metadata": {
        "id": "OasqglwryG-9"
      }
    },
    {
      "cell_type": "code",
      "source": [
        "from flask import Flask, render_template\n",
        "\n",
        "app = Flask(__name__)\n",
        "\n",
        "# Define a custom Jinja filter\n",
        "@app.template_filter('capitalize_words')\n",
        "def capitalize_words_filter(s):\n",
        "    return s.title()\n",
        "\n",
        "@app.route('/')\n",
        "def index():\n",
        "    my_text = \"hello world\"\n",
        "    return render_template('filter_example.html', my_text=my_text)\n",
        "\n",
        "# Example of a filter_example.html template in a 'templates' folder:\n",
        "#\n",
        "#\n",
        "#\n",
        "#     Custom Filter Example\n",
        "#\n",
        "#\n",
        "#     Custom Jinja Filter\n",
        "#     Original text: {{ my_text }}\n",
        "#     Text with custom filter: {{ my_text | capitalize_words }}\n",
        "#\n",
        "#\n",
        "\n",
        "if __name__ == '__main__':\n",
        "    app.run(debug=True)"
      ],
      "metadata": {
        "id": "VMNrKXLD1HAw"
      },
      "execution_count": null,
      "outputs": []
    },
    {
      "cell_type": "markdown",
      "source": [
        "13. How can you redirect with query parameters in Flask?"
      ],
      "metadata": {
        "id": "tvJr45MlyGyl"
      }
    },
    {
      "cell_type": "code",
      "source": [
        "from flask import Flask, redirect, url_for\n",
        "\n",
        "app = Flask(__name__)\n",
        "\n",
        "@app.route('/')\n",
        "def index():\n",
        "    return 'This is the index page.'\n",
        "\n",
        "@app.route('/redirect_with_params')\n",
        "def redirect_with_params():\n",
        "    # Redirect to the 'target_page' route with query parameters\n",
        "    return redirect(url_for('target_page', param1='value1', param2='value2'))\n",
        "\n",
        "@app.route('/target')\n",
        "def target_page():\n",
        "    # You can access the query parameters in the target route using request.args\n",
        "    from flask import request\n",
        "    param1 = request.args.get('param1')\n",
        "    param2 = request.args.get('param2')\n",
        "    return f'You have been redirected to the target page! Param1: {param1}, Param2: {param2}'\n",
        "\n",
        "if __name__ == '__main__':\n",
        "    app.run(debug=True)\n"
      ],
      "metadata": {
        "id": "SbdhD6Tb1KO7"
      },
      "execution_count": null,
      "outputs": []
    },
    {
      "cell_type": "markdown",
      "source": [
        "14. How do you return JSON responses in Flask?"
      ],
      "metadata": {
        "id": "vxyQG9l5yGqu"
      }
    },
    {
      "cell_type": "code",
      "source": [
        "from flask import Flask, jsonify\n",
        "\n",
        "app = Flask(__name__)\n",
        "\n",
        "@app.route('/data')\n",
        "def get_data():\n",
        "    data = {\n",
        "        'name': 'John Doe',\n",
        "        'age': 30,\n",
        "        'city': 'New York'\n",
        "    }\n",
        "    return jsonify(data)\n",
        "\n",
        "@app.route('/list_data')\n",
        "def get_list_data():\n",
        "    data = [\n",
        "        {'id': 1, 'item': 'apple'},\n",
        "        {'id': 2, 'item': 'banana'}\n",
        "    ]\n",
        "    return jsonify(data)\n",
        "\n",
        "if __name__ == '__main__':\n",
        "    app.run(debug=True)"
      ],
      "metadata": {
        "id": "AglVe_9f1M_w"
      },
      "execution_count": null,
      "outputs": []
    },
    {
      "cell_type": "markdown",
      "source": [
        "15. How do you capture URL parameters in Flask?"
      ],
      "metadata": {
        "id": "qISg9JFgyGnz"
      }
    },
    {
      "cell_type": "code",
      "source": [
        "app = Flask(__name__)\n",
        "\n",
        "# Define a route with a URL parameter 'name'\n",
        "@app.route('/user/')\n",
        "def show_user(name):\n",
        "  # The value of the URL parameter 'name' is passed as an argument to the function\n",
        "  return f'Hello, {name}!'\n",
        "\n",
        "# Define a route with a URL parameter 'post_id' which is an integer\n",
        "@app.route('/post/')\n",
        "def show_post(post_id):\n",
        "  # The value of the URL parameter 'post_id' is passed as an integer argument\n",
        "  return f'Post ID: {post_id}'\n",
        "\n",
        "if __name__ == '__main__':\n",
        "  app.run(debug=True)"
      ],
      "metadata": {
        "id": "XRt92QT-yF2H"
      },
      "execution_count": null,
      "outputs": []
    },
    {
      "cell_type": "code",
      "source": [],
      "metadata": {
        "id": "AnEBovoExYj3"
      },
      "execution_count": null,
      "outputs": []
    }
  ]
}