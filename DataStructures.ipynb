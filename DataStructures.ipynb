{
  "nbformat": 4,
  "nbformat_minor": 0,
  "metadata": {
    "colab": {
      "provenance": []
    },
    "kernelspec": {
      "name": "python3",
      "display_name": "Python 3"
    },
    "language_info": {
      "name": "python"
    }
  },
  "cells": [
    {
      "cell_type": "markdown",
      "source": [
        "Data Types and Structures Questions"
      ],
      "metadata": {
        "id": "NdRORj6LlYSC"
      }
    },
    {
      "cell_type": "markdown",
      "source": [
        "Q1- What are data structures, and why are they important?\n",
        "\n",
        "A1-Data structures are specialized formats for organizing, storing, and accessing collections of data. They provide efficient ways to manage information based on its characteristics and intended use.\n",
        "\n",
        "Think of them as containers that hold your data and determine how you can interact with it. Different containers are better suited for different types of items.\n",
        "\n",
        "They are important because\n",
        "\n",
        "-Choosing the right data structure significantly impacts the efficiency and performance of your program.\n",
        "\n",
        "-Well-chosen data structures can:\n",
        "\n",
        "-Simplify data manipulation (adding, removing, modifying elements)\n",
        "\n",
        "-Optimize searching and sorting operations\n",
        "\n",
        "-Conserve memory usage\n",
        "\n"
      ],
      "metadata": {
        "id": "CHgcmabPlkdD"
      }
    },
    {
      "cell_type": "markdown",
      "source": [
        "Q2-Explain the difference between mutable and immutable data types with examples.  \n",
        "A2-Mutable data types:              \n",
        "-These can be changed/modified after creation.         \n",
        "-Operations on mutable objects do not create a new object; instead, they modify the existing one.\n",
        "Examples: list, dict, set, bytearray\n",
        "\n",
        "Immutable data types:      \n",
        "-These cannot be changed once created.    \n",
        "-Any modification creates a new object in memory.    \n",
        "Examples: int, float, bool, str, tuple, frozenset, bytes"
      ],
      "metadata": {
        "id": "8gHtsnHong4M"
      }
    },
    {
      "cell_type": "code",
      "execution_count": null,
      "metadata": {
        "colab": {
          "base_uri": "https://localhost:8080/"
        },
        "id": "uCxjy6w1lHmy",
        "outputId": "193d8e36-34d3-4a6b-91a9-61be28f65e8c"
      },
      "outputs": [
        {
          "output_type": "stream",
          "name": "stdout",
          "text": [
            "mutable data type example example\n",
            "orignal list:  ['aryan', 'astac', 2, (6+2j)]\n",
            "modified list: ['aryan', 3, 2, (6+2j)]\n",
            "immutable data type example\n",
            "Original String: Hello\n",
            "Modified String: Hello World\n"
          ]
        }
      ],
      "source": [
        "#example of mutable data types\n",
        "print(\"mutable data type example example\")\n",
        "#mutable list example\n",
        "my_list = [\"aryan\",\"astac\", 2, 2j+6]\n",
        "print(\"orignal list: \",my_list)\n",
        "\n",
        "my_list[1]=3 # modifying list\n",
        "print(\"modified list:\", my_list)\n",
        "\n",
        "print(\"immutable data type example\")\n",
        "# Immutable Example - String\n",
        "my_str = \"Hello\"\n",
        "print(\"Original String:\", my_str)\n",
        "\n",
        "my_str = my_str + \" World\"  # creates a new string\n",
        "print(\"Modified String:\", my_str)\n"
      ]
    },
    {
      "cell_type": "markdown",
      "source": [
        "Q3-What are the main differences between lists and tuples in Python?   \n",
        "A3-LIST   \n",
        "- Ordered, mutable collections of elements. Think of shopping lists or task lists. Lists can hold items of various data types (numbers, strings, even other lists!).\n",
        "- You can add, remove, or modify elements within a list using indexing and slicing. Lists are versatile for storing and managing collections that might change.   \n",
        "- Imagine a shopping cart where you can add new items, remove unwanted ones, or change quantities. Lists offer this flexibility in data storage.\n",
        "\n",
        "-TUPLES    \n",
        "-  Ordered, immutable collections of elements, similar to lists. However, once created, the items in a tuple cannot be changed. They provide a secure way to store data that shouldn't be modified.  \n",
        "-  You can access elements using indexing and slicing, but you cannot modify the content. Tuples are useful for representing fixed datasets or configurations.\n",
        "- Imagine a museum exhibit with artifacts in a fixed display case. These artifacts (data) are fixed in their place (immutable) and cannot be rearranged or removed, ensuring their preservation.\n"
      ],
      "metadata": {
        "id": "ejWAU7zhtzry"
      }
    },
    {
      "cell_type": "markdown",
      "source": [
        "Q4-Describe how dictionaries store data?\n",
        "A4-\n",
        "-  A dictionary stores data as key-value pairs.\n",
        "- Each key is unique and is used to access its corresponding value.\n",
        "-  Dictionaries are mutable, so you can add, update, or remove items.\n",
        "-  Internally, dictionaries use a hash table for fast lookups"
      ],
      "metadata": {
        "id": "4MOjHHVBvmcB"
      }
    },
    {
      "cell_type": "code",
      "source": [
        "#EXAMPLE:\n",
        "\n",
        "#CREATING A DICTIONARY\n",
        "STUDENT={\n",
        "    \"NAME\": \"OLAF\",\n",
        "    \"AGE\" : 22,\n",
        "    \"COURSE\": \" DATA ANALYTICS\"\n",
        "}\n",
        "\n",
        "# ACCESSING DATA\n",
        "print(STUDENT[\"NAME\"])  # OUTPUT: OLAF\n",
        "\n",
        "#ADDING NEW KEY VALUE-PAIR\n",
        "STUDENT[\"GRADE\"]=\"A\"\n",
        "\n",
        "#UPDATING VALUE\n",
        "STUDENT[\"AGE\"]=23\n"
      ],
      "metadata": {
        "id": "gMzYrmZgxuFi",
        "colab": {
          "base_uri": "https://localhost:8080/"
        },
        "outputId": "e65596b4-5822-461d-d528-82c98b3859b2"
      },
      "execution_count": 3,
      "outputs": [
        {
          "output_type": "stream",
          "name": "stdout",
          "text": [
            "OLAF\n"
          ]
        }
      ]
    },
    {
      "cell_type": "markdown",
      "source": [
        "Q5. Why might you use a set instead of a list in Python?\n",
        "A5-\n",
        "- Sets are collections of unique elements, they automatically remove duplicates.\n",
        "- They are unordered, so elements don’t have a specific position.\n",
        "- Sets provide faster membership testing (inoperator) compared to lists.\n",
        "-  Useful when you want to eliminate duplicates or perform mathematical operations like union, intersection, difference."
      ],
      "metadata": {
        "id": "MQIvZfVe3Ltp"
      }
    },
    {
      "cell_type": "code",
      "source": [
        "# List with duplicates\n",
        "my_list = [1, 2, 2, 3, 4, 4, 5]\n",
        "\n",
        " # Convert to set to remove duplicates\n",
        "my_set = set(my_list)\n",
        "\n",
        "print(my_set)  # Output: {1, 2, 3, 4, 5}\n"
      ],
      "metadata": {
        "colab": {
          "base_uri": "https://localhost:8080/"
        },
        "id": "oPsYEvaB2_X2",
        "outputId": "74b70431-0e25-4a59-efbf-212492964f1d"
      },
      "execution_count": 5,
      "outputs": [
        {
          "output_type": "stream",
          "name": "stdout",
          "text": [
            "{1, 2, 3, 4, 5}\n"
          ]
        }
      ]
    },
    {
      "cell_type": "markdown",
      "source": [
        " Q6. What is a string in Python, and how is it different from\n",
        " a list?\n",
        " - Characters arranged in an unchangeable order. Consider writing a sentence, a paragraph, or a piece of material.\n",
        " -  A string is a sequence of characters enclosed in quotes (' 'or \" \" ).\n",
        " -  Strings are immutable, meaning once created, their content cannot be changed.\n",
        "\n",
        " DIFFERNCE BETWEEN THE STRING AND LIST ARE\n",
        " - MUTABILITY: Strings are immutable and list are mutable.\n",
        " - DATA TYPE: Strings are sequence of character and list are sequence of any data type\n",
        " - SYNTAX:\n",
        "- STRINGS- 'hello' or \"hello\"\n",
        "- LIST- [1, 2, 3] , ['a', 'b', 'c']\n",
        " -USAGE: Strings are used for text and list are used for collection of items.\n",
        ""
      ],
      "metadata": {
        "id": "wmyXVYma4ISc"
      }
    },
    {
      "cell_type": "markdown",
      "source": [
        "Q7. How do tuples ensure data integrity in Python?\n",
        "-  Tuples are immutable, which means once a tuple is created, its contents cannot be\n",
        " changed.\n",
        "- This immutability protects the data from accidental modification or deletion.\n",
        "- Because tuples cannot be altered, they are safer to use for fixed data that should not be modified.\n",
        "- This helps in maintaining data integrity especially when passing data between functions or modules.\n",
        "- Tuples can also be used as keys in dictionaries because they are immutable.\n",
        "  "
      ],
      "metadata": {
        "id": "v1zixfjk7Mmd"
      }
    },
    {
      "cell_type": "markdown",
      "source": [
        "Q8. What is a hash table, and how does it relate to\n",
        " dictionaries in Python?\n",
        " - A hash table is a data structure that stores data in key–value pairs. It uses a hashing function to convert a key into an index (called a hash value), which determines where the corresponding value is stored in memory. This allows very fast lookups, insertions, and deletions (on average O(1) time complexity).\n",
        " - How it works:\n",
        "- A key is given (e.g., \"name\").\n",
        "- A hash function computes an integer hash code for the key.\n",
        "- This hash code is mapped to an index in an array (bucket).\n",
        "- The value is stored at that index.\n",
        "- When retrieving, Python re-hashes the key and goes directly to the index.\n",
        " - Relation to Python Dictionaries:\n",
        "- In Python, a dictionary (dict) is implemented using a hash table.\n",
        "- Dictionary keys must be hashable (i.e., have a stable hash value and be immutable, like strings, numbers, tuples of immutables).\n",
        "- Dictionary operations (get, set, delete, in) are optimized because of the hash table structure.\n",
        "- If two keys produce the same hash value (collision), Python resolves it internally using open addressing (probing another slot)."
      ],
      "metadata": {
        "id": "p7jHfVxf7r4i"
      }
    },
    {
      "cell_type": "markdown",
      "source": [
        " Q9. Can lists contain different data types in Python?\n",
        " - Yes, lists in Python can contain elements of different data types.\n",
        " - A single list can have integers, strings, floats, booleans, and even other lists or objects.\n",
        " - This makes lists very flexible and useful for storing mixed data.\n",
        ""
      ],
      "metadata": {
        "id": "aotZ168q9H1m"
      }
    },
    {
      "cell_type": "code",
      "source": [
        "my_list = [\"hello\", 3.14, True,69, [1, 2, 3]]\n",
        "\n",
        "print(my_list)\n",
        "\n",
        " # Output: ['hello', 3.14, True, 69, [1, 2, 3]]"
      ],
      "metadata": {
        "colab": {
          "base_uri": "https://localhost:8080/"
        },
        "id": "iwhj-OWc2cbN",
        "outputId": "c82635c2-6f5b-4160-95a9-830f4b41c2b8"
      },
      "execution_count": 7,
      "outputs": [
        {
          "output_type": "stream",
          "name": "stdout",
          "text": [
            "['hello', 3.14, True, 69, [1, 2, 3]]\n"
          ]
        }
      ]
    },
    {
      "cell_type": "markdown",
      "source": [
        " Q10. Explain why strings are immutable in Python?\n",
        " - In Python, strings are immutable, meaning once a string object is created, it cannot be modified. Any operation that seems to change a string actually creates a new string object in memory.\n",
        " - Reasons why strings are immutable:\n",
        "- Optimize memory usage by allowing string reuse (string interning).\n",
        "- Make strings thread-safe (safe to use in multiple parts of a program without\n",
        " unintended changes).\n",
        "- Prevent bugs by avoiding accidental changes to string data.\n",
        " -  When you modify a string, Python actually creates a new string instead of changing the original.\n",
        "\n",
        "\n",
        "\n"
      ],
      "metadata": {
        "id": "uHj6fLif98K_"
      }
    },
    {
      "cell_type": "code",
      "source": [
        " #example\n",
        " s = \"hello\"\n",
        "\n",
        " # s[0] = \"H\"  # Error: strings are immutable\n",
        "\n",
        " # To change, create a new string\n",
        "\n",
        " s_new = \"H\" + s[1:]\n",
        "\n",
        " print(s_new)  # Output: Hello"
      ],
      "metadata": {
        "colab": {
          "base_uri": "https://localhost:8080/"
        },
        "id": "43bJ0hZp9rHo",
        "outputId": "a5858cb2-2e4c-46a2-b49b-6e3ed5627b0a"
      },
      "execution_count": 8,
      "outputs": [
        {
          "output_type": "stream",
          "name": "stdout",
          "text": [
            "Hello\n"
          ]
        }
      ]
    },
    {
      "cell_type": "markdown",
      "source": [
        "Q11. What advantages do dictionaries offer over lists for\n",
        " certain tasks?\n",
        "- Fast Lookup (O(1) vs. O(n)):\n",
        " - Dictionary: Uses a hash table → key-based lookup is O(1) on average.\n",
        "\n",
        " - List: To find an element, Python may scan each item → O(n) time.\n",
        "-  Key-Value Pair Storage:\n",
        " - Dictionaries store data as key-value pairs, making it easy to represent relationships (like aperson's name and age), whereas lists store ordered items without keys\n",
        "- Uniqueness of Keys:\n",
        " - Keys in dictionaries are unique, preventing duplicate entries for the same key\n",
        "- Flexible Data Access:\n",
        " - You can access data directly by key rather than by position or index."
      ],
      "metadata": {
        "id": "0QR54YbwESF4"
      }
    },
    {
      "cell_type": "markdown",
      "source": [
        " Q12. Describe a scenario where using a tuple would be\n",
        " preferable over a list.\n",
        " - A tuple is preferable over a list when the data should not change (immutability), like storing a date of birth or geographic coordinates. Tuples are also hashable, so they can be used as dictionary keys or set elements, and they are faster and more memory-efficient than lists."
      ],
      "metadata": {
        "id": "gcxJCPnGFnZ7"
      }
    },
    {
      "cell_type": "markdown",
      "source": [
        " Q13. How do sets handle duplicate values in Python?\n",
        " - In Python, a set automatically removes duplicate values.\n",
        " - When you add elements to a set, it only keeps unique items — any duplicate is ignored."
      ],
      "metadata": {
        "id": "7RipxIUnGIGz"
      }
    },
    {
      "cell_type": "code",
      "source": [
        "my_set = {1, 2, 2, 3, 3, 3}\n",
        "\n",
        "print(my_set)   # {1, 2, 3}\n"
      ],
      "metadata": {
        "colab": {
          "base_uri": "https://localhost:8080/"
        },
        "id": "9CsbZe2SERJP",
        "outputId": "0d6e1f48-a5f7-4109-9784-7ef8812eb646"
      },
      "execution_count": 9,
      "outputs": [
        {
          "output_type": "stream",
          "name": "stdout",
          "text": [
            "{1, 2, 3}\n"
          ]
        }
      ]
    },
    {
      "cell_type": "markdown",
      "source": [
        " Q14. How does the “in” keyword work differently for lists\n",
        " and dictionaries?\n",
        " - For Lists:\n",
        "- The in keyword checks if a value exists in the list by scanning through elements (linear search, O(n)).\n",
        " - For Dictionaries:\n",
        "- The in keyword checks if a key exists in the dictionary (not the value). Lookup is hash-based (O(1) average)."
      ],
      "metadata": {
        "id": "rxtgP26fGmmL"
      }
    },
    {
      "cell_type": "code",
      "source": [
        "# example for list\n",
        "\n",
        "my_list = [10, 20, 30]\n",
        "print(20 in my_list)   # True (checks values)\n",
        "print(2 in my_list)    # False\n",
        "\n",
        "# example for dictionary\n",
        "\n",
        "my_dict = {\"a\": 1, \"b\": 2}\n",
        "print(\"a\" in my_dict)    # True (checks keys)\n",
        "print(1 in my_dict)      # False (does not check values)\n"
      ],
      "metadata": {
        "colab": {
          "base_uri": "https://localhost:8080/"
        },
        "id": "ruvwcqhDGmSa",
        "outputId": "018d8a18-ca88-4f75-ecaf-a79fe90bee8f"
      },
      "execution_count": 10,
      "outputs": [
        {
          "output_type": "stream",
          "name": "stdout",
          "text": [
            "True\n",
            "False\n",
            "True\n",
            "False\n"
          ]
        }
      ]
    },
    {
      "cell_type": "markdown",
      "source": [
        "Q15. Can you modify the elements of a tuple? Explain why\n",
        " or why not?\n",
        " - No, you cannot modify the elements of a tuple in Python.\n",
        " - Reason:\n",
        "- Tuples are immutable, meaning once created, their contents cannot be changed (no item assignment, deletion, or modification).\n",
        "- This immutability makes tuples hashable (so they can be used as dictionary keys and set elements) and ensures data integrity for fixed collections."
      ],
      "metadata": {
        "id": "rrJrUIdBHaQ6"
      }
    },
    {
      "cell_type": "code",
      "source": [
        "t = (10, 20, 30)\n",
        "t[1] = 50   # ❌ Error: 'tuple' object does not support item assignment"
      ],
      "metadata": {
        "id": "VzjBZCpiGb5R"
      },
      "execution_count": null,
      "outputs": []
    },
    {
      "cell_type": "markdown",
      "source": [
        " Q16. What is a nested dictionary, and give an example of\n",
        " its use case?\n",
        "- Definition:\n",
        " - A nested dictionary in Python is a dictionary inside another dictionary.\n",
        " - It is used to store complex and structured data in a hierarchical form.\n",
        "- Key Points:\n",
        " - Allows data to be grouped together logically.\n",
        " - Useful for representing data that has multiple levels (e.g., students with subject marks,\n",
        " - company with departments and employees).\n",
        " - Access data using multiple keys.\n",
        "\n",
        "- Example Use Case:\n",
        "\n",
        "   Storing student information where each student has details like age and grade.\n",
        "   "
      ],
      "metadata": {
        "id": "ggHS6QWYHxBB"
      }
    },
    {
      "cell_type": "code",
      "source": [
        "students = {\n",
        "    \"rohit\": {\"age\": 20, \"grade\": \"A\"},\n",
        "    \"ram\": {\"age\": 22, \"grade\": \"B\"},\n",
        "    \"aman\": {\"age\": 21, \"grade\": \"A\"}\n",
        "}\n",
        "\n",
        "print(students[\"aman\"][\"grade\"])  # Output: A\n"
      ],
      "metadata": {
        "colab": {
          "base_uri": "https://localhost:8080/"
        },
        "id": "FvH8nFWFHvXn",
        "outputId": "04d2791d-9d13-44ec-a78f-eb409253a386"
      },
      "execution_count": 12,
      "outputs": [
        {
          "output_type": "stream",
          "name": "stdout",
          "text": [
            "A\n"
          ]
        }
      ]
    },
    {
      "cell_type": "markdown",
      "source": [
        " Q17.Describe the time complexity of accessing elements\n",
        " in a dictionary?\n",
        "- Accessing elements in a Python dictionary is, on average, O(1) time complexity because it uses a hash table for key lookups.\n",
        " - Best/Average Case: O(1) → Direct key-to-index mapping via hashing.\n",
        " - Worst Case: O(n) → If many keys hash to the same index (hash collisions), though Python handles this efficiently, so it’s very rare.\n",
        "\n",
        ""
      ],
      "metadata": {
        "id": "2C47FdQwJBz4"
      }
    },
    {
      "cell_type": "markdown",
      "source": [
        " Q18. In what situations are lists preferred over\n",
        " dictionaries?\n",
        "- Lists are preferred over dictionaries when:\n",
        "\n",
        " - Order matters → Lists maintain insertion order and allow indexed access.\n",
        " - Data has no key-value relationship → When storing simple collections of items (e.g., numbers, names).\n",
        "\n",
        " - Sequential operations → Useful for iteration, slicing, sorting, or applying functions to ordered data.\n",
        "\n",
        " - Duplicates are allowed → Unlike dictionary keys, lists can store duplicate values.\n",
        "\n",
        " - Memory efficiency → Lists take less memory for simple sequences compared to dictionaries."
      ],
      "metadata": {
        "id": "R6XToW21JtUs"
      }
    },
    {
      "cell_type": "markdown",
      "source": [
        " Q19. Why are dictionaries considered unordered, and how\n",
        " does that affect data retrieval ?\n",
        "- Dictionaries in Python are considered unordered because their elements are stored based on the hash values of keys, not by the order in which they are inserted (before Python 3.7, insertion order was not preserved).\n",
        "\n",
        "- Effect on retrieval:\n",
        "\n",
        " - You cannot rely on a dictionary to return items in the same order you inserted them (unless you’re using Python 3.7+ where insertion order is preserved, but this is treated as an implementation detail).\n",
        "\n",
        " - Retrieval is done by key lookup using hashing, not by position/index like in lists.\n"
      ],
      "metadata": {
        "id": "sxH4gFTQKdC2"
      }
    },
    {
      "cell_type": "code",
      "source": [
        "my_dict = {\"a\": 1, \"b\": 2, \"c\": 3}\n",
        "print(my_dict[\"b\"])  # Retrieves value by key, not by order\n"
      ],
      "metadata": {
        "colab": {
          "base_uri": "https://localhost:8080/"
        },
        "id": "9X0qVmWRLlP5",
        "outputId": "38139025-abfd-4248-d8c2-51e8d821585c"
      },
      "execution_count": 13,
      "outputs": [
        {
          "output_type": "stream",
          "name": "stdout",
          "text": [
            "2\n"
          ]
        }
      ]
    },
    {
      "cell_type": "markdown",
      "source": [
        " Q20. Explain the difference between a list and a dictionary\n",
        " in terms of data retrieval.\n",
        "- List (Index-based retrieval):\n",
        "\n",
        " - Elements are accessed using integer indexes.\n",
        "\n",
        " - Retrieval requires knowing the position of the element.\n",
        "\n",
        " - Time complexity: O(1) if index is known, O(n) if searching by value\n",
        "- Dictionary (Key-based retrieval):\n",
        "\n",
        " - Elements are accessed using unique keys.\n",
        "\n",
        " - Retrieval is direct through hashing, not by position.\n",
        "\n",
        " - Time complexity: O(1) on average for key lookups."
      ],
      "metadata": {
        "id": "A3GqkQ4CLuNq"
      }
    },
    {
      "cell_type": "code",
      "source": [
        "#example for list\n",
        "my_list = [\"apple\", \"banana\", \"cherry\"]\n",
        "\n",
        "print(my_list[1])   # \"banana\" (access by position)\n",
        "\n",
        "#example for Dictionary\n",
        "my_dict = {\"a\": \"apple\", \"b\": \"banana\", \"c\": \"cherry\"}\n",
        "\n",
        "print(my_dict[\"b\"])  # \"banana\" (access by key)\n",
        "\n"
      ],
      "metadata": {
        "colab": {
          "base_uri": "https://localhost:8080/"
        },
        "id": "BDi6c2xgI0RH",
        "outputId": "228a7f55-2e55-4415-d632-9ab177c5c141"
      },
      "execution_count": 14,
      "outputs": [
        {
          "output_type": "stream",
          "name": "stdout",
          "text": [
            "banana\n",
            "banana\n"
          ]
        }
      ]
    },
    {
      "cell_type": "markdown",
      "source": [
        "**PRACTICAL QUESTIONS**"
      ],
      "metadata": {
        "id": "dwSNgnKMMuLm"
      }
    },
    {
      "cell_type": "code",
      "source": [
        "# Q1. Write a code to create a string with your name and print it.\n",
        "name = \"aryan\"\n",
        "print(name)"
      ],
      "metadata": {
        "colab": {
          "base_uri": "https://localhost:8080/"
        },
        "id": "KOcrx6njMnha",
        "outputId": "31dc0e95-ba9e-4989-cf66-75efd91f5b81"
      },
      "execution_count": 15,
      "outputs": [
        {
          "output_type": "stream",
          "name": "stdout",
          "text": [
            "aryan\n"
          ]
        }
      ]
    },
    {
      "cell_type": "code",
      "source": [
        "# Q2. Write a code to find the length of the string \"Hello World\".\n",
        "string = \"Hello World\"\n",
        "print(len(string))"
      ],
      "metadata": {
        "colab": {
          "base_uri": "https://localhost:8080/"
        },
        "id": "p3eKwUkPNePh",
        "outputId": "3fc79817-8967-4639-a002-58646e00cbe8"
      },
      "execution_count": 16,
      "outputs": [
        {
          "output_type": "stream",
          "name": "stdout",
          "text": [
            "11\n"
          ]
        }
      ]
    },
    {
      "cell_type": "code",
      "source": [
        "# Q3. Write a code to slice the first 3 characters from the string \"Python Programming\".\n",
        "strimg = \"Python Programming\"\n",
        "first_three_character = strimg[0:3]\n",
        "print(first_three_character)"
      ],
      "metadata": {
        "colab": {
          "base_uri": "https://localhost:8080/"
        },
        "id": "dTTV1gs5Npoo",
        "outputId": "8c185bd9-4a41-4a4e-ad1b-b620cc984a92"
      },
      "execution_count": 17,
      "outputs": [
        {
          "output_type": "stream",
          "name": "stdout",
          "text": [
            "Pyt\n"
          ]
        }
      ]
    },
    {
      "cell_type": "code",
      "source": [
        "# Q4. Write a code to convert the string \"hello\" to uppercaseP\n",
        "string = \"hello\"\n",
        "uppercase_string = string.upper()\n",
        "print(uppercase_string)"
      ],
      "metadata": {
        "colab": {
          "base_uri": "https://localhost:8080/"
        },
        "id": "0S3dsQn1OXMY",
        "outputId": "46eac4bb-55e1-4e9a-b1dc-36969bf1f276"
      },
      "execution_count": 18,
      "outputs": [
        {
          "output_type": "stream",
          "name": "stdout",
          "text": [
            "HELLO\n"
          ]
        }
      ]
    },
    {
      "cell_type": "code",
      "source": [
        "# Q5. Write a code to replace the word \"apple\" with \"orange\" in the string \"I like apple\".\n",
        "string = \"I like apple\"\n",
        "new_string = string.replace(\"apple\", \"orange\")\n",
        "print(new_string)"
      ],
      "metadata": {
        "colab": {
          "base_uri": "https://localhost:8080/"
        },
        "id": "hA6OfMtBOzti",
        "outputId": "9f5f1206-77c1-4d85-9848-2aebe2b722bd"
      },
      "execution_count": 19,
      "outputs": [
        {
          "output_type": "stream",
          "name": "stdout",
          "text": [
            "I like orange\n"
          ]
        }
      ]
    },
    {
      "cell_type": "code",
      "source": [
        " # Q6.Write a code to create a list with numbers 1 to 5 and print it.\n",
        " my_list = [1, 2, 3, 4, 5]\n",
        " print(my_list)"
      ],
      "metadata": {
        "colab": {
          "base_uri": "https://localhost:8080/"
        },
        "id": "DsqZrDjYPBcT",
        "outputId": "0e267f4f-ad91-4024-a423-5d7d43acea6c"
      },
      "execution_count": 20,
      "outputs": [
        {
          "output_type": "stream",
          "name": "stdout",
          "text": [
            "[1, 2, 3, 4, 5]\n"
          ]
        }
      ]
    },
    {
      "cell_type": "code",
      "source": [
        "# Q7.Write a code to append the number 10 to the list [1, 2, 3, 4].\n",
        "my_list = [1, 2, 3, 4]\n",
        "my_list.append(10)\n",
        "print(my_list)"
      ],
      "metadata": {
        "colab": {
          "base_uri": "https://localhost:8080/"
        },
        "id": "yIjNShtRPQqk",
        "outputId": "50c21b8e-dff7-40d5-950d-babbb8e86205"
      },
      "execution_count": 21,
      "outputs": [
        {
          "output_type": "stream",
          "name": "stdout",
          "text": [
            "[1, 2, 3, 4, 10]\n"
          ]
        }
      ]
    },
    {
      "cell_type": "code",
      "source": [
        " # Q8. Write a code to remove the number 3 from the list [1, 2, 3, 4, 5].\n",
        " my_list = [1, 2, 3, 4, 5]\n",
        " my_list.remove(3)\n",
        " print(my_list)"
      ],
      "metadata": {
        "colab": {
          "base_uri": "https://localhost:8080/"
        },
        "id": "nivxs4PWPh0t",
        "outputId": "cf8be04b-45e6-461c-aea7-b59f453cb2c4"
      },
      "execution_count": 22,
      "outputs": [
        {
          "output_type": "stream",
          "name": "stdout",
          "text": [
            "[1, 2, 4, 5]\n"
          ]
        }
      ]
    },
    {
      "cell_type": "code",
      "source": [
        "# Q9. Write a code to access the second element in the list ['a', 'b', 'c', 'd'].\n",
        "my_list = ['a', 'b', 'c', 'd']\n",
        "second_element = my_list[1]\n",
        "print(second_element)\n"
      ],
      "metadata": {
        "colab": {
          "base_uri": "https://localhost:8080/"
        },
        "id": "LyUUtlVvPvy_",
        "outputId": "c1482c0b-312f-408e-839e-c024d1ee9f04"
      },
      "execution_count": 23,
      "outputs": [
        {
          "output_type": "stream",
          "name": "stdout",
          "text": [
            "b\n"
          ]
        }
      ]
    },
    {
      "cell_type": "code",
      "source": [
        "# Q10. Write a code to reverse the list [10, 20, 30, 40, 50].\n",
        "my_list = [10, 20, 30, 40, 50]\n",
        "my_list.reverse()\n",
        "print(my_list)"
      ],
      "metadata": {
        "colab": {
          "base_uri": "https://localhost:8080/"
        },
        "id": "lw3pf_KcQCLS",
        "outputId": "5ffe51d5-bb4d-496c-95d8-fec559268c23"
      },
      "execution_count": 24,
      "outputs": [
        {
          "output_type": "stream",
          "name": "stdout",
          "text": [
            "[50, 40, 30, 20, 10]\n"
          ]
        }
      ]
    },
    {
      "cell_type": "code",
      "source": [
        "# Q11. Write a code to create a tuple with the elements 100, 200, 300 and print it.\n",
        "my_tuple = (100, 200, 300)\n",
        "print(my_tuple)"
      ],
      "metadata": {
        "colab": {
          "base_uri": "https://localhost:8080/"
        },
        "id": "XYIP5tL7QNcM",
        "outputId": "f5bae9a9-9c91-4d22-f58c-51fe65d8c540"
      },
      "execution_count": 25,
      "outputs": [
        {
          "output_type": "stream",
          "name": "stdout",
          "text": [
            "(100, 200, 300)\n"
          ]
        }
      ]
    },
    {
      "cell_type": "code",
      "source": [
        " # Q12. Write a code to access the second-to-last element of the tuple ('red', 'green', 'blue', 'yellow').\n",
        " colors = ('red', 'green', 'blue', 'yellow')\n",
        " print(colors[1:])"
      ],
      "metadata": {
        "colab": {
          "base_uri": "https://localhost:8080/"
        },
        "id": "phoLQdmoQaGU",
        "outputId": "1b1891ad-68b0-4b5a-82b3-a4b91f21e1ee"
      },
      "execution_count": 34,
      "outputs": [
        {
          "output_type": "stream",
          "name": "stdout",
          "text": [
            "('green', 'blue', 'yellow')\n"
          ]
        }
      ]
    },
    {
      "cell_type": "code",
      "source": [
        " # Q13. Write a code to find the minimum number in the tuple (10, 20, 5, 15).\n",
        " my_tuple = (10, 20, 5, 15)\n",
        " print(min(my_tuple))"
      ],
      "metadata": {
        "colab": {
          "base_uri": "https://localhost:8080/"
        },
        "id": "ISIC6aiTQ_tA",
        "outputId": "7e9bdf0a-1a87-4741-fff2-b7f1c543d812"
      },
      "execution_count": 35,
      "outputs": [
        {
          "output_type": "stream",
          "name": "stdout",
          "text": [
            "5\n"
          ]
        }
      ]
    },
    {
      "cell_type": "code",
      "source": [
        " # Q14. Write a code to find the index of the element \"cat\" in the tuple ('dog', 'cat', 'rabbit').\n",
        " my_tuple = ('dog', 'cat', 'rabbit')\n",
        " print(my_tuple.index('cat'))"
      ],
      "metadata": {
        "colab": {
          "base_uri": "https://localhost:8080/"
        },
        "id": "VHYmWQf1Sd7z",
        "outputId": "9146764c-9192-40ef-eb35-71103659b378"
      },
      "execution_count": 36,
      "outputs": [
        {
          "output_type": "stream",
          "name": "stdout",
          "text": [
            "1\n"
          ]
        }
      ]
    },
    {
      "cell_type": "code",
      "source": [
        " # Q15. Write a code to create a tuple containing three different fruits and check if \"kiwi' is in it.\n",
        " fruits = (\"apple\", \"banana\", \"cherry\")\n",
        " if \"kiwi\" in fruits:\n",
        "    print(\"kiwi is in the tuple\")\n",
        " else:\n",
        "    print(\"kiwi is not in the tuple\")"
      ],
      "metadata": {
        "colab": {
          "base_uri": "https://localhost:8080/"
        },
        "id": "saq1WdsWSsNF",
        "outputId": "fe0ca90e-3025-4f16-9477-5784450120a2"
      },
      "execution_count": 37,
      "outputs": [
        {
          "output_type": "stream",
          "name": "stdout",
          "text": [
            "kiwi is not in the tuple\n"
          ]
        }
      ]
    },
    {
      "cell_type": "code",
      "source": [
        "# Q16. Write a code to create a set with the elements 'a', 'b', 'c' and print it.\n",
        "my_set = {'a', 'b', 'c'}\n",
        "print(my_set)"
      ],
      "metadata": {
        "colab": {
          "base_uri": "https://localhost:8080/"
        },
        "id": "ppjvtmIWTFvw",
        "outputId": "3a4bb58b-6934-4a36-8cc3-bd73c434cc95"
      },
      "execution_count": 38,
      "outputs": [
        {
          "output_type": "stream",
          "name": "stdout",
          "text": [
            "{'a', 'b', 'c'}\n"
          ]
        }
      ]
    },
    {
      "cell_type": "code",
      "source": [
        " # Q17. Write a code to clear all elements from the set {1, 2, 3, 4, 5}.\n",
        " my_set = {1, 2, 3, 4, 5}\n",
        " my_set.clear()\n",
        " print(my_set)"
      ],
      "metadata": {
        "colab": {
          "base_uri": "https://localhost:8080/"
        },
        "id": "unXYkdY-TdzL",
        "outputId": "8c1f5693-55e8-45a1-b3dd-9765fb952c40"
      },
      "execution_count": 39,
      "outputs": [
        {
          "output_type": "stream",
          "name": "stdout",
          "text": [
            "set()\n"
          ]
        }
      ]
    },
    {
      "cell_type": "code",
      "source": [
        " # Q18. Write a code to remove the element 4 from the set {1, 2, 3, 4}.\n",
        " my_set = {1, 2, 3, 4}\n",
        " my_set.remove(4)\n",
        " print(my_set)"
      ],
      "metadata": {
        "colab": {
          "base_uri": "https://localhost:8080/"
        },
        "id": "jStD3s1fTld7",
        "outputId": "594613d8-9c77-4f6e-dd2a-06000fdfe991"
      },
      "execution_count": 40,
      "outputs": [
        {
          "output_type": "stream",
          "name": "stdout",
          "text": [
            "{1, 2, 3}\n"
          ]
        }
      ]
    },
    {
      "cell_type": "code",
      "source": [
        " # Q19. Write a code to find the union of two sets {1, 2, 3} and {3, 4, 5}.\n",
        " set1 = {1, 2, 3}\n",
        " set2 = {3, 4, 5}\n",
        "result = set1.union(set2)\n",
        " print(result)"
      ],
      "metadata": {
        "colab": {
          "base_uri": "https://localhost:8080/"
        },
        "id": "c53Jb9KkTxSE",
        "outputId": "258ef752-c51a-4625-a8b2-636dae7532ed"
      },
      "execution_count": 41,
      "outputs": [
        {
          "output_type": "stream",
          "name": "stdout",
          "text": [
            "{1, 2, 3, 4, 5}\n"
          ]
        }
      ]
    },
    {
      "cell_type": "code",
      "source": [
        " # Q20. Write a code to find the intersection of two sets {1, 2, 3} and {2, 3, 4}.\n",
        " set1 = {1, 2, 3}\n",
        " set2 = {2, 3, 4}\n",
        " result = set1.intersection(set2)\n",
        " print(result)"
      ],
      "metadata": {
        "colab": {
          "base_uri": "https://localhost:8080/"
        },
        "id": "d35ZipJ8UBZ-",
        "outputId": "a467e145-7cb1-4ac3-cbe2-364b82962ca3"
      },
      "execution_count": 42,
      "outputs": [
        {
          "output_type": "stream",
          "name": "stdout",
          "text": [
            "{2, 3}\n"
          ]
        }
      ]
    },
    {
      "cell_type": "code",
      "source": [
        "# Q21. Write a code to create a dictionary with the keys \"name\", \"age\", and \"city\", and print it.\n",
        "my_dict = {\n",
        "    \"name\": \"aryan\",\n",
        "    \"age\": 22,\n",
        "    \"city\": \"chhatisgarh\"}\n",
        "print(my_dict)"
      ],
      "metadata": {
        "colab": {
          "base_uri": "https://localhost:8080/"
        },
        "id": "h8b8bp4TUKZv",
        "outputId": "19cb0446-b576-44c0-9b13-c8abe87b8c49"
      },
      "execution_count": 44,
      "outputs": [
        {
          "output_type": "stream",
          "name": "stdout",
          "text": [
            "{'name': 'aryan', 'age': 22, 'city': 'chhatisgarh'}\n"
          ]
        }
      ]
    },
    {
      "cell_type": "code",
      "source": [
        " # Q22. Write a code to add a new key-value pair \"country\": \"USA\" to the dictionary {'name': 'John', 'age': 25}.\n",
        " # Qrignal dictionary\n",
        " my_dict = {'name': 'John', 'age': 25}\n",
        " #adding new key-value pair\n",
        " my_dict[\"country\"] = \"USA\"\n",
        " print(my_dict)"
      ],
      "metadata": {
        "colab": {
          "base_uri": "https://localhost:8080/"
        },
        "id": "j_Hxc1u5UjA6",
        "outputId": "a08dba42-8e63-4bd5-c598-ae6910fb04fd"
      },
      "execution_count": 45,
      "outputs": [
        {
          "output_type": "stream",
          "name": "stdout",
          "text": [
            "{'name': 'John', 'age': 25, 'country': 'USA'}\n"
          ]
        }
      ]
    },
    {
      "cell_type": "code",
      "source": [
        " # Q23. Write a code to access the value associated with the key \"name\" in the dictionary  {'name': 'Alice', 'age': 30}.\n",
        " my_dict = {'name': 'Alice', 'age': 30}\n",
        " print(my_dict[\"name\"])"
      ],
      "metadata": {
        "colab": {
          "base_uri": "https://localhost:8080/"
        },
        "id": "9kLmeCN2VKXv",
        "outputId": "a0ee0ffa-87d8-40a0-9100-2565059fd8d5"
      },
      "execution_count": 46,
      "outputs": [
        {
          "output_type": "stream",
          "name": "stdout",
          "text": [
            "Alice\n"
          ]
        }
      ]
    },
    {
      "cell_type": "code",
      "source": [
        " # Q24. Write a code to remove the key \"age\" from the dictionary {'name': 'Bob', 'age': 22 # Q24. Write a code to remove the key \"age\" from the dictionary {'name': 'Bob', 'age': 22, 'city': 'New York'}.\n",
        " Person = {'name': 'Bob', 'age': 22, 'city': 'New York'}\n",
        " del Person[\"age\"]\n",
        " print(Person)"
      ],
      "metadata": {
        "colab": {
          "base_uri": "https://localhost:8080/"
        },
        "id": "BUb7quilVfXY",
        "outputId": "9ea3c3fe-d3da-440e-8d95-ba0dd39353d3"
      },
      "execution_count": 48,
      "outputs": [
        {
          "output_type": "stream",
          "name": "stdout",
          "text": [
            "{'name': 'Bob', 'city': 'New York'}\n"
          ]
        }
      ]
    },
    {
      "cell_type": "code",
      "source": [
        " # Q25. Write a code to check if the key \"city\" exists in the dictionary {'name': 'Alice', 'city': 'Paris'}.\n",
        " Person = {'name': 'Alice', 'city': 'Paris'}\n",
        " if \"city\" in Person:\n",
        "    print(\"city is in the dictionary\")\n",
        " else:\n",
        "    print(\"city is not in the dictionary\")"
      ],
      "metadata": {
        "colab": {
          "base_uri": "https://localhost:8080/"
        },
        "id": "jyGH0Sd3V5Ji",
        "outputId": "d7bac202-3272-40c5-ce68-0c0443993041"
      },
      "execution_count": 49,
      "outputs": [
        {
          "output_type": "stream",
          "name": "stdout",
          "text": [
            "city is in the dictionary\n"
          ]
        }
      ]
    },
    {
      "cell_type": "code",
      "source": [
        " # Q26 Write a code to create a list, a tuple, and a dictionary, and print them all.\n",
        "#creating a list,tuple,dictionary\n",
        " my_list = [1, 2, 3, 4, 5]\n",
        " my_tuple = (6, 7, 8, 9, 10)\n",
        " my_dict = {'a': 1, 'b': 2, 'c': 3}\n",
        "#printing all\n",
        " print(\"List:\", my_list)\n",
        " print(\"Tuple:\", my_tuple)\n",
        " print(\"Dictionary:\", my_dict)"
      ],
      "metadata": {
        "colab": {
          "base_uri": "https://localhost:8080/"
        },
        "id": "4yub1ekKWR_e",
        "outputId": "1e0fb57f-1b37-43b6-a114-48a82eab8750"
      },
      "execution_count": 51,
      "outputs": [
        {
          "output_type": "stream",
          "name": "stdout",
          "text": [
            "List: [1, 2, 3, 4, 5]\n",
            "Tuple: (6, 7, 8, 9, 10)\n",
            "Dictionary: {'a': 1, 'b': 2, 'c': 3}\n"
          ]
        }
      ]
    },
    {
      "cell_type": "code",
      "source": [
        " # Q27. Write a code to create a list of 5 random numbers between 1 and 100, sort it in ascending order, and print the result.(replaced).\n",
        "my_list = [18, 29, 3, 47,38]\n",
        "my_list.sort()\n",
        "print(my_list)\n"
      ],
      "metadata": {
        "colab": {
          "base_uri": "https://localhost:8080/"
        },
        "id": "BN3SEViUWmQR",
        "outputId": "2d2f4d25-3fc2-4ab9-e912-21d673fc265b"
      },
      "execution_count": 53,
      "outputs": [
        {
          "output_type": "stream",
          "name": "stdout",
          "text": [
            "[3, 18, 29, 38, 47]\n"
          ]
        }
      ]
    },
    {
      "cell_type": "code",
      "source": [
        " # Q28. Write a code to create a list with strings and print the element at the third index.\n",
        " # creating a list\n",
        " my_list = [\"apple\", \"banana\", \"cherry\", \"date\", \"elderberry\"]\n",
        " # accessing the element at the 3rd place\n",
        " print(my_list[2])"
      ],
      "metadata": {
        "colab": {
          "base_uri": "https://localhost:8080/"
        },
        "id": "tFP4_xwaXMw9",
        "outputId": "1fb464dc-a7f4-4528-c8e0-f9d09b5271d3"
      },
      "execution_count": 54,
      "outputs": [
        {
          "output_type": "stream",
          "name": "stdout",
          "text": [
            "cherry\n"
          ]
        }
      ]
    },
    {
      "cell_type": "code",
      "source": [
        " # Q29.Write a code to combine two dictionaries into one and print the result.\n",
        "dict1 = {'a': 1, 'b': 2}\n",
        "dict2 = {'c': 3, 'd': 4}\n",
        "dict1.update(dict2)\n",
        "print(dict1)"
      ],
      "metadata": {
        "colab": {
          "base_uri": "https://localhost:8080/"
        },
        "id": "pCeeAkvJX6oZ",
        "outputId": "b2866c07-af09-4f99-f007-b4529bc11841"
      },
      "execution_count": 55,
      "outputs": [
        {
          "output_type": "stream",
          "name": "stdout",
          "text": [
            "{'a': 1, 'b': 2, 'c': 3, 'd': 4}\n"
          ]
        }
      ]
    },
    {
      "cell_type": "code",
      "source": [
        " # Q30. Write a code to convert a list of strings into a set.\n",
        " my_list = [\"a\", \"b\", \"c\", \"a\", \"b\"]\n",
        " my_set = set(my_list)\n",
        " print(my_set)"
      ],
      "metadata": {
        "colab": {
          "base_uri": "https://localhost:8080/"
        },
        "id": "02y37W3OYYX1",
        "outputId": "7fb61594-374a-4a58-8355-39fcddff0cc7"
      },
      "execution_count": 56,
      "outputs": [
        {
          "output_type": "stream",
          "name": "stdout",
          "text": [
            "{'a', 'b', 'c'}\n"
          ]
        }
      ]
    },
    {
      "cell_type": "code",
      "source": [],
      "metadata": {
        "id": "15JMWDGEYmPG"
      },
      "execution_count": null,
      "outputs": []
    }
  ]
}