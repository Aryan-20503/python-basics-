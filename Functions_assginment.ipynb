{
  "nbformat": 4,
  "nbformat_minor": 0,
  "metadata": {
    "colab": {
      "provenance": []
    },
    "kernelspec": {
      "name": "python3",
      "display_name": "Python 3"
    },
    "language_info": {
      "name": "python"
    }
  },
  "cells": [
    {
      "cell_type": "markdown",
      "source": [
        "**Theory Questions**\n"
      ],
      "metadata": {
        "id": "ngvXiDDv2QnE"
      }
    },
    {
      "cell_type": "markdown",
      "source": [
        "1.What is the difference between a function and a method in Python?\n",
        "- Function: A function in Python is a standalone block of code that performs a task. It is not tied to any object and is called directly by its name.\n",
        "- Method: A method is a function defined inside a class and is associated with an object. It usually takes self as the first parameter to access the object’s data.\n",
        "\n"
      ],
      "metadata": {
        "id": "BxipBjeo2oNS"
      }
    },
    {
      "cell_type": "code",
      "source": [
        "#example of a function\n",
        "def add(a,b):\n",
        "  return a+b\n",
        "\n",
        "#example of a method\n",
        "class Calculator:\n",
        "  def add(self,a,b):\n",
        "    return a+b"
      ],
      "metadata": {
        "id": "FkmN3qvU4Fmz"
      },
      "execution_count": 4,
      "outputs": []
    },
    {
      "cell_type": "markdown",
      "source": [
        "2. Explain the concept of function arguments and parameters in Python?\n",
        "- Parameters\n",
        " - Parameters are the variables listed in the function definition.\n",
        " - They act as placeholders for the values you will pass to the function.\n",
        "-  Arguments\n",
        " - Arguments are the actual values you pass to the function when calling it.\n",
        " - They get assigned to the function’s parameters.\n"
      ],
      "metadata": {
        "id": "oo_Pf2gl2oKC"
      }
    },
    {
      "cell_type": "code",
      "source": [
        "#For Example:\n",
        "def greet(name): #parameter\n",
        "  print(\"hello\",name)\n",
        "greet(\"ojosama\")#argument"
      ],
      "metadata": {
        "colab": {
          "base_uri": "https://localhost:8080/"
        },
        "id": "pAR1tEzf54Gp",
        "outputId": "f324a00c-5f80-44ff-c20e-d815bf9b459d"
      },
      "execution_count": 6,
      "outputs": [
        {
          "output_type": "stream",
          "name": "stdout",
          "text": [
            "hello ojosama\n"
          ]
        }
      ]
    },
    {
      "cell_type": "markdown",
      "source": [
        "3.What are the different ways to define and call a function in Python?\n",
        "- Functions are reusable blocks of code that perform a specific task. In Python, you can define and call functions in multiple ways:\n",
        " 1. Standard function (def)\n",
        "  - Defined using the defkeyword.\n",
        "  - Can accept parameters and return values.\n",
        " 2. Lambda function\n",
        " - Also called an anonymous function.\n",
        " - Defined using lambda keyword, usually for simple, single-line tasks.\n",
        " 3. Nested function\n",
        " - A function defined inside another function.\n",
        " - Useful for encapsulation and keeping helper functions local to the outer function\n",
        "- Calling a function involves using its name followed by parenthes().\n",
        "- Arguments can be passed when calling functions to provide input values."
      ],
      "metadata": {
        "id": "iQRmLT9t2oGw"
      }
    },
    {
      "cell_type": "code",
      "source": [
        "# 1. Standard function\n",
        "def greet(name):\n",
        "    return f\"Hello {name}!\"\n",
        "print(greet(\"alok\"))  # Calling standard function\n",
        "                        # Output: Hello alok!\n",
        " # 2. Lambda function\n",
        "square = lambda x: x**2\n",
        "print(square(6))        # Calling lambda function\n",
        "                        # Output: 36\n",
        " # 3. Nested function\n",
        "def outer():\n",
        "  def inner():\n",
        "      return \"This is a nested.\"\n",
        "  return inner()      # Calling inner function inside outer\n",
        "print(outer())          # Output: This is a nested."
      ],
      "metadata": {
        "colab": {
          "base_uri": "https://localhost:8080/"
        },
        "id": "7EUIkinw-PCu",
        "outputId": "5de25df7-00e4-4a0d-db74-d4b7bf4303e5"
      },
      "execution_count": 13,
      "outputs": [
        {
          "output_type": "stream",
          "name": "stdout",
          "text": [
            "Hello alok!\n",
            "36\n",
            "This is a nested.\n"
          ]
        }
      ]
    },
    {
      "cell_type": "markdown",
      "source": [
        " Q4. What is the purpose of the return statement in a Python function?\n",
        " - Return Statement: Determines the value that the function will return. If not included, the function defaults to returning None.\n",
        " - return allows functions to produce a value that can be stored, printed, or used in other operations.\n",
        " - It also helps in breaking out of a function immediately."
      ],
      "metadata": {
        "id": "DLfzgGdB2oDe"
      }
    },
    {
      "cell_type": "markdown",
      "source": [
        "Q5. What are iterators in Python and how do they differ from iterables?\n",
        "- Iterable: Any Python object capable of returning its elements one by one, eg., list , tuple , strin , set , or dictionary .\n",
        " - You can loop over it using a for loop.\n",
        "- Iterator: An object that produces elements one at a time and keeps track of its current position.\n",
        " - Created from an iterable using theiter() function.\n",
        " - Use next() to access elements individually"
      ],
      "metadata": {
        "id": "DATBurlx2oAA"
      }
    },
    {
      "cell_type": "code",
      "source": [
        " # Iterable example\n",
        " fruits = [\"apple\", \"banana\", \"cherry\"]  # This is an iterable\n",
        " print(\"Iterable output:\")\n",
        "for fruit in fruits:\n",
        "    print(fruit)                         # Output: apple\n",
        "                                         # Output: banana\n",
        "                                         # Output: cherry\n",
        " # Iterator example\n",
        "fruits_iter = iter(fruits)               # Convert iterable to iterator\n",
        "print(\"\\nIterator output using next():\")\n",
        "print(next(fruits_iter))\n",
        "print(next(fruits_iter))\n",
        "print(next(fruits_iter))                 # Output: apple\n",
        "                                         # Output: banana\n",
        "                                         # Output: cherry"
      ],
      "metadata": {
        "colab": {
          "base_uri": "https://localhost:8080/"
        },
        "id": "OYt2Va4nBQ0K",
        "outputId": "af568c4f-8001-4e5a-f1fa-f49ca0c346f5"
      },
      "execution_count": 16,
      "outputs": [
        {
          "output_type": "stream",
          "name": "stdout",
          "text": [
            "Iterable output:\n",
            "apple\n",
            "banana\n",
            "cherry\n",
            "\n",
            "Iterator output using next():\n",
            "apple\n",
            "banana\n",
            "cherry\n"
          ]
        }
      ]
    },
    {
      "cell_type": "markdown",
      "source": [
        "Q6. Explain the concept of generators in Python and how they are defined.\n",
        "- Generator\n",
        " - A generator is a special type of iterator in Python.\n",
        "\n",
        " - Instead of storing all values in memory (like lists), it generates values one at a time using the yield keyword.\n",
        "\n",
        " - This makes generators memory-efficient and useful for working with large datasets or infinite sequences.\n",
        "\n",
        "- How generator works:\n",
        " - When a generator function is called, it does not run immediately like a normal function.\n",
        "\n",
        " - Instead, it returns a generator object (an iterator).\n",
        "\n",
        " - Each time you call next() on the generator, the function resumes execution from where it left off, until it hits another yield."
      ],
      "metadata": {
        "id": "6Y_iDcME2n8n"
      }
    },
    {
      "cell_type": "code",
      "source": [
        " # Generator function\n",
        " def greet_generator(names):\n",
        "  for name in names:\n",
        "    yield f\"Hello {name}!\"\n",
        " names_list = [\"Ritesh\", \"Alex\", \"Maya\"]\n",
        " # Create generator\n",
        " gen = greet_generator(names_list)\n",
        " # Access values one by one\n",
        " print(next(gen))   # Output: Hello Ritesh!\n",
        " print(next(gen))   # Output: Hello Alex!\n",
        " print(next(gen))    # Output: Hello Maya"
      ],
      "metadata": {
        "colab": {
          "base_uri": "https://localhost:8080/"
        },
        "id": "gi_rDKNfFg_W",
        "outputId": "b91dea30-5bf1-42a3-e8bb-bebb2f7392db"
      },
      "execution_count": 20,
      "outputs": [
        {
          "output_type": "stream",
          "name": "stdout",
          "text": [
            "Hello Ritesh!\n",
            "Hello Alex!\n",
            "Hello Maya!\n"
          ]
        }
      ]
    },
    {
      "cell_type": "markdown",
      "source": [
        "Q7. What are the advantages of using generators over regular functions?\n",
        "- Generators provide several advantages over regular functions that return lists:\n",
        " 1. Memory Efficiency\n",
        " Generators produce values one at a time and do not store the entire sequence in\n",
        " memory. Useful for large datasets.\n",
        " 2. Lazy Evaluation\n",
        " Values are computed only when needed using next().\n",
        " Reduces unnecessary computations.\n",
        " 3. Represent Infinite Sequences\n",
        " Generators can model infinite series (like Fibonacci numbers) which is impossible with lists.\n",
        " 4. Pipeline Processing\n",
        " Generators can be chained together to create pipelines, processing data efficiently."
      ],
      "metadata": {
        "id": "wBmnskZY2n5W"
      }
    },
    {
      "cell_type": "markdown",
      "source": [
        " Q8. What is a lambda function in Python and when is it typically used?\n",
        "- Lambda Functions:\n",
        " - Definition: Lambda functions are small, anonymous functions defined using the lambda keyword. They are used for creating small, throwaway functions without the need to formally define a function using def.\n",
        "-Key Points:\n",
        " - Anonymous: Lambda functions are not bound to a name.\n",
        " - Single Expression: They can contain only one expression, which is evaluated and returned.\n",
        "- Syntax: lambda arguments: expression\n",
        "- Characteristics & Usage:\n",
        " - Concise — Perfect for small, one-off operations.\n",
        " - Inline — Can be defined and used in a single line.\n",
        " - Functional programming — Ideal for passing as arguments to functions like\n",
        "map(), filter() , or reduce() .\n",
        " - Single expression only — Cannot contain multiple statements or complex logic.\n",
        " - Temporary & lightweight — Great for quick tasks without cluttering your code with full function definitions."
      ],
      "metadata": {
        "id": "Q7iGqYboGwxW"
      }
    },
    {
      "cell_type": "code",
      "source": [
        "square=lambda x: x**2\n",
        "print(square(6))"
      ],
      "metadata": {
        "colab": {
          "base_uri": "https://localhost:8080/"
        },
        "id": "E-zxSwd0JN1o",
        "outputId": "ddb2930b-96ae-4a8d-e6a5-b7602f6fa8c7"
      },
      "execution_count": 21,
      "outputs": [
        {
          "output_type": "stream",
          "name": "stdout",
          "text": [
            "36\n"
          ]
        }
      ]
    },
    {
      "cell_type": "markdown",
      "source": [
        " Q9. Explain the purpose and usage of the map() function in Python.\n",
        "- The map() function applies a given function to each item of an iterable (like a list, tuple, etc.) and returns a map object, which is an iterator.\n",
        "- Useful when you want to perform the same operation on multiple items without using a loop.\n",
        "- Lazy evaluation: the values are computed only when iterated, saving memory for large datasets.\n",
        "\n",
        "-  Common Uses of map() :\n",
        " - Transforming all elements in a list/tuple without using a loop.\n",
        " -  Applying mathematical operations to all elements. Preprocessing or cleaning data in bulk, e.g., converting strings to uppercase.\n",
        " - Chaining with filter() or reduce() for functional programming pipelines.\n",
        " - Syntax: map(function, iterable)"
      ],
      "metadata": {
        "id": "MAYCUqNBGwpM"
      }
    },
    {
      "cell_type": "code",
      "source": [
        "# Function to greet a person\n",
        "def greet(name):\n",
        " return f\"Hello {name}!\"\n",
        "names = [\"Ritesh\", \"Alex\", \"Maya\"]\n",
        " # Apply greet function to each name\n",
        "greetings = map(greet, names)\n",
        " # Convert to list and print\n",
        "print(list(greetings))\n",
        "# Output: ['Hello Ritesh!', 'Hello Alex!', 'Hello Maya!']"
      ],
      "metadata": {
        "colab": {
          "base_uri": "https://localhost:8080/"
        },
        "id": "VzHBr81bPGy2",
        "outputId": "edd904e0-5f5d-49e4-817a-38fe5cc29c9a"
      },
      "execution_count": 26,
      "outputs": [
        {
          "output_type": "stream",
          "name": "stdout",
          "text": [
            "['Hello Ritesh!', 'Hello Alex!', 'Hello Maya!']\n"
          ]
        }
      ]
    },
    {
      "cell_type": "markdown",
      "source": [
        " Q10. What is the difference between map() , reduce() , and filter() functions in Python?\n",
        " -  Key Differences:\n",
        " 1. Purpose:\n",
        " - map()\n",
        "  - changes/transforms every element in an iterable.\n",
        " - filter()\n",
        "  - chooses only certain elements that satisfy a condition.\n",
        " - reduce()\n",
        "  - combines all elements to produce a single result.\n",
        " 2. Return Type:\n",
        " - map() and filter() return iterators, which can be converted to a list.\n",
        " - reduce() returns a single value.\n",
        " 3. Number of Iterables:\n",
        " - map() can work with one or more iterables.\n",
        " - filter() works with one iterable.\n",
        " b- reduce() works with one iterable.\n",
        " 4. Use Case Example:\n",
        " - map()\n",
        "- Transforming [1,2,3] into [1,4,9] (squares).\n",
        " - filter()\n",
        "- Picking [3,4,5] from [1,2,3,4,5] (numbers >2).\n",
        " - reduce()\n",
        "- Summing [1,2,3,4,5] into 15 ."
      ],
      "metadata": {
        "id": "DDv5Zf5fGwjW"
      }
    },
    {
      "cell_type": "code",
      "source": [
        " #Example 1: map()\n",
        "\n",
        " numbers = [1, 2, 3, 4, 5]\n",
        " # Square each number\n",
        " squared = map(lambda x: x**2, numbers)\n",
        " print(list(squared))      # Output: [1, 4, 9, 16, 25]\n",
        "\n",
        " #Example 2: filter()\n",
        "\n",
        " numbers = [1, 2, 3, 4, 5]\n",
        " # Filter even numbers\n",
        " evens = filter(lambda x: x % 2 == 0, numbers)\n",
        " print(list(evens))\n",
        "\n",
        " #Example 3: reduce()\n",
        "\n",
        " from functools import reduce\n",
        " numbers = [1, 2, 3, 4, 5]\n",
        " # Sum all numbers cumulatively\n",
        " total = reduce(lambda x, y: x + y, numbers)\n",
        " print(total)             # Output: 15"
      ],
      "metadata": {
        "colab": {
          "base_uri": "https://localhost:8080/"
        },
        "id": "a15KJwIsGs3N",
        "outputId": "283226b7-ce32-4888-fe28-3661836003d2"
      },
      "execution_count": 27,
      "outputs": [
        {
          "output_type": "stream",
          "name": "stdout",
          "text": [
            "[1, 4, 9, 16, 25]\n",
            "[2, 4]\n",
            "15\n"
          ]
        }
      ]
    },
    {
      "cell_type": "markdown",
      "source": [
        "Q11. Using pen & Paper write the internal mechanism for sum operation using reduce function on this given list: [47,11,42,13]; (Attach paper image for this answer) in doc.\n",
        "![WhatsApp Image 2025-08-24 at 20.42.25_534a0428.jpg](data:image/jpeg;base64,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)"
      ],
      "metadata": {
        "id": "Thiwppivjh-z"
      }
    },
    {
      "cell_type": "markdown",
      "source": [
        "Practiacal Question\n",
        "\n",
        "\n",
        "\\"
      ],
      "metadata": {
        "id": "9lvvNaMIptAC"
      }
    },
    {
      "cell_type": "code",
      "source": [
        "#1Write a Python function that takes a list of numbers as input and returns the sum of all even numbers in the list.\n",
        "\n",
        "numbers_list = [1,2,3,4]\n",
        "\n",
        "def sum_even_numbers(numbers):\n",
        "    sum = 0\n",
        "    for num in numbers:\n",
        "        if num % 2 == 0:\n",
        "            sum += num\n",
        "    return sum\n",
        "sum_even_numbers(numbers_list)"
      ],
      "metadata": {
        "colab": {
          "base_uri": "https://localhost:8080/"
        },
        "id": "9r93YclCpbDl",
        "outputId": "a4ba1f08-2920-449f-9205-5bd9b890bfb0"
      },
      "execution_count": 32,
      "outputs": [
        {
          "output_type": "execute_result",
          "data": {
            "text/plain": [
              "6"
            ]
          },
          "metadata": {},
          "execution_count": 32
        }
      ]
    },
    {
      "cell_type": "code",
      "source": [
        "#2 Create a Python function that accepts a string and returns the reverse of that string.\n",
        "def reverse_string(string):\n",
        "    return string [::-1]\n",
        "reverse_string(\"hello\")\n"
      ],
      "metadata": {
        "colab": {
          "base_uri": "https://localhost:8080/",
          "height": 36
        },
        "id": "ivgWbZ7bGsxs",
        "outputId": "0c6dc951-01c4-45e2-a90a-3876bda13a8b"
      },
      "execution_count": 33,
      "outputs": [
        {
          "output_type": "execute_result",
          "data": {
            "text/plain": [
              "'olleh'"
            ],
            "application/vnd.google.colaboratory.intrinsic+json": {
              "type": "string"
            }
          },
          "metadata": {},
          "execution_count": 33
        }
      ]
    },
    {
      "cell_type": "code",
      "source": [
        "#3Implement a Python function that takes a list of integers and returns a new list containing the squares of each number.\n",
        "def square_numbers(numbers):\n",
        "    squares = []\n",
        "    for num in numbers:\n",
        "        squares.append(num**2)\n",
        "    return squares\n",
        "square_numbers([1,2,3,4])"
      ],
      "metadata": {
        "colab": {
          "base_uri": "https://localhost:8080/"
        },
        "id": "3MciONwzGsnN",
        "outputId": "a0ff564b-6204-4833-fd1e-9745e4a359db"
      },
      "execution_count": 34,
      "outputs": [
        {
          "output_type": "execute_result",
          "data": {
            "text/plain": [
              "[1, 4, 9, 16]"
            ]
          },
          "metadata": {},
          "execution_count": 34
        }
      ]
    },
    {
      "cell_type": "code",
      "source": [
        "#4 Write a Python function that checks if a given number is prime or not from 1 to 200.\n",
        "def is_prime(num):\n",
        "    \"\"\"Checks if a number is prime.\"\"\"\n",
        "    if num <= 1:\n",
        "        return False  # Numbers less than or equal to 1 are not prime\n",
        "    for i in range(2, int(num**0.5) + 1):\n",
        "        if num % i == 0:\n",
        "            return False  # Found a divisor, so not prime\n",
        "    return True  # No divisors found, it's prime\n",
        "\n",
        "# Check primality for numbers from 1 to 200\n",
        "for number in range(1, 201):\n",
        "    if is_prime(number):\n",
        "        print(f\"{number} is a prime number\")"
      ],
      "metadata": {
        "collapsed": true,
        "id": "y1ISikzP2P5e"
      },
      "execution_count": null,
      "outputs": []
    },
    {
      "cell_type": "code",
      "execution_count": 40,
      "metadata": {
        "colab": {
          "base_uri": "https://localhost:8080/"
        },
        "id": "ScjnEJc62GNT",
        "outputId": "0f1710d7-8901-4faf-bcaf-a36d58242402"
      },
      "outputs": [
        {
          "output_type": "execute_result",
          "data": {
            "text/plain": [
              "[0, 1, 1, 2, 3, 5, 8, 13, 21, 34]"
            ]
          },
          "metadata": {},
          "execution_count": 40
        }
      ],
      "source": [
        "#5. Create an iterator class in Python that generates the Fibonacci sequence up to a specified number of terms.\n",
        "fib = lambda n: n if n<=1 else fib(n-1) + fib(n-2)\n",
        "[fib(i) for i in range(10)]"
      ]
    },
    {
      "cell_type": "code",
      "metadata": {
        "colab": {
          "base_uri": "https://localhost:8080/"
        },
        "id": "f43b631a",
        "outputId": "fc8ec002-9943-4f41-a7c3-c5a2cdba904f"
      },
      "source": [
        "#6 Write a generator function in Python that yields the powers of 2 up to a given exponent.\n",
        "def powers_of_two(exponent):\n",
        "    \"\"\"Generator function that yields powers of 2 up to a given exponent.\"\"\"\n",
        "    for i in range(exponent + 1):\n",
        "        yield 2**i\n",
        "\n",
        "# Example usage:\n",
        "for power in powers_of_two(4):\n",
        "    print(power)"
      ],
      "execution_count": 43,
      "outputs": [
        {
          "output_type": "stream",
          "name": "stdout",
          "text": [
            "1\n",
            "2\n",
            "4\n",
            "8\n",
            "16\n"
          ]
        }
      ]
    },
    {
      "cell_type": "code",
      "metadata": {
        "colab": {
          "base_uri": "https://localhost:8080/"
        },
        "id": "ea92d918",
        "outputId": "1969dad6-c345-45b1-edfc-7d201cc39565"
      },
      "source": [
        "#7. Implement a generator function that reads a file line by line and yields each line as a string.\n",
        " # Step 1: Create a sample file\n",
        "with open(\"sample.txt\", \"w\") as f:\n",
        "    f.write(\"Hello\\n\")\n",
        "    f.write(\"This is Ritesh\\n\")\n",
        "    f.write(\"Learning Python\\n\")\n",
        " # Step 2: Generator function to read file line by line\n",
        "def read_file_line_by_line(filename):\n",
        "   with open(filename, \"r\") as file:\n",
        "        for line in file:\n",
        "            yield line.strip()   # strip() removes \\n at the end\n",
        " # Step 3: Use the generator\n",
        "for line in read_file_line_by_line(\"sample.txt\"):\n",
        "    print(line)"
      ],
      "execution_count": 47,
      "outputs": [
        {
          "output_type": "stream",
          "name": "stdout",
          "text": [
            "Hello\n",
            "This is Ritesh\n",
            "Learning Python\n"
          ]
        }
      ]
    },
    {
      "cell_type": "code",
      "source": [
        "#8. Use a lambda function in Python to sort a list of tuples based on the second element of each tuple.\n",
        "def sort_tuples_by_second(tuples_list):\n",
        "  return sorted(tuples_list, key=lambda x: x[1])\n",
        "data = [(1, 5), (3, 1), (4, 7), (2, 3)]\n",
        "result = sort_tuples_by_second(data)\n",
        "print(result)"
      ],
      "metadata": {
        "colab": {
          "base_uri": "https://localhost:8080/"
        },
        "id": "4vjtXkgy4Eoq",
        "outputId": "4d39964a-481b-4b01-b400-fd86d63c5fe8"
      },
      "execution_count": 52,
      "outputs": [
        {
          "output_type": "stream",
          "name": "stdout",
          "text": [
            "[(3, 1), (2, 3), (1, 5), (4, 7)]\n"
          ]
        }
      ]
    },
    {
      "cell_type": "code",
      "source": [
        "#9.Write a Python program that uses map() to convert alist of temperatures from Celsius to Fahrenheit.\n",
        "def celsius_to_fahrenheit(celsius):\n",
        "    return (celsius * 9/5) + 32\n",
        "\n",
        "celsius_list=[37,58,13,28]\n",
        "\n",
        " # Using map() to convert all temperatures\n",
        "\n",
        "fahrenheit_list = list(map(celsius_to_fahrenheit, celsius_list))\n",
        "\n",
        "print(\"Celsius:\", celsius_list)\n",
        "\n",
        "print(\"Fahrenheit:\", fahrenheit_list)"
      ],
      "metadata": {
        "colab": {
          "base_uri": "https://localhost:8080/"
        },
        "id": "3MOiHJMh4xNb",
        "outputId": "557619bd-d110-424a-e854-38013ddb22cc"
      },
      "execution_count": 55,
      "outputs": [
        {
          "output_type": "stream",
          "name": "stdout",
          "text": [
            "Celsius: [37, 58, 13, 28]\n",
            "Fahrenheit: [98.6, 136.4, 55.4, 82.4]\n"
          ]
        }
      ]
    },
    {
      "cell_type": "code",
      "source": [
        "#10.Create a Python program that uses filter() to remove all the vowels from a given string.\n",
        "# Function to check if a character is NOT a vowel\n",
        "def is_not_vowel(ch):\n",
        " vowels = \"aeiouAEIOU\"\n",
        " return ch not in vowels\n",
        "  # Input string\n",
        "text = \"Hello, This is ram\"\n",
        " # Using filter() to remove vowels\n",
        "result = ''.join(filter(is_not_vowel, text))\n",
        "print(\"Original String:\", text)\n",
        "print(\"After Removing Vowels:\", result)"
      ],
      "metadata": {
        "colab": {
          "base_uri": "https://localhost:8080/"
        },
        "id": "D_4QVuUZ6Abi",
        "outputId": "b4d278fa-bb84-422a-cafe-dcdb1ddd3bac"
      },
      "execution_count": 58,
      "outputs": [
        {
          "output_type": "stream",
          "name": "stdout",
          "text": [
            "Original String: Hello, This is ram\n",
            "After Removing Vowels: Hll, Ths s rm\n"
          ]
        }
      ]
    },
    {
      "cell_type": "code",
      "source": [
        "#11.\n",
        "orders = [\n",
        "    [34587, \"Learning Python, Mark Lutz\", 4, 40.95],\n",
        "    [98762, \"Programming Python, Mark Lutz\", 5, 56.80],\n",
        "    [77226, \"Head First Python, Paul Barry\", 3, 32.95],\n",
        "    [88112, \"Einführung in Python3, Bernd Klein\", 3, 24.99]\n",
        "]\n",
        "\n",
        "# Function to calculate the adjusted order value\n",
        "calculate_adjusted_value = lambda order: (\n",
        "    order[0],  # Order Number\n",
        "    (order[2] * order[3]) + (10 if (order[2] * order[3]) < 100 else 0) # Adjusted Product\n",
        ")\n",
        "\n",
        "# Apply the lambda function to each order using map\n",
        "adjusted_orders = list(map(calculate_adjusted_value, orders))\n",
        "\n",
        "# Print the result\n",
        "print(adjusted_orders)"
      ],
      "metadata": {
        "colab": {
          "base_uri": "https://localhost:8080/"
        },
        "id": "j3ZL-ZXL6rRP",
        "outputId": "cb0759fd-4f8d-4ef3-f4fc-29bb306b051b"
      },
      "execution_count": 60,
      "outputs": [
        {
          "output_type": "stream",
          "name": "stdout",
          "text": [
            "[(34587, 163.8), (98762, 284.0), (77226, 108.85000000000001), (88112, 84.97)]\n"
          ]
        }
      ]
    },
    {
      "cell_type": "code",
      "source": [],
      "metadata": {
        "id": "HBcZPtOC7lBO"
      },
      "execution_count": null,
      "outputs": []
    }
  ]
}